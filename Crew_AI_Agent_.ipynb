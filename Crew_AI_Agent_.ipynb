{
  "nbformat": 4,
  "nbformat_minor": 0,
  "metadata": {
    "colab": {
      "provenance": []
    },
    "kernelspec": {
      "name": "python3",
      "display_name": "Python 3"
    },
    "language_info": {
      "name": "python"
    }
  },
  "cells": [
    {
      "cell_type": "code",
      "source": [
        "###### 3 different use cases"
      ],
      "metadata": {
        "id": "mpBG1-lEReud"
      },
      "execution_count": null,
      "outputs": []
    },
    {
      "cell_type": "code",
      "execution_count": null,
      "metadata": {
        "colab": {
          "base_uri": "https://localhost:8080/"
        },
        "id": "1HM3Bsn-2Iqr",
        "outputId": "56008346-38ef-44f3-b7da-c4c9c8a8556a"
      },
      "outputs": [
        {
          "output_type": "stream",
          "name": "stdout",
          "text": [
            "\u001b[2K     \u001b[90m━━━━━━━━━━━━━━━━━━━━━━━━━━━━━━━━━━━━━━━━\u001b[0m \u001b[32m42.8/42.8 kB\u001b[0m \u001b[31m1.9 MB/s\u001b[0m eta \u001b[36m0:00:00\u001b[0m\n",
            "\u001b[2K     \u001b[90m━━━━━━━━━━━━━━━━━━━━━━━━━━━━━━━━━━━━━━━━\u001b[0m \u001b[32m67.3/67.3 kB\u001b[0m \u001b[31m3.3 MB/s\u001b[0m eta \u001b[36m0:00:00\u001b[0m\n",
            "\u001b[?25h  Installing build dependencies ... \u001b[?25l\u001b[?25hdone\n",
            "  Getting requirements to build wheel ... \u001b[?25l\u001b[?25hdone\n",
            "  Preparing metadata (pyproject.toml) ... \u001b[?25l\u001b[?25hdone\n",
            "\u001b[2K     \u001b[90m━━━━━━━━━━━━━━━━━━━━━━━━━━━━━━━━━━━━━━━━\u001b[0m \u001b[32m48.2/48.2 kB\u001b[0m \u001b[31m3.2 MB/s\u001b[0m eta \u001b[36m0:00:00\u001b[0m\n",
            "\u001b[2K   \u001b[90m━━━━━━━━━━━━━━━━━━━━━━━━━━━━━━━━━━━━━━━━\u001b[0m \u001b[32m318.6/318.6 kB\u001b[0m \u001b[31m11.6 MB/s\u001b[0m eta \u001b[36m0:00:00\u001b[0m\n",
            "\u001b[2K   \u001b[90m━━━━━━━━━━━━━━━━━━━━━━━━━━━━━━━━━━━━━━━━\u001b[0m \u001b[32m7.7/7.7 MB\u001b[0m \u001b[31m72.9 MB/s\u001b[0m eta \u001b[36m0:00:00\u001b[0m\n",
            "\u001b[2K   \u001b[90m━━━━━━━━━━━━━━━━━━━━━━━━━━━━━━━━━━━━━━━━\u001b[0m \u001b[32m647.0/647.0 kB\u001b[0m \u001b[31m35.4 MB/s\u001b[0m eta \u001b[36m0:00:00\u001b[0m\n",
            "\u001b[2K   \u001b[90m━━━━━━━━━━━━━━━━━━━━━━━━━━━━━━━━━━━━━━━━\u001b[0m \u001b[32m135.3/135.3 kB\u001b[0m \u001b[31m7.6 MB/s\u001b[0m eta \u001b[36m0:00:00\u001b[0m\n",
            "\u001b[2K   \u001b[90m━━━━━━━━━━━━━━━━━━━━━━━━━━━━━━━━━━━━━━━━\u001b[0m \u001b[32m19.0/19.0 MB\u001b[0m \u001b[31m58.4 MB/s\u001b[0m eta \u001b[36m0:00:00\u001b[0m\n",
            "\u001b[2K   \u001b[90m━━━━━━━━━━━━━━━━━━━━━━━━━━━━━━━━━━━━━━━━\u001b[0m \u001b[32m94.9/94.9 kB\u001b[0m \u001b[31m6.3 MB/s\u001b[0m eta \u001b[36m0:00:00\u001b[0m\n",
            "\u001b[2K   \u001b[90m━━━━━━━━━━━━━━━━━━━━━━━━━━━━━━━━━━━━━━━━\u001b[0m \u001b[32m94.6/94.6 kB\u001b[0m \u001b[31m5.9 MB/s\u001b[0m eta \u001b[36m0:00:00\u001b[0m\n",
            "\u001b[2K   \u001b[90m━━━━━━━━━━━━━━━━━━━━━━━━━━━━━━━━━━━━━━━━\u001b[0m \u001b[32m345.6/345.6 kB\u001b[0m \u001b[31m20.2 MB/s\u001b[0m eta \u001b[36m0:00:00\u001b[0m\n",
            "\u001b[2K   \u001b[90m━━━━━━━━━━━━━━━━━━━━━━━━━━━━━━━━━━━━━━━━\u001b[0m \u001b[32m65.8/65.8 kB\u001b[0m \u001b[31m4.2 MB/s\u001b[0m eta \u001b[36m0:00:00\u001b[0m\n",
            "\u001b[2K   \u001b[90m━━━━━━━━━━━━━━━━━━━━━━━━━━━━━━━━━━━━━━━━\u001b[0m \u001b[32m55.9/55.9 kB\u001b[0m \u001b[31m3.8 MB/s\u001b[0m eta \u001b[36m0:00:00\u001b[0m\n",
            "\u001b[2K   \u001b[90m━━━━━━━━━━━━━━━━━━━━━━━━━━━━━━━━━━━━━━━━\u001b[0m \u001b[32m119.0/119.0 kB\u001b[0m \u001b[31m8.0 MB/s\u001b[0m eta \u001b[36m0:00:00\u001b[0m\n",
            "\u001b[2K   \u001b[90m━━━━━━━━━━━━━━━━━━━━━━━━━━━━━━━━━━━━━━━━\u001b[0m \u001b[32m194.9/194.9 kB\u001b[0m \u001b[31m12.1 MB/s\u001b[0m eta \u001b[36m0:00:00\u001b[0m\n",
            "\u001b[2K   \u001b[90m━━━━━━━━━━━━━━━━━━━━━━━━━━━━━━━━━━━━━━━━\u001b[0m \u001b[32m60.2/60.2 kB\u001b[0m \u001b[31m3.9 MB/s\u001b[0m eta \u001b[36m0:00:00\u001b[0m\n",
            "\u001b[2K   \u001b[90m━━━━━━━━━━━━━━━━━━━━━━━━━━━━━━━━━━━━━━━━\u001b[0m \u001b[32m5.6/5.6 MB\u001b[0m \u001b[31m89.5 MB/s\u001b[0m eta \u001b[36m0:00:00\u001b[0m\n",
            "\u001b[2K   \u001b[90m━━━━━━━━━━━━━━━━━━━━━━━━━━━━━━━━━━━━━━━━\u001b[0m \u001b[32m756.0/756.0 kB\u001b[0m \u001b[31m33.3 MB/s\u001b[0m eta \u001b[36m0:00:00\u001b[0m\n",
            "\u001b[2K   \u001b[90m━━━━━━━━━━━━━━━━━━━━━━━━━━━━━━━━━━━━━━━━\u001b[0m \u001b[32m236.0/236.0 kB\u001b[0m \u001b[31m13.4 MB/s\u001b[0m eta \u001b[36m0:00:00\u001b[0m\n",
            "\u001b[2K   \u001b[90m━━━━━━━━━━━━━━━━━━━━━━━━━━━━━━━━━━━━━━━━\u001b[0m \u001b[32m17.5/17.5 MB\u001b[0m \u001b[31m54.0 MB/s\u001b[0m eta \u001b[36m0:00:00\u001b[0m\n",
            "\u001b[2K   \u001b[90m━━━━━━━━━━━━━━━━━━━━━━━━━━━━━━━━━━━━━━━━\u001b[0m \u001b[32m284.2/284.2 kB\u001b[0m \u001b[31m16.9 MB/s\u001b[0m eta \u001b[36m0:00:00\u001b[0m\n",
            "\u001b[2K   \u001b[90m━━━━━━━━━━━━━━━━━━━━━━━━━━━━━━━━━━━━━━━━\u001b[0m \u001b[32m2.0/2.0 MB\u001b[0m \u001b[31m32.7 MB/s\u001b[0m eta \u001b[36m0:00:00\u001b[0m\n",
            "\u001b[2K   \u001b[90m━━━━━━━━━━━━━━━━━━━━━━━━━━━━━━━━━━━━━━━━\u001b[0m \u001b[32m101.6/101.6 kB\u001b[0m \u001b[31m6.8 MB/s\u001b[0m eta \u001b[36m0:00:00\u001b[0m\n",
            "\u001b[2K   \u001b[90m━━━━━━━━━━━━━━━━━━━━━━━━━━━━━━━━━━━━━━━━\u001b[0m \u001b[32m16.4/16.4 MB\u001b[0m \u001b[31m62.0 MB/s\u001b[0m eta \u001b[36m0:00:00\u001b[0m\n",
            "\u001b[2K   \u001b[90m━━━━━━━━━━━━━━━━━━━━━━━━━━━━━━━━━━━━━━━━\u001b[0m \u001b[32m96.7/96.7 kB\u001b[0m \u001b[31m6.6 MB/s\u001b[0m eta \u001b[36m0:00:00\u001b[0m\n",
            "\u001b[2K   \u001b[90m━━━━━━━━━━━━━━━━━━━━━━━━━━━━━━━━━━━━━━━━\u001b[0m \u001b[32m2.9/2.9 MB\u001b[0m \u001b[31m68.3 MB/s\u001b[0m eta \u001b[36m0:00:00\u001b[0m\n",
            "\u001b[2K   \u001b[90m━━━━━━━━━━━━━━━━━━━━━━━━━━━━━━━━━━━━━━━━\u001b[0m \u001b[32m62.5/62.5 kB\u001b[0m \u001b[31m4.3 MB/s\u001b[0m eta \u001b[36m0:00:00\u001b[0m\n",
            "\u001b[2K   \u001b[90m━━━━━━━━━━━━━━━━━━━━━━━━━━━━━━━━━━━━━━━━\u001b[0m \u001b[32m459.8/459.8 kB\u001b[0m \u001b[31m27.6 MB/s\u001b[0m eta \u001b[36m0:00:00\u001b[0m\n",
            "\u001b[2K   \u001b[90m━━━━━━━━━━━━━━━━━━━━━━━━━━━━━━━━━━━━━━━━\u001b[0m \u001b[32m1.6/1.6 MB\u001b[0m \u001b[31m49.1 MB/s\u001b[0m eta \u001b[36m0:00:00\u001b[0m\n",
            "\u001b[2K   \u001b[90m━━━━━━━━━━━━━━━━━━━━━━━━━━━━━━━━━━━━━━━━\u001b[0m \u001b[32m71.5/71.5 kB\u001b[0m \u001b[31m5.0 MB/s\u001b[0m eta \u001b[36m0:00:00\u001b[0m\n",
            "\u001b[2K   \u001b[90m━━━━━━━━━━━━━━━━━━━━━━━━━━━━━━━━━━━━━━━━\u001b[0m \u001b[32m4.0/4.0 MB\u001b[0m \u001b[31m84.7 MB/s\u001b[0m eta \u001b[36m0:00:00\u001b[0m\n",
            "\u001b[2K   \u001b[90m━━━━━━━━━━━━━━━━━━━━━━━━━━━━━━━━━━━━━━━━\u001b[0m \u001b[32m454.8/454.8 kB\u001b[0m \u001b[31m26.0 MB/s\u001b[0m eta \u001b[36m0:00:00\u001b[0m\n",
            "\u001b[2K   \u001b[90m━━━━━━━━━━━━━━━━━━━━━━━━━━━━━━━━━━━━━━━━\u001b[0m \u001b[32m46.0/46.0 kB\u001b[0m \u001b[31m3.1 MB/s\u001b[0m eta \u001b[36m0:00:00\u001b[0m\n",
            "\u001b[2K   \u001b[90m━━━━━━━━━━━━━━━━━━━━━━━━━━━━━━━━━━━━━━━━\u001b[0m \u001b[32m86.8/86.8 kB\u001b[0m \u001b[31m5.7 MB/s\u001b[0m eta \u001b[36m0:00:00\u001b[0m\n",
            "\u001b[?25h  Building wheel for pypika (pyproject.toml) ... \u001b[?25l\u001b[?25hdone\n"
          ]
        }
      ],
      "source": [
        "# Install required packages\n",
        "!pip install --quiet crewai openai langchain\n",
        "\n",
        "# Import required modules\n",
        "from crewai import Agent, Task, Crew\n",
        "import os"
      ]
    },
    {
      "cell_type": "code",
      "source": [
        "# Install required packages\n",
        "!pip install --quiet crewai openai langchain langchain-community\n",
        "\n",
        "# Import required modules\n",
        "from crewai import Agent, Task, Crew\n",
        "import os\n",
        "from langchain.chat_models import ChatAnthropic"
      ],
      "metadata": {
        "colab": {
          "base_uri": "https://localhost:8080/"
        },
        "id": "dEMjvn4v5A4g",
        "outputId": "2670c61b-3322-4ab8-cb27-6ec49d31cb70"
      },
      "execution_count": null,
      "outputs": [
        {
          "output_type": "stream",
          "name": "stdout",
          "text": [
            "\u001b[2K   \u001b[90m━━━━━━━━━━━━━━━━━━━━━━━━━━━━━━━━━━━━━━━━\u001b[0m \u001b[32m2.5/2.5 MB\u001b[0m \u001b[31m26.3 MB/s\u001b[0m eta \u001b[36m0:00:00\u001b[0m\n",
            "\u001b[2K   \u001b[90m━━━━━━━━━━━━━━━━━━━━━━━━━━━━━━━━━━━━━━━━\u001b[0m \u001b[32m44.4/44.4 kB\u001b[0m \u001b[31m2.6 MB/s\u001b[0m eta \u001b[36m0:00:00\u001b[0m\n",
            "\u001b[2K   \u001b[90m━━━━━━━━━━━━━━━━━━━━━━━━━━━━━━━━━━━━━━━━\u001b[0m \u001b[32m50.9/50.9 kB\u001b[0m \u001b[31m3.4 MB/s\u001b[0m eta \u001b[36m0:00:00\u001b[0m\n",
            "\u001b[?25h"
          ]
        }
      ]
    },
    {
      "cell_type": "code",
      "source": [
        "# ✅ Install the updated LangChain Claude support\n",
        "!pip install --quiet langchain-anthropic\n",
        "\n",
        "# ✅ Set your Claude API key\n",
        "import os\n",
        "from getpass import getpass\n",
        "\n",
        "os.environ[\"ANTHROPIC_API_KEY\"] = getpass(\"🔑 Enter your Anthropic API Key: \")"
      ],
      "metadata": {
        "colab": {
          "base_uri": "https://localhost:8080/"
        },
        "id": "w-s6FUxX8Kcg",
        "outputId": "369b63fe-0787-4238-9ce0-e5e93a3e9225"
      },
      "execution_count": null,
      "outputs": [
        {
          "name": "stdout",
          "output_type": "stream",
          "text": [
            "\u001b[?25l   \u001b[90m━━━━━━━━━━━━━━━━━━━━━━━━━━━━━━━━━━━━━━━━\u001b[0m \u001b[32m0.0/286.1 kB\u001b[0m \u001b[31m?\u001b[0m eta \u001b[36m-:--:--\u001b[0m\r\u001b[2K   \u001b[91m━━━━━━━━━━━━━━━━━━━━━━━━━━━━━━━━━━━━━━\u001b[0m\u001b[91m╸\u001b[0m\u001b[90m━\u001b[0m \u001b[32m276.5/286.1 kB\u001b[0m \u001b[31m12.2 MB/s\u001b[0m eta \u001b[36m0:00:01\u001b[0m\r\u001b[2K   \u001b[90m━━━━━━━━━━━━━━━━━━━━━━━━━━━━━━━━━━━━━━━━\u001b[0m \u001b[32m286.1/286.1 kB\u001b[0m \u001b[31m7.6 MB/s\u001b[0m eta \u001b[36m0:00:00\u001b[0m\n",
            "\u001b[?25h🔑 Enter your Anthropic API Key: ··········\n"
          ]
        }
      ]
    },
    {
      "cell_type": "code",
      "source": [
        "\"\"\"Task 1: Researching AI in Education (Researcher Agent)\n",
        "What it does:\n",
        "Investigates the latest real-world applications of AI in education, such as:\n",
        "\n",
        "AI-powered tutoring tools\n",
        "\n",
        "Classroom automation systems\n",
        "\n",
        "Administrative AI use cases\n",
        "\n",
        "Learning personalization platforms\n",
        "\n",
        "Goal:\n",
        "Produce a bullet-point summary of 3–5 practical examples that show how AI is currently transforming the educational sector\"\"\""
      ],
      "metadata": {
        "colab": {
          "base_uri": "https://localhost:8080/",
          "height": 70
        },
        "id": "rmiqhHIQRiOw",
        "outputId": "dc0b38f2-6969-42bf-8ae6-ee8068f1a272"
      },
      "execution_count": null,
      "outputs": [
        {
          "output_type": "execute_result",
          "data": {
            "text/plain": [
              "'Task 1: Researching AI in Education (Researcher Agent)\\nWhat it does:\\nInvestigates the latest real-world applications of AI in education, such as:\\n\\nAI-powered tutoring tools\\n\\nClassroom automation systems\\n\\nAdministrative AI use cases\\n\\nLearning personalization platforms\\n\\nGoal:\\nProduce a bullet-point summary of 3–5 practical examples that show how AI is currently transforming the educational sector'"
            ],
            "application/vnd.google.colaboratory.intrinsic+json": {
              "type": "string"
            }
          },
          "metadata": {},
          "execution_count": 26
        }
      ]
    },
    {
      "cell_type": "code",
      "source": [
        "# ✅ Now import from the updated location\n",
        "from langchain_anthropic import ChatAnthropic\n",
        "from crewai import Agent\n",
        "\n",
        "# ✅ Setup Claude LLM\n",
        "llm_claude = ChatAnthropic(model=\"claude-3-opus-20240229\")\n",
        "\n",
        "# ✅ Define Agents\n",
        "researcher = Agent(\n",
        "    role=\"AI Researcher\",\n",
        "    goal=\"Find accurate and up-to-date information about the impact of AI on education\",\n",
        "    backstory=\"You're an expert in collecting factual, recent research findings on how AI is transforming schools and learning.\",\n",
        "    llm=llm_claude,\n",
        "    verbose=False\n",
        ")\n",
        "\n",
        "writer = Agent(\n",
        "    role=\"Article Writer\",\n",
        "    goal=\"Write a clear and concise blog article based on provided research\",\n",
        "    backstory=\"You are a skilled writer who can turn technical findings into engaging, reader-friendly content.\",\n",
        "    llm=llm_claude,\n",
        "    verbose=False\n",
        ")"
      ],
      "metadata": {
        "id": "JGa0FMxC37fX"
      },
      "execution_count": null,
      "outputs": []
    },
    {
      "cell_type": "code",
      "source": [
        "from crewai import Task, Crew\n",
        "\n",
        "# Define Task 1: Researching with Claude\n",
        "research_task = Task(\n",
        "    description=(\n",
        "        \"Investigate the latest developments in AI for education. \"\n",
        "        \"Find real-world examples of how AI is used in classrooms, tutoring, and administration.\"\n",
        "    ),\n",
        "    agent=researcher,\n",
        "    expected_output=\"A concise bullet-point summary of 3–5 recent AI applications in education.\"\n",
        ")\n",
        "\n",
        "# Define Task 2: Writing with Claude\n",
        "writing_task = Task(\n",
        "    description=(\n",
        "        \"Using the research summary, write a short 150-word article titled \"\n",
        "        \"'How AI is Transforming Education Today' for a blog audience.\"\n",
        "    ),\n",
        "    agent=writer,\n",
        "    expected_output=\"A brief, well-structured blog article based on the research findings.\"\n",
        ")\n",
        "\n",
        "# Create and run the Crew\n",
        "crew = Crew(\n",
        "    agents=[researcher, writer],\n",
        "    tasks=[research_task, writing_task],\n",
        "    verbose=False\n",
        ")\n",
        "\n",
        "# Run the crew and display the result\n",
        "result = crew.kickoff()\n",
        "print(\"\\n📝 Final Output:\\n\")\n",
        "print(result)"
      ],
      "metadata": {
        "colab": {
          "base_uri": "https://localhost:8080/"
        },
        "id": "5VIcfpifOF8Y",
        "outputId": "620813b7-c706-419e-8a2a-21c8f6d6ee59"
      },
      "execution_count": null,
      "outputs": [
        {
          "output_type": "stream",
          "name": "stdout",
          "text": [
            "\n",
            "📝 Final Output:\n",
            "\n",
            "Here is the 150-word blog article based on the provided research summary:\n",
            "\n",
            "How AI is Transforming Education Today\n",
            "\n",
            "Artificial intelligence is rapidly transforming the education landscape. AI-powered intelligent tutoring systems like MATHia and Squirrel AI are providing personalized instruction tailored to each student's unique needs. Automated essay scoring software can now grade and give feedback on written assignments almost instantly. \n",
            "\n",
            "Behind the scenes, AI is optimizing curriculum design, mapping out relationships between concepts and recommending the most relevant learning materials to teachers. Predictive analytics are enabling schools to identify at-risk students early and intervene proactively.\n",
            "\n",
            "From chatbots answering student questions to machine learning models optimizing course schedules and campus energy usage, AI is automating routine administrative tasks and making schools smarter. While still in the early stages, AI is already demonstrating immense potential to improve educational outcomes, expand access, and help educators work more efficiently. With ongoing research and responsible deployment, AI promises to be a game-changing technology for education in the 21st century.\n"
          ]
        }
      ]
    },
    {
      "cell_type": "code",
      "source": [
        "from IPython.display import Markdown, display\n",
        "\n",
        "# Format output with Markdown styling\n",
        "pretty_output = f\"\"\"\n",
        "## 📝 Final Blog Article\n",
        "### 📌 Title: *How AI is Transforming Education Today*\n",
        "---\n",
        "\n",
        "{str(result).strip()}\n",
        "\n",
        "---\n",
        "\n",
        "*Generated by Claude Agents using CrewAI.*\n",
        "\"\"\"\n",
        "\n",
        "# Display with styling\n",
        "display(Markdown(pretty_output))"
      ],
      "metadata": {
        "colab": {
          "base_uri": "https://localhost:8080/",
          "height": 350
        },
        "id": "8cQdgY_ePP_M",
        "outputId": "e5f1a539-b2d0-46ca-8618-663ce79ab442"
      },
      "execution_count": null,
      "outputs": [
        {
          "output_type": "display_data",
          "data": {
            "text/plain": [
              "<IPython.core.display.Markdown object>"
            ],
            "text/markdown": "\n## 📝 Final Blog Article  \n### 📌 Title: *How AI is Transforming Education Today*  \n---\n\nHere is the 150-word blog article based on the provided research summary:\n\nHow AI is Transforming Education Today\n\nArtificial intelligence is rapidly transforming the education landscape. AI-powered intelligent tutoring systems like MATHia and Squirrel AI are providing personalized instruction tailored to each student's unique needs. Automated essay scoring software can now grade and give feedback on written assignments almost instantly. \n\nBehind the scenes, AI is optimizing curriculum design, mapping out relationships between concepts and recommending the most relevant learning materials to teachers. Predictive analytics are enabling schools to identify at-risk students early and intervene proactively.\n\nFrom chatbots answering student questions to machine learning models optimizing course schedules and campus energy usage, AI is automating routine administrative tasks and making schools smarter. While still in the early stages, AI is already demonstrating immense potential to improve educational outcomes, expand access, and help educators work more efficiently. With ongoing research and responsible deployment, AI promises to be a game-changing technology for education in the 21st century.\n\n---\n\n*Generated by Claude Agents using CrewAI.*\n"
          },
          "metadata": {}
        }
      ]
    },
    {
      "cell_type": "code",
      "source": [
        "\"\"\"  ################ Use Case 2\n",
        "\n",
        "Startup Ideator Agent – comes up with a creative business idea based on a given sector (e.g., EdTech, HealthTech).\n",
        "\n",
        "Pitch Writer Agent – writes a one-paragraph startup pitch for investors. \"\"\""
      ],
      "metadata": {
        "colab": {
          "base_uri": "https://localhost:8080/",
          "height": 53
        },
        "id": "MZG4xbGuP210",
        "outputId": "76d28ffa-99b9-48e4-afc9-3f7f0e5e9e6c"
      },
      "execution_count": null,
      "outputs": [
        {
          "output_type": "execute_result",
          "data": {
            "text/plain": [
              "'  ################ Use Case 2\\n\\nStartup Ideator Agent – comes up with a creative business idea based on a given sector (e.g., EdTech, HealthTech).\\n\\nPitch Writer Agent – writes a one-paragraph startup pitch for investors. '"
            ],
            "application/vnd.google.colaboratory.intrinsic+json": {
              "type": "string"
            }
          },
          "metadata": {},
          "execution_count": 15
        }
      ]
    },
    {
      "cell_type": "code",
      "source": [
        "# Define two new agents\n",
        "startup_ideator = Agent(\n",
        "    role=\"Startup Ideator\",\n",
        "    goal=\"Create an innovative startup idea in the EdTech sector\",\n",
        "    backstory=\"You're a venture analyst with expertise in identifying profitable ideas based on current market gaps.\",\n",
        "    llm=llm_claude,\n",
        "    verbose=False\n",
        ")\n",
        "\n",
        "pitch_writer = Agent(\n",
        "    role=\"Pitch Deck Writer\",\n",
        "    goal=\"Write a compelling one-paragraph startup pitch for investors\",\n",
        "    backstory=\"You're an expert at communicating startup ideas clearly and persuasively to potential stakeholders.\",\n",
        "    llm=llm_claude,\n",
        "    verbose=False\n",
        ")\n",
        "\n",
        "# Create tasks\n",
        "ideation_task = Task(\n",
        "    description=(\n",
        "        \"Generate a unique startup idea in the EdTech space. \"\n",
        "        \"It should address a real-world learning problem and propose a technology-based solution.\"\n",
        "    ),\n",
        "    agent=startup_ideator,\n",
        "    expected_output=\"A short description of the startup idea with its target market, pain point, and solution.\"\n",
        ")\n",
        "\n",
        "pitch_task = Task(\n",
        "    description=(\n",
        "        \"Using the startup idea, write a one-paragraph pitch for a slide deck targeting early-stage investors.\"\n",
        "    ),\n",
        "    agent=pitch_writer,\n",
        "    expected_output=\"A polished investor pitch paragraph explaining the value proposition.\"\n",
        ")\n",
        "\n",
        "# Create and run the crew\n",
        "crew2 = Crew(\n",
        "    agents=[startup_ideator, pitch_writer],\n",
        "    tasks=[ideation_task, pitch_task],\n",
        "    verbose=False\n",
        ")\n",
        "\n",
        "print(\"🚀 Running Startup Pitch Assistant Crew...\")\n",
        "startup_result = crew2.kickoff()"
      ],
      "metadata": {
        "colab": {
          "base_uri": "https://localhost:8080/"
        },
        "id": "e3M3VlkXQAee",
        "outputId": "9147602a-c40a-4417-8160-8de6287b1a39"
      },
      "execution_count": null,
      "outputs": [
        {
          "output_type": "stream",
          "name": "stdout",
          "text": [
            "🚀 Running Startup Pitch Assistant Crew...\n"
          ]
        }
      ]
    },
    {
      "cell_type": "code",
      "source": [
        "from IPython.display import Markdown, display\n",
        "\n",
        "pitch_output = f\"\"\"\n",
        "## 🚀 Startup Pitch Output\n",
        "### 💡 Idea: *AI-Powered EdTech Startup*\n",
        "---\n",
        "\n",
        "{str(startup_result).strip()}\n",
        "\n",
        "---\n",
        "\n",
        "*Generated collaboratively by Claude-powered agents using CrewAI.*\n",
        "\"\"\"\n",
        "display(Markdown(pitch_output))"
      ],
      "metadata": {
        "colab": {
          "base_uri": "https://localhost:8080/",
          "height": 257
        },
        "id": "4Ghi2CcmQIK5",
        "outputId": "dc592822-b882-4b47-d2c1-db2badabe30a"
      },
      "execution_count": null,
      "outputs": [
        {
          "output_type": "display_data",
          "data": {
            "text/plain": [
              "<IPython.core.display.Markdown object>"
            ],
            "text/markdown": "\n## 🚀 Startup Pitch Output  \n### 💡 Idea: *AI-Powered EdTech Startup*  \n---\n\nMentorMatch is revolutionizing career guidance for students by harnessing the power of AI to connect them with dedicated industry mentors. Our platform solves the critical problem of students lacking access to personalized, actionable advice in choosing and pursuing their ideal career paths. By matching each student with vetted professionals based on their unique interests, skills, and aspirations, MentorMatch provides an unparalleled mentorship experience. Through secure video chat, goal-tracking tools, and curated resources, students receive invaluable insights and support to navigate their journeys with clarity and confidence. With MentorMatch, we're bridging the gap between education and real-world success, empowering the next generation of leaders. As we scale our AI-driven platform, we invite you to join us in shaping brighter futures, one mentorship at a time.\n\n---\n\n*Generated collaboratively by Claude-powered agents using CrewAI.*\n"
          },
          "metadata": {}
        }
      ]
    },
    {
      "cell_type": "code",
      "source": [
        "\"\"\"Use Case 3: Personal Travel Planning Assistant\n",
        "🧠 Scenario:\n",
        "A user wants to plan a 3-day budget-friendly trip to Seoul, and wants:\n",
        "\n",
        "An optimized itinerary\n",
        "\n",
        "A friendly travel blog summary\n",
        "\n",
        "🤖 Agents:\n",
        "Itinerary Planner Agent – creates a realistic 3-day trip plan.\n",
        "\n",
        "Travel Blogger Agent – writes a short, engaging blog-style summary of the trip.\"\"\""
      ],
      "metadata": {
        "colab": {
          "base_uri": "https://localhost:8080/",
          "height": 53
        },
        "id": "fGZO0wFYQSHY",
        "outputId": "126af5e9-c5b6-4ea7-9783-209c3a088231"
      },
      "execution_count": null,
      "outputs": [
        {
          "output_type": "execute_result",
          "data": {
            "text/plain": [
              "'Use Case 3: Personal Travel Planning Assistant\\n🧠 Scenario:\\nA user wants to plan a 3-day budget-friendly trip to Seoul, and wants:\\n\\nAn optimized itinerary\\n\\nA friendly travel blog summary\\n\\n🤖 Agents:\\nItinerary Planner Agent – creates a realistic 3-day trip plan.\\n\\nTravel Blogger Agent – writes a short, engaging blog-style summary of the trip.'"
            ],
            "application/vnd.google.colaboratory.intrinsic+json": {
              "type": "string"
            }
          },
          "metadata": {},
          "execution_count": 20
        }
      ]
    },
    {
      "cell_type": "code",
      "source": [
        "# Agents for Seoul travel use case\n",
        "seoul_planner = Agent(\n",
        "    role=\"Seoul Itinerary Planner\",\n",
        "    goal=\"Plan a 3-day budget-friendly solo trip in Seoul\",\n",
        "    backstory=\"You're an expert travel planner focused on maximizing cultural experience on a small budget in South Korea.\",\n",
        "    llm=llm_claude,\n",
        "    verbose=False\n",
        ")\n",
        "\n",
        "bilingual_blogger = Agent(\n",
        "    role=\"Bilingual Travel Blogger\",\n",
        "    goal=\"Write a travel blog summary in both English and Korean\",\n",
        "    backstory=\"You're a professional bilingual blogger who writes travel stories for global and Korean audiences alike.\",\n",
        "    llm=llm_claude,\n",
        "    verbose=False\n",
        ")"
      ],
      "metadata": {
        "id": "JbOi_iaOQmCW"
      },
      "execution_count": null,
      "outputs": []
    },
    {
      "cell_type": "code",
      "source": [
        "# Travel planning task\n",
        "seoul_task = Task(\n",
        "    description=(\n",
        "        \"Create a 3-day itinerary for a solo traveler visiting Seoul, South Korea. \"\n",
        "        \"Ensure it includes budget-friendly food, sightseeing, and cultural experiences.\"\n",
        "    ),\n",
        "    agent=seoul_planner,\n",
        "    expected_output=\"A detailed morning-afternoon-evening itinerary for each day with budget-friendly recommendations.\"\n",
        ")\n",
        "\n",
        "# Bilingual blogging task\n",
        "bilingual_task = Task(\n",
        "    description=(\n",
        "        \"Using the itinerary, write a short 200-word blog post that describes the Seoul trip in a personal tone. \"\n",
        "        \"Output both an English and Korean version of the blog post.\"\n",
        "    ),\n",
        "    agent=bilingual_blogger,\n",
        "    expected_output=\"A 200-word blog summary in English and its Korean translation, formatted clearly.\"\n",
        ")"
      ],
      "metadata": {
        "id": "M8NjGoYaQzwo"
      },
      "execution_count": null,
      "outputs": []
    },
    {
      "cell_type": "code",
      "source": [
        "# Assemble and run the CrewAI workflow\n",
        "crew_seoul = Crew(\n",
        "    agents=[seoul_planner, bilingual_blogger],\n",
        "    tasks=[seoul_task, bilingual_task],\n",
        "    verbose=False\n",
        ")\n",
        "\n",
        "print(\"🌆 Planning 3-day trip to Seoul with bilingual summary...\")\n",
        "seoul_result = crew_seoul.kickoff()"
      ],
      "metadata": {
        "colab": {
          "base_uri": "https://localhost:8080/"
        },
        "id": "6VWHucrnQ3Oo",
        "outputId": "a05c6bfd-1b04-43bd-994f-eb989471fba4"
      },
      "execution_count": null,
      "outputs": [
        {
          "output_type": "stream",
          "name": "stdout",
          "text": [
            "🌆 Planning 3-day trip to Seoul with bilingual summary...\n"
          ]
        }
      ]
    },
    {
      "cell_type": "code",
      "source": [
        "from IPython.display import Markdown, display\n",
        "\n",
        "formatted_seoul_trip = f\"\"\"\n",
        "## 🇰🇷 Seoul 3-Day Travel Itinerary & Bilingual Blog\n",
        "### 🎒 *Solo Budget Adventure in South Korea*\n",
        "---\n",
        "\n",
        "{str(seoul_result).strip()}\n",
        "\n",
        "---\n",
        "\n",
        "✍️ *Written by Claude agents with CrewAI — in English and Korean.*\n",
        "\"\"\"\n",
        "\n",
        "display(Markdown(formatted_seoul_trip))"
      ],
      "metadata": {
        "colab": {
          "base_uri": "https://localhost:8080/",
          "height": 524
        },
        "id": "zoB4UrxwQ6NW",
        "outputId": "32692d09-6a63-472e-dd80-488f1d525f37"
      },
      "execution_count": null,
      "outputs": [
        {
          "output_type": "display_data",
          "data": {
            "text/plain": [
              "<IPython.core.display.Markdown object>"
            ],
            "text/markdown": "\n## 🇰🇷 Seoul 3-Day Travel Itinerary & Bilingual Blog  \n### 🎒 *Solo Budget Adventure in South Korea*  \n---\n\nSeoul Steal: A Budget-Friendly Solo Trip to Korea's Capital\n\nSeoul, the vibrant capital of South Korea, is a city that seamlessly blends ancient tradition with cutting-edge modernity. As a budget-conscious solo traveler, I recently embarked on a 3-day adventure to explore the best of what Seoul has to offer without breaking the bank. From historic palaces and mountainside fortresses to trendy neighborhoods and sizzling street food, Seoul captivated me with its rich culture, friendly locals, and endless attractions. \n\nHighlights of my trip included strolling the charming alleys of Bukchon Hanok Village, hiking the picturesque trails of Bukhansan National Park, and learning about Korea's fascinating history at the DMZ and National Museum. I feasted on mouth-watering Korean dishes like bibimbap, samgyeopsal, and chimaek, all at wallet-friendly prices. Evenings were spent soaking up Seoul's electrifying energy in hip districts like Hongdae and Myeongdong.\n\nWith some savvy planning and smart choices, I discovered that a memorable solo trip to Seoul can easily be done on a modest budget of around ₩100,000 per day. Seoul truly has something for every type of traveler, and this gem of a city has definitely stolen a piece of my heart. I can't wait to return again someday to uncover more of Seoul's magic!\n\n서울 절약: 한국 수도로의 가성비 좋은 개인 여행\n\n한국의 활기찬 수도 서울은 고대 전통과 최첨단 현대성이 완벽하게 조화를 이루는 도시입니다. 저는 최근 예산을 절약하면서도 서울이 제공하는 최고의 것들을 경험하기 위해 3일 간의 모험을 떠났습니다. 역사적인 궁궐과 산속 요새부터 트렌디한 동네와 맛있는 길거리 음식까지, 서울은 그 풍부한 문화와 친절한 현지인, 그리고 끝없는 볼거리로 저를 사로잡았습니다.\n\n제 여행의 하이라이트로는 북촌한옥마을의 매력적인 골목길을 거닐고, 북한산국립공원의 아름다운 등산로를 트레킹하고, DMZ와 국립중앙박물관에서 한국의 흥미로운 역사를 배우는 것 등이 있었습니다. 저는 지갑에 부담 없는 가격으로 비빔밥, 삼겹살, 치맥 등 군침 도는 한국 음식들을 맛보았습니다. 저녁에는 홍대와 명동 같은 힙한 동네들에서 서울의 활기찬 에너지를 느꼈습니다. \n\n약간의 영리한 계획과 현명한 선택으로, 저는 하루에 약 10만원 정도의 겸손한 예산으로도 서울에서의 기억에 남을 만한 혼자 여행이 가능하다는 것을 발견했습니다. 서울은 정말 모든 유형의 여행자를 위한 것이 있으며, 이 보석 같은 도시는 분명 제 마음의 한 조각을 훔쳐갔습니다. 서울의 마법을 더 많이 찾기 위해 언젠가 다시 돌아오기를 기대합니다!\n\n---\n\n✍️ *Written by Claude agents with CrewAI — in English and Korean.*\n"
          },
          "metadata": {}
        }
      ]
    }
  ]
}