{
  "nbformat": 4,
  "nbformat_minor": 0,
  "metadata": {
    "colab": {
      "provenance": []
    },
    "kernelspec": {
      "name": "python3",
      "display_name": "Python 3"
    },
    "language_info": {
      "name": "python"
    }
  },
  "cells": [
    {
      "cell_type": "code",
      "execution_count": 1,
      "metadata": {
        "id": "AbzJ6F1Ca9UF"
      },
      "outputs": [],
      "source": [
        "# student marks\n",
        "student_marks = [['Name', ['A','B','C','D','E']],\n",
        "                ['Ankit', [41, 34, 45, 55, 63]],\n",
        "                ['Aravind', [42, 23, 34, 44, 53]],\n",
        "                ['Lakshay', [32, 23, 13, 54, 67]],\n",
        "                ['Gyan', [23, 82, 23, 63, 34]],\n",
        "                ['Pranav', [21, 23, 25, 56, 56]]\n",
        "                ]"
      ]
    },
    {
      "cell_type": "code",
      "source": [
        "student_marks"
      ],
      "metadata": {
        "colab": {
          "base_uri": "https://localhost:8080/"
        },
        "id": "CiUM76JYbWfc",
        "outputId": "5f6879de-a58c-436e-a66d-6d3f174f22d2"
      },
      "execution_count": 2,
      "outputs": [
        {
          "output_type": "execute_result",
          "data": {
            "text/plain": [
              "[['Name', ['A', 'B', 'C', 'D', 'E']],\n",
              " ['Ankit', [41, 34, 45, 55, 63]],\n",
              " ['Aravind', [42, 23, 34, 44, 53]],\n",
              " ['Lakshay', [32, 23, 13, 54, 67]],\n",
              " ['Gyan', [23, 82, 23, 63, 34]],\n",
              " ['Pranav', [21, 23, 25, 56, 56]]]"
            ]
          },
          "metadata": {},
          "execution_count": 2
        }
      ]
    },
    {
      "cell_type": "code",
      "source": [
        "# Initialize variables to track highest score and corresponding student\n",
        "highest_score = 0\n",
        "highest_scorer = \"\"\n",
        "\n",
        "# Iterate through students (starting from index 1 to skip the header)\n",
        "for student in student_marks[1:]:\n",
        "    student_name = student[0]\n",
        "    # Subject B is at index 1 (second position) in the marks list\n",
        "    b_score = student[1][1]\n",
        "\n",
        "    if b_score > highest_score:\n",
        "        highest_score = b_score\n",
        "        highest_scorer = student_name\n",
        "\n",
        "print(f\"The student with the highest marks in Subject B is {highest_scorer} with a score of {highest_score}.\")"
      ],
      "metadata": {
        "colab": {
          "base_uri": "https://localhost:8080/"
        },
        "id": "DNBubSyqcBmo",
        "outputId": "a08602fc-bf13-45dc-8872-7ee0ee6d8985"
      },
      "execution_count": 5,
      "outputs": [
        {
          "output_type": "stream",
          "name": "stdout",
          "text": [
            "The student with the highest marks in Subject B is Gyan with a score of 82.\n"
          ]
        }
      ]
    },
    {
      "cell_type": "code",
      "source": [
        "# Initialize a variable to sum all subject C marks\n",
        "total_c_marks = 0\n",
        "# Count how many students we have\n",
        "num_students = 0\n",
        "\n",
        "# Iterate through each student (skipping the header row)\n",
        "for student in student_marks[1:]:\n",
        "    # Subject C is at index 2 (third position) in the marks list\n",
        "    c_mark = student[1][2]\n",
        "    total_c_marks += c_mark\n",
        "    num_students += 1\n",
        "\n",
        "# Calculate the average\n",
        "average_c_mark = total_c_marks / num_students\n",
        "\n",
        "print(f\"The average mark for Subject C is {average_c_mark}\")"
      ],
      "metadata": {
        "colab": {
          "base_uri": "https://localhost:8080/"
        },
        "id": "pcITYjX1c8AJ",
        "outputId": "c77364fc-5655-43b5-bf95-50f08666aa79"
      },
      "execution_count": 6,
      "outputs": [
        {
          "output_type": "stream",
          "name": "stdout",
          "text": [
            "The average mark for Subject C is 28.0\n"
          ]
        }
      ]
    },
    {
      "cell_type": "code",
      "source": [
        "# Initialize variables to track highest percentage and corresponding student\n",
        "highest_percentage = 0\n",
        "highest_scorer = \"\"\n",
        "\n",
        "# Iterate through students (starting from index 1 to skip the header)\n",
        "for student in student_marks[1:]:\n",
        "    student_name = student[0]\n",
        "    marks = student[1]\n",
        "\n",
        "    # Calculate total marks for this student\n",
        "    total_marks = sum(marks)\n",
        "\n",
        "    # Calculate percentage (assuming maximum possible mark is 100 per subject)\n",
        "    # If the max mark is different, adjust the denominator accordingly\n",
        "    percentage = (total_marks / (len(marks) * 100)) * 100\n",
        "\n",
        "    if percentage > highest_percentage:\n",
        "        highest_percentage = percentage\n",
        "        highest_scorer = student_name\n",
        "\n",
        "print(f\"The student with the highest percentage is {highest_scorer} with {highest_percentage:.2f}%\")"
      ],
      "metadata": {
        "colab": {
          "base_uri": "https://localhost:8080/"
        },
        "id": "J54dloyLdQlv",
        "outputId": "702780b5-52a7-4dfa-983d-fa271c342dad"
      },
      "execution_count": 7,
      "outputs": [
        {
          "output_type": "stream",
          "name": "stdout",
          "text": [
            "The student with the highest percentage is Ankit with 47.60%\n"
          ]
        }
      ]
    },
    {
      "cell_type": "code",
      "source": [
        "# Initialize variables to track highest percentage and corresponding student\n",
        "highest_percentage = 0\n",
        "highest_scorer = \"\"\n",
        "\n",
        "# Iterate through students (starting from index 1 to skip the header)\n",
        "for student in student_marks[1:]:\n",
        "    student_name = student[0]\n",
        "    marks = student[1]\n",
        "\n",
        "    # Sort marks in descending order\n",
        "    sorted_marks = sorted(marks, reverse=True)\n",
        "\n",
        "    # Take top 4 marks\n",
        "    top_four_marks = sorted_marks[:4]\n",
        "\n",
        "    # Calculate total of top 4 marks\n",
        "    total_marks = sum(top_four_marks)\n",
        "\n",
        "    # Calculate percentage (assuming maximum possible mark is 100 per subject)\n",
        "    percentage = (total_marks / (4 * 100)) * 100\n",
        "\n",
        "    print(f\"{student_name}'s top 4 marks: {top_four_marks}, percentage: {percentage:.2f}%\")\n",
        "\n",
        "    if percentage > highest_percentage:\n",
        "        highest_percentage = percentage\n",
        "        highest_scorer = student_name\n",
        "\n",
        "print(f\"\\nThe student with the highest percentage in their top 4 subjects is {highest_scorer} with {highest_percentage:.2f}%\")"
      ],
      "metadata": {
        "colab": {
          "base_uri": "https://localhost:8080/"
        },
        "id": "byWxfwxyePhs",
        "outputId": "d80228e0-5f96-42e1-beaf-d708c30b6b0c"
      },
      "execution_count": 8,
      "outputs": [
        {
          "output_type": "stream",
          "name": "stdout",
          "text": [
            "Ankit's top 4 marks: [63, 55, 45, 41], percentage: 51.00%\n",
            "Aravind's top 4 marks: [53, 44, 42, 34], percentage: 43.25%\n",
            "Lakshay's top 4 marks: [67, 54, 32, 23], percentage: 44.00%\n",
            "Gyan's top 4 marks: [82, 63, 34, 23], percentage: 50.50%\n",
            "Pranav's top 4 marks: [56, 56, 25, 23], percentage: 40.00%\n",
            "\n",
            "The student with the highest percentage in their top 4 subjects is Ankit with 51.00%\n"
          ]
        }
      ]
    }
  ]
}