{
 "cells": [
  {
   "cell_type": "code",
   "execution_count": 1,
   "metadata": {},
   "outputs": [
    {
     "name": "stdout",
     "output_type": "stream",
     "text": [
      "<class 'pandas.core.frame.DataFrame'>\n",
      "RangeIndex: 505 entries, 0 to 504\n",
      "Data columns (total 4 columns):\n",
      " #   Column         Non-Null Count  Dtype  \n",
      "---  ------         --------------  -----  \n",
      " 0   Age            505 non-null    int64  \n",
      " 1   Income         505 non-null    int64  \n",
      " 2   SpendingScore  505 non-null    float64\n",
      " 3   Savings        505 non-null    float64\n",
      "dtypes: float64(2), int64(2)\n",
      "memory usage: 15.9 KB\n"
     ]
    },
    {
     "data": {
      "text/plain": [
       "array([[-4.22871323e-02,  6.27330450e-02,  1.10359261e+00,\n",
       "        -1.07246676e+00],\n",
       "       [-8.21109365e-04,  1.74810526e-01,  1.10264136e+00,\n",
       "        -1.30347264e+00],\n",
       "       [ 1.23576959e-01, -2.11999168e-02,  7.61727378e-01,\n",
       "        -5.26555609e-01],\n",
       "       ...,\n",
       "       [ 1.28462560e+00, -1.11844679e+00, -5.78054216e-01,\n",
       "         8.55312852e-01],\n",
       "       [ 1.32609162e+00, -1.52492929e+00, -5.79865675e-01,\n",
       "         1.32245159e+00],\n",
       "       [ 1.24315958e+00, -1.25833506e+00, -8.31889622e-01,\n",
       "         5.10463046e-01]])"
      ]
     },
     "execution_count": 1,
     "metadata": {},
     "output_type": "execute_result"
    }
   ],
   "source": [
    "## Import all the libraries that I need to plot, scale my data and perform a DBSCAN, Hierarchical and KMeans clustering\n",
    "## I loaded the csv file onto my Jupyter notebook\n",
    "#I used df.info and df.head to see more info of my dataset as well as to see the first instances of my dataset\n",
    "# I scaled my data before I performed any clustering algorithm\n",
    "\n",
    "import numpy as np\n",
    "import pandas as pd\n",
    "import matplotlib.pyplot as plt\n",
    "from IPython.core.interactiveshell import InteractiveShell\n",
    "InteractiveShell.ast_node_interactivity=\"all\"\n",
    "df = pd.read_csv (r'C:\\Users\\rames\\OneDrive\\Escritorio\\MMA\\MMA 869 Machine Learning & Artificial Intelligence\\Individual Assignment\\jewelry_customers.csv')\n",
    "df.info()\n",
    "df.head()\n",
    "X=df.to_numpy()\n",
    "X.shape\n",
    "from sklearn.preprocessing import StandardScaler\n",
    "from sklearn.metrics import silhouette_score, silhouette_samples\n",
    "from sklearn.cluster import KMeans, DBSCAN, AgglomerativeClustering\n",
    "from sklearn.mixture import GaussianMixture\n",
    "scaler= StandardScaler()\n",
    "X=scaler.fit_transform(X)\n",
    "X\n"
   ]
  },
  {
   "cell_type": "code",
   "execution_count": 2,
   "metadata": {},
   "outputs": [
    {
     "data": {
      "image/png": "[encoded data removed]",
      "text/plain": [
       "<Figure size 432x288 with 1 Axes>"
      ]
     },
     "metadata": {
      "needs_background": "light"
     },
     "output_type": "display_data"
    },
    {
     "data": {
      "image/png": "[encoded data removed]",
      "text/plain": [
       "<Figure size 432x288 with 1 Axes>"
      ]
     },
     "metadata": {
      "needs_background": "light"
     },
     "output_type": "display_data"
    }
   ],
   "source": [
    "################ KMeans \n",
    "## I performed a KMeans clustering and decided to set a seed so that other individuals can replicate my numbers\n",
    "## I decided to make two plots to help me determine what the optimium number of clusters \n",
    "# I am looking to minumuze inertia while maximizing the silhouette score\n",
    "## The two plots show that 5 clusters yield the best results\n",
    "k_means = KMeans(n_clusters=5, random_state=29)\n",
    "k_means.fit(X)\n",
    "inertias = {}\n",
    "silhouettes = {}\n",
    "for k in range(2, 10):\n",
    "    kmeans = KMeans(n_clusters=k, random_state=29).fit(X)\n",
    "    inertias[k] = kmeans.inertia_ # Inertia: Sum of distances of samples to their closest cluster center\n",
    "    silhouettes[k] = silhouette_score(X, kmeans.labels_, metric='euclidean')\n",
    "    \n",
    "\n",
    "plt.figure();\n",
    "plt.plot(list(inertias.keys()), list(inertias.values()));\n",
    "plt.title('K-Means, Elbow Method')\n",
    "plt.xlabel(\"Number of clusters, K\");\n",
    "plt.ylabel(\"Inertia\");\n",
    "\n",
    "\n",
    "plt.figure();\n",
    "plt.plot(list(silhouettes.keys()), list(silhouettes.values()));\n",
    "plt.title('K-Means, Elbow Method')\n",
    "plt.xlabel(\"Number of clusters, K\");\n",
    "plt.ylabel(\"Silhouette\");"
   ]
  },
  {
   "cell_type": "code",
   "execution_count": 3,
   "metadata": {},
   "outputs": [
    {
     "data": {
      "text/plain": [
       "DBSCAN(algorithm='auto', eps=0.3, leaf_size=30, metric='euclidean',\n",
       "       metric_params=None, min_samples=5, n_jobs=None, p=None)"
      ]
     },
     "execution_count": 3,
     "metadata": {},
     "output_type": "execute_result"
    },
    {
     "data": {
      "text/plain": [
       "array([ 0,  0,  0,  0,  1,  2,  0,  1,  1,  1,  3,  4,  4,  4,  0,  3,  0,\n",
       "        1,  1,  3,  4,  3,  0,  1, -1,  2,  2,  0,  1,  0,  0,  0,  1,  0,\n",
       "        4,  0,  1,  0,  4,  4,  0,  1,  2,  0,  0,  2,  3,  2,  4,  0,  1,\n",
       "        4,  2,  1,  0,  1,  4,  1,  1,  1,  1,  1,  1,  0,  0,  0,  1,  2,\n",
       "        2,  0,  0,  4,  1,  1,  4,  0,  4,  0,  0,  2,  0, -1,  0,  1,  1,\n",
       "        4,  4,  0,  0,  0,  0,  0,  2,  1,  0,  2,  4,  0,  0,  4,  4,  2,\n",
       "        4,  2,  4,  1, -1,  4,  4,  0,  1,  4,  0,  4,  4,  4,  0,  4,  2,\n",
       "        1,  4,  1,  1,  1,  4,  3,  0,  1,  0,  0,  4,  0,  4,  0,  2,  1,\n",
       "        3,  2,  0,  4,  1,  0,  0,  2,  0,  2,  0,  3,  0,  1,  0,  4,  1,\n",
       "        0,  1,  3,  4,  0,  1,  0,  4,  1,  0,  4, -1,  4,  1,  0,  4,  0,\n",
       "        1,  0,  4,  0,  1,  0,  0,  1,  1,  1,  0,  0,  4,  2,  2,  1,  4,\n",
       "        0,  0,  0,  4,  1,  0,  0,  0,  1, -1,  4,  1,  1,  1,  4,  0,  4,\n",
       "        0,  4,  0,  1,  2,  0,  1,  1,  1,  1,  0,  1,  4,  2,  4,  1,  0,\n",
       "        0,  4,  1,  4,  2,  4,  0,  0,  1,  0,  0,  1,  0,  0,  0,  4,  0,\n",
       "        4,  4,  2,  0,  0,  0,  3,  0,  4,  1,  2, -1,  2,  1,  0,  4,  1,\n",
       "       -1,  4,  4,  0,  0,  3,  0,  0,  1,  0,  1,  4,  2,  0,  4,  1,  0,\n",
       "        1,  1,  4,  0,  1,  1,  0,  0,  1,  4,  4,  3,  4,  1,  1, -1,  3,\n",
       "        1, -1,  2,  0,  4,  4,  0,  4,  1,  1,  4,  0,  4,  1,  0,  4,  2,\n",
       "        0,  1,  4,  4,  1,  3, -1,  0,  1,  4,  0,  0,  1,  4,  1,  4,  1,\n",
       "        4,  1,  1,  4,  1,  4,  0,  4,  0,  0,  4,  4,  1,  1, -1,  2,  4,\n",
       "        1,  2,  1,  3,  0,  0,  0,  1,  1,  4,  4,  3,  4,  3,  0,  4,  2,\n",
       "        1,  0,  1,  2,  0,  1,  1,  0,  1,  4,  0,  3,  4,  4,  0,  1,  1,\n",
       "        1,  1,  1,  4,  4,  1,  0,  4,  0,  3,  1,  1,  0,  1,  1,  0,  1,\n",
       "        1,  4,  1,  0,  4,  2,  4,  0,  1,  4,  0,  0,  0,  1,  4,  2,  4,\n",
       "        0,  4,  0,  0,  2,  4,  3,  2,  4,  4,  1,  0,  1,  4,  1,  4,  0,\n",
       "        0,  1,  3,  4,  1,  4,  0,  0,  4,  0,  1,  0,  4,  0,  1,  0,  1,\n",
       "        2,  4,  4,  2,  4,  4,  1,  1,  0,  2,  0,  4, -1,  3,  2,  4,  2,\n",
       "        1,  4,  4,  0,  4,  1,  1, -1,  0,  4,  0,  0,  4,  0,  0,  0,  1,\n",
       "        4,  4,  0,  0,  0,  1,  4,  1,  1,  1,  1,  2,  1,  1,  1,  0,  0,\n",
       "        1,  1,  0,  2,  1,  4,  2,  4, -1,  1,  1,  1], dtype=int64)"
      ]
     },
     "execution_count": 3,
     "metadata": {},
     "output_type": "execute_result"
    },
    {
     "data": {
      "text/plain": [
       "0.7647456695218847"
      ]
     },
     "execution_count": 3,
     "metadata": {},
     "output_type": "execute_result"
    }
   ],
   "source": [
    "############################## DBSCAN\n",
    "\n",
    "#### I then implemented 3 DBSCAN clustering algortihms with different hyper parameters to determine the number of clusters\n",
    "\n",
    "db=DBSCAN(eps=0.3, min_samples=5)\n",
    "db.fit(X)\n",
    "db.labels_\n",
    "silhouette_score(X, db.labels_)"
   ]
  },
  {
   "cell_type": "code",
   "execution_count": 4,
   "metadata": {},
   "outputs": [
    {
     "data": {
      "text/plain": [
       "DBSCAN(algorithm='auto', eps=0.8, leaf_size=30, metric='euclidean',\n",
       "       metric_params=None, min_samples=20, n_jobs=None, p=None)"
      ]
     },
     "execution_count": 4,
     "metadata": {},
     "output_type": "execute_result"
    },
    {
     "data": {
      "text/plain": [
       "array([0, 0, 0, 0, 1, 2, 0, 1, 1, 1, 3, 4, 4, 4, 0, 3, 0, 1, 1, 3, 4, 3,\n",
       "       0, 1, 3, 2, 2, 0, 1, 0, 0, 0, 1, 0, 4, 0, 1, 0, 4, 4, 0, 1, 2, 0,\n",
       "       0, 2, 3, 2, 4, 0, 1, 4, 2, 1, 0, 1, 4, 1, 1, 1, 1, 1, 1, 0, 0, 0,\n",
       "       1, 2, 2, 0, 0, 4, 1, 1, 4, 0, 4, 0, 0, 2, 0, 3, 0, 1, 1, 4, 4, 0,\n",
       "       0, 0, 0, 0, 2, 1, 0, 2, 4, 0, 0, 4, 4, 2, 4, 2, 4, 1, 1, 4, 4, 0,\n",
       "       1, 4, 0, 4, 4, 4, 0, 4, 2, 1, 4, 1, 1, 1, 4, 3, 0, 1, 0, 0, 4, 0,\n",
       "       4, 0, 2, 1, 3, 2, 0, 4, 1, 0, 0, 2, 0, 2, 0, 3, 0, 1, 0, 4, 1, 0,\n",
       "       1, 3, 4, 0, 1, 0, 4, 1, 0, 4, 1, 4, 1, 0, 4, 0, 1, 0, 4, 0, 1, 0,\n",
       "       0, 1, 1, 1, 0, 0, 4, 2, 2, 1, 4, 0, 0, 0, 4, 1, 0, 0, 0, 1, 2, 4,\n",
       "       1, 1, 1, 4, 0, 4, 0, 4, 0, 1, 2, 0, 1, 1, 1, 1, 0, 1, 4, 2, 4, 1,\n",
       "       0, 0, 4, 1, 4, 2, 4, 0, 0, 1, 0, 0, 1, 0, 0, 0, 4, 0, 4, 4, 2, 0,\n",
       "       0, 0, 3, 0, 4, 1, 2, 2, 2, 1, 0, 4, 1, 1, 4, 4, 0, 0, 3, 0, 0, 1,\n",
       "       0, 1, 4, 2, 0, 4, 1, 0, 1, 1, 4, 0, 1, 1, 0, 0, 1, 4, 4, 3, 4, 1,\n",
       "       1, 4, 3, 1, 1, 2, 0, 4, 4, 0, 4, 1, 1, 4, 0, 4, 1, 0, 4, 2, 0, 1,\n",
       "       4, 4, 1, 3, 3, 0, 1, 4, 0, 0, 1, 4, 1, 4, 1, 4, 1, 1, 4, 1, 4, 0,\n",
       "       4, 0, 0, 4, 4, 1, 1, 2, 2, 4, 1, 2, 1, 3, 0, 0, 0, 1, 1, 4, 4, 3,\n",
       "       4, 3, 0, 4, 2, 1, 0, 1, 2, 0, 1, 1, 0, 1, 4, 0, 3, 4, 4, 0, 1, 1,\n",
       "       1, 1, 1, 4, 4, 1, 0, 4, 0, 3, 1, 1, 0, 1, 1, 0, 1, 1, 4, 1, 0, 4,\n",
       "       2, 4, 0, 1, 4, 0, 0, 0, 1, 4, 2, 4, 0, 4, 0, 0, 2, 4, 3, 2, 4, 4,\n",
       "       1, 0, 1, 4, 1, 4, 0, 0, 1, 3, 4, 1, 4, 0, 0, 4, 0, 1, 0, 4, 0, 1,\n",
       "       0, 1, 2, 4, 4, 2, 4, 4, 1, 1, 0, 2, 0, 4, 4, 3, 2, 4, 2, 1, 4, 4,\n",
       "       0, 4, 1, 1, 2, 0, 4, 0, 0, 4, 0, 0, 0, 1, 4, 4, 0, 0, 0, 1, 4, 1,\n",
       "       1, 1, 1, 2, 1, 1, 1, 0, 0, 1, 1, 0, 2, 1, 4, 2, 4, 1, 1, 1, 1],\n",
       "      dtype=int64)"
      ]
     },
     "execution_count": 4,
     "metadata": {},
     "output_type": "execute_result"
    },
    {
     "data": {
      "text/plain": [
       "0.8048976287605382"
      ]
     },
     "execution_count": 4,
     "metadata": {},
     "output_type": "execute_result"
    }
   ],
   "source": [
    "db=DBSCAN(eps=0.8, min_samples=20)\n",
    "db.fit(X)\n",
    "db.labels_\n",
    "silhouette_score(X, db.labels_,random_state=29)\n",
    "  "
   ]
  },
  {
   "cell_type": "code",
   "execution_count": 5,
   "metadata": {},
   "outputs": [
    {
     "data": {
      "text/plain": [
       "DBSCAN(algorithm='auto', eps=0.3, leaf_size=30, metric='euclidean',\n",
       "       metric_params=None, min_samples=15, n_jobs=None, p=None)"
      ]
     },
     "execution_count": 5,
     "metadata": {},
     "output_type": "execute_result"
    },
    {
     "data": {
      "text/plain": [
       "array([ 0,  0,  0,  0,  1,  3,  0,  1,  1,  1, -1,  2,  2,  2,  0, -1,  0,\n",
       "        1,  1, -1,  2, -1,  0,  1, -1, -1, -1,  0,  1,  0,  0,  0,  1,  0,\n",
       "        2,  0,  1,  0,  2,  2,  0,  1, -1,  0,  0, -1, -1,  3,  2,  0,  1,\n",
       "        2, -1,  1,  0,  1,  2,  1,  1,  1,  1,  1,  1,  0,  0,  0,  1, -1,\n",
       "        3,  0,  0,  2,  1, -1,  2,  0,  2,  0,  0, -1, -1, -1, -1,  1,  1,\n",
       "        2,  2,  0,  0,  0,  0,  0, -1,  1,  0,  3,  2,  0,  0,  2,  2,  3,\n",
       "        2,  3,  2,  1, -1,  2,  2,  0,  1,  2,  0,  2,  2,  2,  0,  2, -1,\n",
       "        1,  2,  1,  1,  1,  2, -1,  0,  1,  0,  0,  2,  0,  2,  0,  3,  1,\n",
       "       -1,  3,  0,  2,  1,  0,  0, -1,  0, -1,  0, -1,  0,  1,  0,  2,  1,\n",
       "        0,  1, -1,  2,  0,  1,  0,  2,  1,  0,  2, -1,  2,  1,  0,  2,  0,\n",
       "        1,  0,  2,  0,  1,  0,  0,  1,  1,  1,  0,  0,  2, -1, -1,  1,  2,\n",
       "        0,  0,  0,  2,  1,  0,  0,  0,  1, -1,  2,  1,  1,  1,  2,  0,  2,\n",
       "        0,  2,  0,  1,  3,  0,  1,  1, -1, -1,  0,  1,  2,  3,  2,  1,  0,\n",
       "        0,  2,  1,  2,  3,  2,  0,  0,  1,  0,  0,  1,  0,  0,  0, -1,  0,\n",
       "        2,  2,  3,  0,  0,  0, -1,  0,  2, -1,  3, -1,  3,  1,  0,  2,  1,\n",
       "       -1,  2,  2,  0,  0, -1,  0,  0, -1,  0,  1,  2,  3,  0,  2,  1,  0,\n",
       "        1,  1, -1,  0,  1,  1,  0,  0,  1,  2,  2, -1,  2,  1,  1, -1, -1,\n",
       "        1, -1,  3,  0,  2,  2,  0,  2,  1,  1,  2,  0,  2,  1,  0,  2,  3,\n",
       "        0,  1,  2,  2,  1, -1, -1,  0,  1,  2,  0,  0,  1,  2,  1,  2,  1,\n",
       "        2,  1,  1,  2,  1,  2,  0,  2,  0,  0,  2,  2,  1,  1, -1,  3, -1,\n",
       "        1,  3,  1, -1,  0,  0,  0,  1,  1,  2,  2, -1,  2, -1, -1,  2, -1,\n",
       "        1,  0,  1, -1,  0,  1,  1,  0,  1,  2,  0, -1,  2,  2,  0,  1,  1,\n",
       "        1,  1,  1,  2,  2,  1,  0,  2,  0, -1,  1,  1,  0,  1,  1,  0,  1,\n",
       "        1,  2,  1,  0,  2, -1,  2,  0,  1,  2,  0,  0,  0,  1,  2, -1,  2,\n",
       "        0,  2,  0,  0,  3,  2, -1, -1,  2,  2,  1,  0,  1,  2, -1,  2,  0,\n",
       "        0,  1, -1,  2,  1,  2,  0,  0,  2,  0,  1,  0,  2,  0,  1,  0,  1,\n",
       "       -1,  2, -1, -1,  2,  2,  1,  1,  0,  3,  0,  2, -1, -1, -1,  2, -1,\n",
       "        1,  2,  2,  0,  2,  1,  1, -1,  0,  2,  0,  0,  2,  0,  0,  0,  1,\n",
       "        2,  2,  0,  0,  0,  1,  2,  1,  1,  1,  1, -1,  1,  1,  1,  0,  0,\n",
       "        1,  1,  0,  3,  1, -1,  3,  2, -1,  1,  1,  1], dtype=int64)"
      ]
     },
     "execution_count": 5,
     "metadata": {},
     "output_type": "execute_result"
    },
    {
     "data": {
      "text/plain": [
       "0.6259374135094108"
      ]
     },
     "execution_count": 5,
     "metadata": {},
     "output_type": "execute_result"
    }
   ],
   "source": [
    "db=DBSCAN(eps=0.3, min_samples=15)\n",
    "db.fit(X)\n",
    "db.labels_\n",
    "silhouette_score(X, db.labels_,random_state=29)\n",
    "### The -1 means that these custoemres are considered to be noise. That is why they are negative"
   ]
  },
  {
   "cell_type": "code",
   "execution_count": 6,
   "metadata": {},
   "outputs": [
    {
     "data": {
      "image/png": "[encoded data removed]",
      "text/plain": [
       "<Figure size 432x288 with 1 Axes>"
      ]
     },
     "metadata": {
      "needs_background": "light"
     },
     "output_type": "display_data"
    }
   ],
   "source": [
    "#Elbow Method. I plot Epsilon vs Silhouette and Min Pts.\n",
    "silhouettes = {}\n",
    "\n",
    "epss = np.arange(0.1, 0.9, 0.1)\n",
    "minss = [3, 4, 5, 6, 7, 8, 9, 10,15,20]\n",
    "\n",
    "ss = np.zeros((len(epss), len(minss)))\n",
    "\n",
    "for i, eps in enumerate(epss):\n",
    "    for j, mins in enumerate(minss):\n",
    "        db = DBSCAN(eps=eps, min_samples=mins).fit(X)\n",
    "        if len(set(db.labels_)) == 1:\n",
    "            ss[i, j] = -1\n",
    "        else:\n",
    "            ss[i, j] = silhouette_score(X, db.labels_, metric='euclidean',random_state=29)\n",
    "    \n",
    "\n",
    "plt.figure();\n",
    "#plt.plot(list(silhouettes.keys()), list(silhouettes.values()));\n",
    "for i in range(len(minss)):\n",
    "    plt.plot(epss, ss[:, i], label=\"MinPts = {}\".format(minss[i]));\n",
    "#plt.plot(epss, ss[:, 1]);\n",
    "plt.title('DBSCAN, Elbow Method')\n",
    "plt.xlabel(\"Eps\");\n",
    "plt.ylabel(\"Silhouette\");\n",
    "plt.legend();\n",
    "#plt.savefig('out/simple_dbscan_elbow');"
   ]
  },
  {
   "cell_type": "code",
   "execution_count": 7,
   "metadata": {},
   "outputs": [
    {
     "data": {
      "text/plain": [
       "array([2, 2, 2, 2, 3, 1, 2, 3, 3, 3, 4, 5, 5, 5, 2, 4, 2, 3, 3, 4, 5, 4,\n",
       "       2, 3, 4, 1, 1, 2, 3, 2, 2, 2, 3, 2, 5, 2, 3, 2, 5, 5, 2, 3, 1, 2,\n",
       "       2, 1, 4, 1, 5, 2, 3, 5, 1, 3, 2, 3, 5, 3, 3, 3, 3, 3, 3, 2, 2, 2,\n",
       "       3, 1, 1, 2, 2, 5, 3, 3, 5, 2, 5, 2, 2, 1, 2, 4, 2, 3, 3, 5, 5, 2,\n",
       "       2, 2, 2, 2, 1, 3, 2, 1, 5, 2, 2, 5, 5, 1, 5, 1, 5, 3, 3, 5, 5, 2,\n",
       "       3, 5, 2, 5, 5, 5, 2, 5, 1, 3, 5, 3, 3, 3, 5, 4, 2, 3, 2, 2, 5, 2,\n",
       "       5, 2, 1, 3, 4, 1, 2, 5, 3, 2, 2, 1, 2, 1, 2, 4, 2, 3, 2, 5, 3, 2,\n",
       "       3, 4, 5, 2, 3, 2, 5, 3, 2, 5, 3, 5, 3, 2, 5, 2, 3, 2, 5, 2, 3, 2,\n",
       "       2, 3, 3, 3, 2, 2, 5, 1, 1, 3, 5, 2, 2, 2, 5, 3, 2, 2, 2, 3, 1, 5,\n",
       "       3, 3, 3, 5, 2, 5, 2, 5, 2, 3, 1, 2, 3, 3, 3, 3, 2, 3, 5, 1, 5, 3,\n",
       "       2, 2, 5, 3, 5, 1, 5, 2, 2, 3, 2, 2, 3, 2, 2, 2, 5, 2, 5, 5, 1, 2,\n",
       "       2, 2, 4, 2, 5, 3, 1, 1, 1, 3, 2, 5, 3, 3, 5, 5, 2, 2, 4, 2, 2, 3,\n",
       "       2, 3, 5, 1, 2, 5, 3, 2, 3, 3, 5, 2, 3, 3, 2, 2, 3, 5, 5, 4, 5, 3,\n",
       "       3, 5, 4, 3, 3, 1, 2, 5, 5, 2, 5, 3, 3, 5, 2, 5, 3, 2, 5, 1, 2, 3,\n",
       "       5, 5, 3, 4, 4, 2, 3, 5, 2, 2, 3, 5, 3, 5, 3, 5, 3, 3, 5, 3, 5, 2,\n",
       "       5, 2, 2, 5, 5, 3, 3, 1, 1, 5, 3, 1, 3, 4, 2, 2, 2, 3, 3, 5, 5, 4,\n",
       "       5, 4, 2, 5, 1, 3, 2, 3, 1, 2, 3, 3, 2, 3, 5, 2, 4, 5, 5, 2, 3, 3,\n",
       "       3, 3, 3, 5, 5, 3, 2, 5, 2, 4, 3, 3, 2, 3, 3, 2, 3, 3, 5, 3, 2, 5,\n",
       "       1, 5, 2, 3, 5, 2, 2, 2, 3, 5, 1, 5, 2, 5, 2, 2, 1, 5, 4, 1, 5, 5,\n",
       "       3, 2, 3, 5, 3, 5, 2, 2, 3, 4, 5, 3, 5, 2, 2, 5, 2, 3, 2, 5, 2, 3,\n",
       "       2, 3, 1, 5, 5, 1, 5, 5, 3, 3, 2, 1, 2, 5, 5, 4, 1, 5, 1, 3, 5, 5,\n",
       "       2, 5, 3, 3, 1, 2, 5, 2, 2, 5, 2, 2, 2, 3, 5, 5, 2, 2, 2, 3, 5, 3,\n",
       "       3, 3, 3, 1, 3, 3, 3, 2, 2, 3, 3, 2, 1, 3, 5, 1, 5, 3, 3, 3, 3],\n",
       "      dtype=int32)"
      ]
     },
     "execution_count": 7,
     "metadata": {},
     "output_type": "execute_result"
    },
    {
     "data": {
      "image/png": "[encoded data removed]",
      "text/plain": [
       "<Figure size 432x288 with 1 Axes>"
      ]
     },
     "metadata": {
      "needs_background": "light"
     },
     "output_type": "display_data"
    }
   ],
   "source": [
    "######################################## Hierarchical Clustering\n",
    "### Once I realized that 5 clusters yield the best results, I decided to implement a hierarchical clustering\n",
    "import scipy\n",
    "from scipy.cluster.hierarchy import linkage\n",
    "from scipy.cluster.hierarchy import dendrogram\n",
    "from scipy.cluster.hierarchy import fcluster\n",
    "import sklearn.metrics as sm\n",
    "from scipy import stats\n",
    "agg=scipy.cluster.hierarchy.linkage(X, method='ward', metric='euclidean')\n",
    "hierarchichal=scipy.cluster.hierarchy.dendrogram(agg)\n",
    "labels = scipy.cluster.hierarchy.fcluster(agg,5,criterion='maxclust')\n",
    "labels\n"
   ]
  },
  {
   "cell_type": "code",
   "execution_count": 8,
   "metadata": {},
   "outputs": [
    {
     "name": "stdout",
     "output_type": "stream",
     "text": [
      "All Data:\n",
      "Number of Instances: 505\n"
     ]
    },
    {
     "data": {
      "text/html": [
       "<div>\n",
       "<style scoped>\n",
       "    .dataframe tbody tr th:only-of-type {\n",
       "        vertical-align: middle;\n",
       "    }\n",
       "\n",
       "    .dataframe tbody tr th {\n",
       "        vertical-align: top;\n",
       "    }\n",
       "\n",
       "    .dataframe thead th {\n",
       "        text-align: right;\n",
       "    }\n",
       "</style>\n",
       "<table border=\"1\" class=\"dataframe\">\n",
       "  <thead>\n",
       "    <tr style=\"text-align: right;\">\n",
       "      <th></th>\n",
       "      <th>count</th>\n",
       "      <th>mean</th>\n",
       "      <th>std</th>\n",
       "      <th>min</th>\n",
       "      <th>25%</th>\n",
       "      <th>50%</th>\n",
       "      <th>75%</th>\n",
       "      <th>max</th>\n",
       "    </tr>\n",
       "  </thead>\n",
       "  <tbody>\n",
       "    <tr>\n",
       "      <th>Age</th>\n",
       "      <td>505.00</td>\n",
       "      <td>59.02</td>\n",
       "      <td>24.14</td>\n",
       "      <td>17.00</td>\n",
       "      <td>34.00</td>\n",
       "      <td>59.00</td>\n",
       "      <td>85.00</td>\n",
       "      <td>97.00</td>\n",
       "    </tr>\n",
       "    <tr>\n",
       "      <th>Income</th>\n",
       "      <td>505.00</td>\n",
       "      <td>75513.29</td>\n",
       "      <td>35992.92</td>\n",
       "      <td>12000.00</td>\n",
       "      <td>34529.00</td>\n",
       "      <td>75078.00</td>\n",
       "      <td>107100.00</td>\n",
       "      <td>142000.00</td>\n",
       "    </tr>\n",
       "    <tr>\n",
       "      <th>SpendingScore</th>\n",
       "      <td>505.00</td>\n",
       "      <td>0.51</td>\n",
       "      <td>0.26</td>\n",
       "      <td>0.00</td>\n",
       "      <td>0.30</td>\n",
       "      <td>0.37</td>\n",
       "      <td>0.77</td>\n",
       "      <td>1.00</td>\n",
       "    </tr>\n",
       "    <tr>\n",
       "      <th>Savings</th>\n",
       "      <td>505.00</td>\n",
       "      <td>11862.46</td>\n",
       "      <td>4949.23</td>\n",
       "      <td>0.00</td>\n",
       "      <td>6828.71</td>\n",
       "      <td>14209.93</td>\n",
       "      <td>16047.27</td>\n",
       "      <td>20000.00</td>\n",
       "    </tr>\n",
       "  </tbody>\n",
       "</table>\n",
       "</div>"
      ],
      "text/plain": [
       "               count     mean      std      min      25%      50%       75%  \\\n",
       "Age           505.00    59.02    24.14    17.00    34.00    59.00     85.00   \n",
       "Income        505.00 75513.29 35992.92 12000.00 34529.00 75078.00 107100.00   \n",
       "SpendingScore 505.00     0.51     0.26     0.00     0.30     0.37      0.77   \n",
       "Savings       505.00 11862.46  4949.23     0.00  6828.71 14209.93  16047.27   \n",
       "\n",
       "                    max  \n",
       "Age               97.00  \n",
       "Income        142000.00  \n",
       "SpendingScore      1.00  \n",
       "Savings        20000.00  "
      ]
     },
     "execution_count": 8,
     "metadata": {},
     "output_type": "execute_result"
    },
    {
     "name": "stdout",
     "output_type": "stream",
     "text": [
      "\n",
      "Cluster 1:\n",
      "Number of Instances: 50\n"
     ]
    },
    {
     "data": {
      "text/html": [
       "<div>\n",
       "<style scoped>\n",
       "    .dataframe tbody tr th:only-of-type {\n",
       "        vertical-align: middle;\n",
       "    }\n",
       "\n",
       "    .dataframe tbody tr th {\n",
       "        vertical-align: top;\n",
       "    }\n",
       "\n",
       "    .dataframe thead th {\n",
       "        text-align: right;\n",
       "    }\n",
       "</style>\n",
       "<table border=\"1\" class=\"dataframe\">\n",
       "  <thead>\n",
       "    <tr style=\"text-align: right;\">\n",
       "      <th></th>\n",
       "      <th>count</th>\n",
       "      <th>mean</th>\n",
       "      <th>std</th>\n",
       "      <th>min</th>\n",
       "      <th>25%</th>\n",
       "      <th>50%</th>\n",
       "      <th>75%</th>\n",
       "      <th>max</th>\n",
       "    </tr>\n",
       "  </thead>\n",
       "  <tbody>\n",
       "    <tr>\n",
       "      <th>Age</th>\n",
       "      <td>50.00</td>\n",
       "      <td>24.18</td>\n",
       "      <td>3.66</td>\n",
       "      <td>17.00</td>\n",
       "      <td>22.00</td>\n",
       "      <td>24.50</td>\n",
       "      <td>27.00</td>\n",
       "      <td>31.00</td>\n",
       "    </tr>\n",
       "    <tr>\n",
       "      <th>Income</th>\n",
       "      <td>50.00</td>\n",
       "      <td>128029.12</td>\n",
       "      <td>5688.90</td>\n",
       "      <td>117108.00</td>\n",
       "      <td>123042.00</td>\n",
       "      <td>128162.00</td>\n",
       "      <td>131435.75</td>\n",
       "      <td>142000.00</td>\n",
       "    </tr>\n",
       "    <tr>\n",
       "      <th>SpendingScore</th>\n",
       "      <td>50.00</td>\n",
       "      <td>0.90</td>\n",
       "      <td>0.04</td>\n",
       "      <td>0.81</td>\n",
       "      <td>0.87</td>\n",
       "      <td>0.89</td>\n",
       "      <td>0.93</td>\n",
       "      <td>1.00</td>\n",
       "    </tr>\n",
       "    <tr>\n",
       "      <th>Savings</th>\n",
       "      <td>50.00</td>\n",
       "      <td>4087.52</td>\n",
       "      <td>1277.75</td>\n",
       "      <td>0.00</td>\n",
       "      <td>3275.32</td>\n",
       "      <td>4361.97</td>\n",
       "      <td>4986.86</td>\n",
       "      <td>6089.48</td>\n",
       "    </tr>\n",
       "  </tbody>\n",
       "</table>\n",
       "</div>"
      ],
      "text/plain": [
       "               count      mean     std       min       25%       50%  \\\n",
       "Age            50.00     24.18    3.66     17.00     22.00     24.50   \n",
       "Income         50.00 128029.12 5688.90 117108.00 123042.00 128162.00   \n",
       "SpendingScore  50.00      0.90    0.04      0.81      0.87      0.89   \n",
       "Savings        50.00   4087.52 1277.75      0.00   3275.32   4361.97   \n",
       "\n",
       "                    75%       max  \n",
       "Age               27.00     31.00  \n",
       "Income        131435.75 142000.00  \n",
       "SpendingScore      0.93      1.00  \n",
       "Savings         4986.86   6089.48  "
      ]
     },
     "execution_count": 8,
     "metadata": {},
     "output_type": "execute_result"
    },
    {
     "name": "stdout",
     "output_type": "stream",
     "text": [
      "\n",
      "Cluster 2:\n",
      "Number of Instances: 157\n"
     ]
    },
    {
     "data": {
      "text/html": [
       "<div>\n",
       "<style scoped>\n",
       "    .dataframe tbody tr th:only-of-type {\n",
       "        vertical-align: middle;\n",
       "    }\n",
       "\n",
       "    .dataframe tbody tr th {\n",
       "        vertical-align: top;\n",
       "    }\n",
       "\n",
       "    .dataframe thead th {\n",
       "        text-align: right;\n",
       "    }\n",
       "</style>\n",
       "<table border=\"1\" class=\"dataframe\">\n",
       "  <thead>\n",
       "    <tr style=\"text-align: right;\">\n",
       "      <th></th>\n",
       "      <th>count</th>\n",
       "      <th>mean</th>\n",
       "      <th>std</th>\n",
       "      <th>min</th>\n",
       "      <th>25%</th>\n",
       "      <th>50%</th>\n",
       "      <th>75%</th>\n",
       "      <th>max</th>\n",
       "    </tr>\n",
       "  </thead>\n",
       "  <tbody>\n",
       "    <tr>\n",
       "      <th>Age</th>\n",
       "      <td>157.00</td>\n",
       "      <td>59.96</td>\n",
       "      <td>3.38</td>\n",
       "      <td>51.00</td>\n",
       "      <td>58.00</td>\n",
       "      <td>59.00</td>\n",
       "      <td>62.00</td>\n",
       "      <td>68.00</td>\n",
       "    </tr>\n",
       "    <tr>\n",
       "      <th>Income</th>\n",
       "      <td>157.00</td>\n",
       "      <td>72448.06</td>\n",
       "      <td>6240.26</td>\n",
       "      <td>56321.00</td>\n",
       "      <td>68463.00</td>\n",
       "      <td>72027.00</td>\n",
       "      <td>76594.00</td>\n",
       "      <td>90422.00</td>\n",
       "    </tr>\n",
       "    <tr>\n",
       "      <th>SpendingScore</th>\n",
       "      <td>157.00</td>\n",
       "      <td>0.77</td>\n",
       "      <td>0.05</td>\n",
       "      <td>0.66</td>\n",
       "      <td>0.74</td>\n",
       "      <td>0.77</td>\n",
       "      <td>0.80</td>\n",
       "      <td>0.91</td>\n",
       "    </tr>\n",
       "    <tr>\n",
       "      <th>Savings</th>\n",
       "      <td>157.00</td>\n",
       "      <td>6889.97</td>\n",
       "      <td>1052.28</td>\n",
       "      <td>4077.66</td>\n",
       "      <td>6225.38</td>\n",
       "      <td>6845.06</td>\n",
       "      <td>7497.23</td>\n",
       "      <td>10547.78</td>\n",
       "    </tr>\n",
       "  </tbody>\n",
       "</table>\n",
       "</div>"
      ],
      "text/plain": [
       "               count     mean     std      min      25%      50%      75%  \\\n",
       "Age           157.00    59.96    3.38    51.00    58.00    59.00    62.00   \n",
       "Income        157.00 72448.06 6240.26 56321.00 68463.00 72027.00 76594.00   \n",
       "SpendingScore 157.00     0.77    0.05     0.66     0.74     0.77     0.80   \n",
       "Savings       157.00  6889.97 1052.28  4077.66  6225.38  6845.06  7497.23   \n",
       "\n",
       "                   max  \n",
       "Age              68.00  \n",
       "Income        90422.00  \n",
       "SpendingScore     0.91  \n",
       "Savings       10547.78  "
      ]
     },
     "execution_count": 8,
     "metadata": {},
     "output_type": "execute_result"
    },
    {
     "name": "stdout",
     "output_type": "stream",
     "text": [
      "\n",
      "Cluster 3:\n",
      "Number of Instances: 147\n"
     ]
    },
    {
     "data": {
      "text/html": [
       "<div>\n",
       "<style scoped>\n",
       "    .dataframe tbody tr th:only-of-type {\n",
       "        vertical-align: middle;\n",
       "    }\n",
       "\n",
       "    .dataframe tbody tr th {\n",
       "        vertical-align: top;\n",
       "    }\n",
       "\n",
       "    .dataframe thead th {\n",
       "        text-align: right;\n",
       "    }\n",
       "</style>\n",
       "<table border=\"1\" class=\"dataframe\">\n",
       "  <thead>\n",
       "    <tr style=\"text-align: right;\">\n",
       "      <th></th>\n",
       "      <th>count</th>\n",
       "      <th>mean</th>\n",
       "      <th>std</th>\n",
       "      <th>min</th>\n",
       "      <th>25%</th>\n",
       "      <th>50%</th>\n",
       "      <th>75%</th>\n",
       "      <th>max</th>\n",
       "    </tr>\n",
       "  </thead>\n",
       "  <tbody>\n",
       "    <tr>\n",
       "      <th>Age</th>\n",
       "      <td>147.00</td>\n",
       "      <td>87.78</td>\n",
       "      <td>3.51</td>\n",
       "      <td>79.00</td>\n",
       "      <td>85.00</td>\n",
       "      <td>88.00</td>\n",
       "      <td>91.00</td>\n",
       "      <td>97.00</td>\n",
       "    </tr>\n",
       "    <tr>\n",
       "      <th>Income</th>\n",
       "      <td>147.00</td>\n",
       "      <td>27866.10</td>\n",
       "      <td>6448.81</td>\n",
       "      <td>12000.00</td>\n",
       "      <td>23361.00</td>\n",
       "      <td>27771.00</td>\n",
       "      <td>32601.00</td>\n",
       "      <td>46977.00</td>\n",
       "    </tr>\n",
       "    <tr>\n",
       "      <th>SpendingScore</th>\n",
       "      <td>147.00</td>\n",
       "      <td>0.33</td>\n",
       "      <td>0.05</td>\n",
       "      <td>0.20</td>\n",
       "      <td>0.30</td>\n",
       "      <td>0.32</td>\n",
       "      <td>0.36</td>\n",
       "      <td>0.47</td>\n",
       "    </tr>\n",
       "    <tr>\n",
       "      <th>Savings</th>\n",
       "      <td>147.00</td>\n",
       "      <td>16659.26</td>\n",
       "      <td>1183.85</td>\n",
       "      <td>13470.97</td>\n",
       "      <td>15957.28</td>\n",
       "      <td>16711.07</td>\n",
       "      <td>17433.13</td>\n",
       "      <td>20000.00</td>\n",
       "    </tr>\n",
       "  </tbody>\n",
       "</table>\n",
       "</div>"
      ],
      "text/plain": [
       "               count     mean     std      min      25%      50%      75%  \\\n",
       "Age           147.00    87.78    3.51    79.00    85.00    88.00    91.00   \n",
       "Income        147.00 27866.10 6448.81 12000.00 23361.00 27771.00 32601.00   \n",
       "SpendingScore 147.00     0.33    0.05     0.20     0.30     0.32     0.36   \n",
       "Savings       147.00 16659.26 1183.85 13470.97 15957.28 16711.07 17433.13   \n",
       "\n",
       "                   max  \n",
       "Age              97.00  \n",
       "Income        46977.00  \n",
       "SpendingScore     0.47  \n",
       "Savings       20000.00  "
      ]
     },
     "execution_count": 8,
     "metadata": {},
     "output_type": "execute_result"
    },
    {
     "name": "stdout",
     "output_type": "stream",
     "text": [
      "\n",
      "Cluster 4:\n",
      "Number of Instances: 25\n"
     ]
    },
    {
     "data": {
      "text/html": [
       "<div>\n",
       "<style scoped>\n",
       "    .dataframe tbody tr th:only-of-type {\n",
       "        vertical-align: middle;\n",
       "    }\n",
       "\n",
       "    .dataframe tbody tr th {\n",
       "        vertical-align: top;\n",
       "    }\n",
       "\n",
       "    .dataframe thead th {\n",
       "        text-align: right;\n",
       "    }\n",
       "</style>\n",
       "<table border=\"1\" class=\"dataframe\">\n",
       "  <thead>\n",
       "    <tr style=\"text-align: right;\">\n",
       "      <th></th>\n",
       "      <th>count</th>\n",
       "      <th>mean</th>\n",
       "      <th>std</th>\n",
       "      <th>min</th>\n",
       "      <th>25%</th>\n",
       "      <th>50%</th>\n",
       "      <th>75%</th>\n",
       "      <th>max</th>\n",
       "    </tr>\n",
       "  </thead>\n",
       "  <tbody>\n",
       "    <tr>\n",
       "      <th>Age</th>\n",
       "      <td>25.00</td>\n",
       "      <td>86.00</td>\n",
       "      <td>3.66</td>\n",
       "      <td>77.00</td>\n",
       "      <td>84.00</td>\n",
       "      <td>86.00</td>\n",
       "      <td>88.00</td>\n",
       "      <td>93.00</td>\n",
       "    </tr>\n",
       "    <tr>\n",
       "      <th>Income</th>\n",
       "      <td>25.00</td>\n",
       "      <td>119944.04</td>\n",
       "      <td>4941.05</td>\n",
       "      <td>110582.00</td>\n",
       "      <td>117347.00</td>\n",
       "      <td>119429.00</td>\n",
       "      <td>123651.00</td>\n",
       "      <td>128596.00</td>\n",
       "    </tr>\n",
       "    <tr>\n",
       "      <th>SpendingScore</th>\n",
       "      <td>25.00</td>\n",
       "      <td>0.07</td>\n",
       "      <td>0.04</td>\n",
       "      <td>0.00</td>\n",
       "      <td>0.04</td>\n",
       "      <td>0.06</td>\n",
       "      <td>0.08</td>\n",
       "      <td>0.16</td>\n",
       "    </tr>\n",
       "    <tr>\n",
       "      <th>Savings</th>\n",
       "      <td>25.00</td>\n",
       "      <td>14808.68</td>\n",
       "      <td>1159.34</td>\n",
       "      <td>12554.69</td>\n",
       "      <td>14047.39</td>\n",
       "      <td>14773.41</td>\n",
       "      <td>15391.95</td>\n",
       "      <td>17833.09</td>\n",
       "    </tr>\n",
       "  </tbody>\n",
       "</table>\n",
       "</div>"
      ],
      "text/plain": [
       "               count      mean     std       min       25%       50%  \\\n",
       "Age            25.00     86.00    3.66     77.00     84.00     86.00   \n",
       "Income         25.00 119944.04 4941.05 110582.00 117347.00 119429.00   \n",
       "SpendingScore  25.00      0.07    0.04      0.00      0.04      0.06   \n",
       "Savings        25.00  14808.68 1159.34  12554.69  14047.39  14773.41   \n",
       "\n",
       "                    75%       max  \n",
       "Age               88.00     93.00  \n",
       "Income        123651.00 128596.00  \n",
       "SpendingScore      0.08      0.16  \n",
       "Savings        15391.95  17833.09  "
      ]
     },
     "execution_count": 8,
     "metadata": {},
     "output_type": "execute_result"
    },
    {
     "name": "stdout",
     "output_type": "stream",
     "text": [
      "\n",
      "Cluster 5:\n",
      "Number of Instances: 126\n"
     ]
    },
    {
     "data": {
      "text/html": [
       "<div>\n",
       "<style scoped>\n",
       "    .dataframe tbody tr th:only-of-type {\n",
       "        vertical-align: middle;\n",
       "    }\n",
       "\n",
       "    .dataframe tbody tr th {\n",
       "        vertical-align: top;\n",
       "    }\n",
       "\n",
       "    .dataframe thead th {\n",
       "        text-align: right;\n",
       "    }\n",
       "</style>\n",
       "<table border=\"1\" class=\"dataframe\">\n",
       "  <thead>\n",
       "    <tr style=\"text-align: right;\">\n",
       "      <th></th>\n",
       "      <th>count</th>\n",
       "      <th>mean</th>\n",
       "      <th>std</th>\n",
       "      <th>min</th>\n",
       "      <th>25%</th>\n",
       "      <th>50%</th>\n",
       "      <th>75%</th>\n",
       "      <th>max</th>\n",
       "    </tr>\n",
       "  </thead>\n",
       "  <tbody>\n",
       "    <tr>\n",
       "      <th>Age</th>\n",
       "      <td>126.00</td>\n",
       "      <td>32.78</td>\n",
       "      <td>3.79</td>\n",
       "      <td>22.00</td>\n",
       "      <td>30.00</td>\n",
       "      <td>33.00</td>\n",
       "      <td>35.00</td>\n",
       "      <td>44.00</td>\n",
       "    </tr>\n",
       "    <tr>\n",
       "      <th>Income</th>\n",
       "      <td>126.00</td>\n",
       "      <td>105265.81</td>\n",
       "      <td>6080.62</td>\n",
       "      <td>89598.00</td>\n",
       "      <td>100760.25</td>\n",
       "      <td>106002.50</td>\n",
       "      <td>108858.75</td>\n",
       "      <td>119877.00</td>\n",
       "    </tr>\n",
       "    <tr>\n",
       "      <th>SpendingScore</th>\n",
       "      <td>126.00</td>\n",
       "      <td>0.31</td>\n",
       "      <td>0.05</td>\n",
       "      <td>0.17</td>\n",
       "      <td>0.28</td>\n",
       "      <td>0.31</td>\n",
       "      <td>0.34</td>\n",
       "      <td>0.41</td>\n",
       "    </tr>\n",
       "    <tr>\n",
       "      <th>Savings</th>\n",
       "      <td>126.00</td>\n",
       "      <td>14962.78</td>\n",
       "      <td>1061.73</td>\n",
       "      <td>12207.53</td>\n",
       "      <td>14223.79</td>\n",
       "      <td>14976.94</td>\n",
       "      <td>15682.29</td>\n",
       "      <td>17968.55</td>\n",
       "    </tr>\n",
       "  </tbody>\n",
       "</table>\n",
       "</div>"
      ],
      "text/plain": [
       "               count      mean     std      min       25%       50%       75%  \\\n",
       "Age           126.00     32.78    3.79    22.00     30.00     33.00     35.00   \n",
       "Income        126.00 105265.81 6080.62 89598.00 100760.25 106002.50 108858.75   \n",
       "SpendingScore 126.00      0.31    0.05     0.17      0.28      0.31      0.34   \n",
       "Savings       126.00  14962.78 1061.73 12207.53  14223.79  14976.94  15682.29   \n",
       "\n",
       "                    max  \n",
       "Age               44.00  \n",
       "Income        119877.00  \n",
       "SpendingScore      0.41  \n",
       "Savings        17968.55  "
      ]
     },
     "execution_count": 8,
     "metadata": {},
     "output_type": "execute_result"
    }
   ],
   "source": [
    "### Once I ran a K-means, DBSCANS and HIerarchical, I decided to print the summary results for each cluster\n",
    "## using the results from the hierarchical clustering\n",
    "## The output of this input will provide the summary statistics for each of the clusters\n",
    "\n",
    "\n",
    "from scipy import stats\n",
    "import seaborn as sns\n",
    "pd.set_option(\"display.precision\", 2)\n",
    "pd.set_option('display.float_format', lambda x: '%.2f' % x)\n",
    "\n",
    "print('All Data:')\n",
    "print('Number of Instances: {}'.format(X.shape[0]))\n",
    "df.describe(include=[np.number]).transpose()\n",
    "\n",
    "for i, label in enumerate(set(labels)):\n",
    "    n = df.iloc[labels==label].shape[0]\n",
    "      \n",
    "    print('\\nCluster {}:'.format(label))\n",
    "    print('Number of Instances: {}'.format(n))\n",
    "\n",
    "    df.iloc[labels==label].describe(include=[np.number]).transpose()\n"
   ]
  }
 ],
 "metadata": {
  "kernelspec": {
   "display_name": "Python 3",
   "language": "python",
   "name": "python3"
  },
  "language_info": {
   "codemirror_mode": {
    "name": "ipython",
    "version": 3
   },
   "file_extension": ".py",
   "mimetype": "text/x-python",
   "name": "python",
   "nbconvert_exporter": "python",
   "pygments_lexer": "ipython3",
   "version": "3.7.6"
  }
 },
 "nbformat": 4,
 "nbformat_minor": 4
}
