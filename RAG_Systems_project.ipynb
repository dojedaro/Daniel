{
  "nbformat": 4,
  "nbformat_minor": 0,
  "metadata": {
    "colab": {
      "provenance": []
    },
    "kernelspec": {
      "name": "python3",
      "display_name": "Python 3"
    },
    "language_info": {
      "name": "python"
    }
  },
  "cells": [
    {
      "cell_type": "code",
      "execution_count": null,
      "metadata": {
        "colab": {
          "base_uri": "https://localhost:8080/"
        },
        "id": "F-lpBK10IdEs",
        "outputId": "61fa90dd-a7da-462f-d60e-60a366a9dd49"
      },
      "outputs": [
        {
          "output_type": "stream",
          "name": "stdout",
          "text": [
            "Requirement already satisfied: langchain in /usr/local/lib/python3.11/dist-packages (0.3.20)\n",
            "Requirement already satisfied: langchain_community in /usr/local/lib/python3.11/dist-packages (0.3.19)\n",
            "Requirement already satisfied: langchain_openai in /usr/local/lib/python3.11/dist-packages (0.3.8)\n",
            "Requirement already satisfied: llama-parse in /usr/local/lib/python3.11/dist-packages (0.6.4.post1)\n",
            "Requirement already satisfied: openai in /usr/local/lib/python3.11/dist-packages (1.61.1)\n",
            "Requirement already satisfied: chromadb in /usr/local/lib/python3.11/dist-packages (0.6.3)\n",
            "Requirement already satisfied: tiktoken in /usr/local/lib/python3.11/dist-packages (0.9.0)\n",
            "Requirement already satisfied: pyyaml in /usr/local/lib/python3.11/dist-packages (6.0.2)\n",
            "Requirement already satisfied: langchain-core<1.0.0,>=0.3.41 in /usr/local/lib/python3.11/dist-packages (from langchain) (0.3.43)\n",
            "Requirement already satisfied: langchain-text-splitters<1.0.0,>=0.3.6 in /usr/local/lib/python3.11/dist-packages (from langchain) (0.3.6)\n",
            "Requirement already satisfied: langsmith<0.4,>=0.1.17 in /usr/local/lib/python3.11/dist-packages (from langchain) (0.3.11)\n",
            "Requirement already satisfied: pydantic<3.0.0,>=2.7.4 in /usr/local/lib/python3.11/dist-packages (from langchain) (2.10.6)\n",
            "Requirement already satisfied: SQLAlchemy<3,>=1.4 in /usr/local/lib/python3.11/dist-packages (from langchain) (2.0.38)\n",
            "Requirement already satisfied: requests<3,>=2 in /usr/local/lib/python3.11/dist-packages (from langchain) (2.32.3)\n",
            "Requirement already satisfied: aiohttp<4.0.0,>=3.8.3 in /usr/local/lib/python3.11/dist-packages (from langchain_community) (3.11.13)\n",
            "Requirement already satisfied: tenacity!=8.4.0,<10,>=8.1.0 in /usr/local/lib/python3.11/dist-packages (from langchain_community) (9.0.0)\n",
            "Requirement already satisfied: dataclasses-json<0.7,>=0.5.7 in /usr/local/lib/python3.11/dist-packages (from langchain_community) (0.6.7)\n",
            "Requirement already satisfied: pydantic-settings<3.0.0,>=2.4.0 in /usr/local/lib/python3.11/dist-packages (from langchain_community) (2.8.1)\n",
            "Requirement already satisfied: httpx-sse<1.0.0,>=0.4.0 in /usr/local/lib/python3.11/dist-packages (from langchain_community) (0.4.0)\n",
            "Requirement already satisfied: numpy<3,>=1.26.2 in /usr/local/lib/python3.11/dist-packages (from langchain_community) (2.2.3)\n",
            "Requirement already satisfied: llama-cloud-services>=0.6.4 in /usr/local/lib/python3.11/dist-packages (from llama-parse) (0.6.5)\n",
            "Requirement already satisfied: anyio<5,>=3.5.0 in /usr/local/lib/python3.11/dist-packages (from openai) (3.7.1)\n",
            "Requirement already satisfied: distro<2,>=1.7.0 in /usr/local/lib/python3.11/dist-packages (from openai) (1.9.0)\n",
            "Requirement already satisfied: httpx<1,>=0.23.0 in /usr/local/lib/python3.11/dist-packages (from openai) (0.28.1)\n",
            "Requirement already satisfied: jiter<1,>=0.4.0 in /usr/local/lib/python3.11/dist-packages (from openai) (0.8.2)\n",
            "Requirement already satisfied: sniffio in /usr/local/lib/python3.11/dist-packages (from openai) (1.3.1)\n",
            "Requirement already satisfied: tqdm>4 in /usr/local/lib/python3.11/dist-packages (from openai) (4.67.1)\n",
            "Requirement already satisfied: typing-extensions<5,>=4.11 in /usr/local/lib/python3.11/dist-packages (from openai) (4.12.2)\n",
            "Requirement already satisfied: build>=1.0.3 in /usr/local/lib/python3.11/dist-packages (from chromadb) (1.2.2.post1)\n",
            "Requirement already satisfied: chroma-hnswlib==0.7.6 in /usr/local/lib/python3.11/dist-packages (from chromadb) (0.7.6)\n",
            "Requirement already satisfied: fastapi>=0.95.2 in /usr/local/lib/python3.11/dist-packages (from chromadb) (0.115.11)\n",
            "Requirement already satisfied: uvicorn>=0.18.3 in /usr/local/lib/python3.11/dist-packages (from uvicorn[standard]>=0.18.3->chromadb) (0.34.0)\n",
            "Requirement already satisfied: posthog>=2.4.0 in /usr/local/lib/python3.11/dist-packages (from chromadb) (3.19.1)\n",
            "Requirement already satisfied: onnxruntime>=1.14.1 in /usr/local/lib/python3.11/dist-packages (from chromadb) (1.21.0)\n",
            "Requirement already satisfied: opentelemetry-api>=1.2.0 in /usr/local/lib/python3.11/dist-packages (from chromadb) (1.30.0)\n",
            "Requirement already satisfied: opentelemetry-exporter-otlp-proto-grpc>=1.2.0 in /usr/local/lib/python3.11/dist-packages (from chromadb) (1.30.0)\n",
            "Requirement already satisfied: opentelemetry-instrumentation-fastapi>=0.41b0 in /usr/local/lib/python3.11/dist-packages (from chromadb) (0.51b0)\n",
            "Requirement already satisfied: opentelemetry-sdk>=1.2.0 in /usr/local/lib/python3.11/dist-packages (from chromadb) (1.30.0)\n",
            "Requirement already satisfied: tokenizers>=0.13.2 in /usr/local/lib/python3.11/dist-packages (from chromadb) (0.21.0)\n",
            "Requirement already satisfied: pypika>=0.48.9 in /usr/local/lib/python3.11/dist-packages (from chromadb) (0.48.9)\n",
            "Requirement already satisfied: overrides>=7.3.1 in /usr/local/lib/python3.11/dist-packages (from chromadb) (7.7.0)\n",
            "Requirement already satisfied: importlib-resources in /usr/local/lib/python3.11/dist-packages (from chromadb) (6.5.2)\n",
            "Requirement already satisfied: grpcio>=1.58.0 in /usr/local/lib/python3.11/dist-packages (from chromadb) (1.70.0)\n",
            "Requirement already satisfied: bcrypt>=4.0.1 in /usr/local/lib/python3.11/dist-packages (from chromadb) (4.3.0)\n",
            "Requirement already satisfied: typer>=0.9.0 in /usr/local/lib/python3.11/dist-packages (from chromadb) (0.15.2)\n",
            "Requirement already satisfied: kubernetes>=28.1.0 in /usr/local/lib/python3.11/dist-packages (from chromadb) (32.0.1)\n",
            "Requirement already satisfied: mmh3>=4.0.1 in /usr/local/lib/python3.11/dist-packages (from chromadb) (5.1.0)\n",
            "Requirement already satisfied: orjson>=3.9.12 in /usr/local/lib/python3.11/dist-packages (from chromadb) (3.10.15)\n",
            "Requirement already satisfied: rich>=10.11.0 in /usr/local/lib/python3.11/dist-packages (from chromadb) (13.9.4)\n",
            "Requirement already satisfied: regex>=2022.1.18 in /usr/local/lib/python3.11/dist-packages (from tiktoken) (2024.11.6)\n",
            "Requirement already satisfied: aiohappyeyeballs>=2.3.0 in /usr/local/lib/python3.11/dist-packages (from aiohttp<4.0.0,>=3.8.3->langchain_community) (2.5.0)\n",
            "Requirement already satisfied: aiosignal>=1.1.2 in /usr/local/lib/python3.11/dist-packages (from aiohttp<4.0.0,>=3.8.3->langchain_community) (1.3.2)\n",
            "Requirement already satisfied: attrs>=17.3.0 in /usr/local/lib/python3.11/dist-packages (from aiohttp<4.0.0,>=3.8.3->langchain_community) (25.1.0)\n",
            "Requirement already satisfied: frozenlist>=1.1.1 in /usr/local/lib/python3.11/dist-packages (from aiohttp<4.0.0,>=3.8.3->langchain_community) (1.5.0)\n",
            "Requirement already satisfied: multidict<7.0,>=4.5 in /usr/local/lib/python3.11/dist-packages (from aiohttp<4.0.0,>=3.8.3->langchain_community) (6.1.0)\n",
            "Requirement already satisfied: propcache>=0.2.0 in /usr/local/lib/python3.11/dist-packages (from aiohttp<4.0.0,>=3.8.3->langchain_community) (0.3.0)\n",
            "Requirement already satisfied: yarl<2.0,>=1.17.0 in /usr/local/lib/python3.11/dist-packages (from aiohttp<4.0.0,>=3.8.3->langchain_community) (1.18.3)\n",
            "Requirement already satisfied: idna>=2.8 in /usr/local/lib/python3.11/dist-packages (from anyio<5,>=3.5.0->openai) (3.10)\n",
            "Requirement already satisfied: packaging>=19.1 in /usr/local/lib/python3.11/dist-packages (from build>=1.0.3->chromadb) (24.2)\n",
            "Requirement already satisfied: pyproject_hooks in /usr/local/lib/python3.11/dist-packages (from build>=1.0.3->chromadb) (1.2.0)\n",
            "Requirement already satisfied: marshmallow<4.0.0,>=3.18.0 in /usr/local/lib/python3.11/dist-packages (from dataclasses-json<0.7,>=0.5.7->langchain_community) (3.26.1)\n",
            "Requirement already satisfied: typing-inspect<1,>=0.4.0 in /usr/local/lib/python3.11/dist-packages (from dataclasses-json<0.7,>=0.5.7->langchain_community) (0.9.0)\n",
            "Requirement already satisfied: starlette<0.47.0,>=0.40.0 in /usr/local/lib/python3.11/dist-packages (from fastapi>=0.95.2->chromadb) (0.46.1)\n",
            "Requirement already satisfied: certifi in /usr/local/lib/python3.11/dist-packages (from httpx<1,>=0.23.0->openai) (2025.1.31)\n",
            "Requirement already satisfied: httpcore==1.* in /usr/local/lib/python3.11/dist-packages (from httpx<1,>=0.23.0->openai) (1.0.7)\n",
            "Requirement already satisfied: h11<0.15,>=0.13 in /usr/local/lib/python3.11/dist-packages (from httpcore==1.*->httpx<1,>=0.23.0->openai) (0.14.0)\n",
            "Requirement already satisfied: six>=1.9.0 in /usr/local/lib/python3.11/dist-packages (from kubernetes>=28.1.0->chromadb) (1.17.0)\n",
            "Requirement already satisfied: python-dateutil>=2.5.3 in /usr/local/lib/python3.11/dist-packages (from kubernetes>=28.1.0->chromadb) (2.8.2)\n",
            "Requirement already satisfied: google-auth>=1.0.1 in /usr/local/lib/python3.11/dist-packages (from kubernetes>=28.1.0->chromadb) (2.38.0)\n",
            "Requirement already satisfied: websocket-client!=0.40.0,!=0.41.*,!=0.42.*,>=0.32.0 in /usr/local/lib/python3.11/dist-packages (from kubernetes>=28.1.0->chromadb) (1.8.0)\n",
            "Requirement already satisfied: requests-oauthlib in /usr/local/lib/python3.11/dist-packages (from kubernetes>=28.1.0->chromadb) (2.0.0)\n",
            "Requirement already satisfied: oauthlib>=3.2.2 in /usr/local/lib/python3.11/dist-packages (from kubernetes>=28.1.0->chromadb) (3.2.2)\n",
            "Requirement already satisfied: urllib3>=1.24.2 in /usr/local/lib/python3.11/dist-packages (from kubernetes>=28.1.0->chromadb) (2.3.0)\n",
            "Requirement already satisfied: durationpy>=0.7 in /usr/local/lib/python3.11/dist-packages (from kubernetes>=28.1.0->chromadb) (0.9)\n",
            "Requirement already satisfied: jsonpatch<2.0,>=1.33 in /usr/local/lib/python3.11/dist-packages (from langchain-core<1.0.0,>=0.3.41->langchain) (1.33)\n",
            "Requirement already satisfied: requests-toolbelt<2.0.0,>=1.0.0 in /usr/local/lib/python3.11/dist-packages (from langsmith<0.4,>=0.1.17->langchain) (1.0.0)\n",
            "Requirement already satisfied: zstandard<0.24.0,>=0.23.0 in /usr/local/lib/python3.11/dist-packages (from langsmith<0.4,>=0.1.17->langchain) (0.23.0)\n",
            "Requirement already satisfied: click<9.0.0,>=8.1.7 in /usr/local/lib/python3.11/dist-packages (from llama-cloud-services>=0.6.4->llama-parse) (8.1.8)\n",
            "Requirement already satisfied: llama-cloud<0.2.0,>=0.1.14 in /usr/local/lib/python3.11/dist-packages (from llama-cloud-services>=0.6.4->llama-parse) (0.1.14)\n",
            "Requirement already satisfied: llama-index-core>=0.11.0 in /usr/local/lib/python3.11/dist-packages (from llama-cloud-services>=0.6.4->llama-parse) (0.12.23.post2)\n",
            "Requirement already satisfied: python-dotenv<2.0.0,>=1.0.1 in /usr/local/lib/python3.11/dist-packages (from llama-cloud-services>=0.6.4->llama-parse) (1.0.1)\n",
            "Requirement already satisfied: coloredlogs in /usr/local/lib/python3.11/dist-packages (from onnxruntime>=1.14.1->chromadb) (15.0.1)\n",
            "Requirement already satisfied: flatbuffers in /usr/local/lib/python3.11/dist-packages (from onnxruntime>=1.14.1->chromadb) (25.2.10)\n",
            "Requirement already satisfied: protobuf in /usr/local/lib/python3.11/dist-packages (from onnxruntime>=1.14.1->chromadb) (5.29.3)\n",
            "Requirement already satisfied: sympy in /usr/local/lib/python3.11/dist-packages (from onnxruntime>=1.14.1->chromadb) (1.13.1)\n",
            "Requirement already satisfied: deprecated>=1.2.6 in /usr/local/lib/python3.11/dist-packages (from opentelemetry-api>=1.2.0->chromadb) (1.2.18)\n",
            "Requirement already satisfied: importlib-metadata<=8.5.0,>=6.0 in /usr/local/lib/python3.11/dist-packages (from opentelemetry-api>=1.2.0->chromadb) (8.5.0)\n",
            "Requirement already satisfied: googleapis-common-protos~=1.52 in /usr/local/lib/python3.11/dist-packages (from opentelemetry-exporter-otlp-proto-grpc>=1.2.0->chromadb) (1.69.0)\n",
            "Requirement already satisfied: opentelemetry-exporter-otlp-proto-common==1.30.0 in /usr/local/lib/python3.11/dist-packages (from opentelemetry-exporter-otlp-proto-grpc>=1.2.0->chromadb) (1.30.0)\n",
            "Requirement already satisfied: opentelemetry-proto==1.30.0 in /usr/local/lib/python3.11/dist-packages (from opentelemetry-exporter-otlp-proto-grpc>=1.2.0->chromadb) (1.30.0)\n",
            "Requirement already satisfied: opentelemetry-instrumentation-asgi==0.51b0 in /usr/local/lib/python3.11/dist-packages (from opentelemetry-instrumentation-fastapi>=0.41b0->chromadb) (0.51b0)\n",
            "Requirement already satisfied: opentelemetry-instrumentation==0.51b0 in /usr/local/lib/python3.11/dist-packages (from opentelemetry-instrumentation-fastapi>=0.41b0->chromadb) (0.51b0)\n",
            "Requirement already satisfied: opentelemetry-semantic-conventions==0.51b0 in /usr/local/lib/python3.11/dist-packages (from opentelemetry-instrumentation-fastapi>=0.41b0->chromadb) (0.51b0)\n",
            "Requirement already satisfied: opentelemetry-util-http==0.51b0 in /usr/local/lib/python3.11/dist-packages (from opentelemetry-instrumentation-fastapi>=0.41b0->chromadb) (0.51b0)\n",
            "Requirement already satisfied: wrapt<2.0.0,>=1.0.0 in /usr/local/lib/python3.11/dist-packages (from opentelemetry-instrumentation==0.51b0->opentelemetry-instrumentation-fastapi>=0.41b0->chromadb) (1.17.2)\n",
            "Requirement already satisfied: asgiref~=3.0 in /usr/local/lib/python3.11/dist-packages (from opentelemetry-instrumentation-asgi==0.51b0->opentelemetry-instrumentation-fastapi>=0.41b0->chromadb) (3.8.1)\n",
            "Requirement already satisfied: monotonic>=1.5 in /usr/local/lib/python3.11/dist-packages (from posthog>=2.4.0->chromadb) (1.6)\n",
            "Requirement already satisfied: backoff>=1.10.0 in /usr/local/lib/python3.11/dist-packages (from posthog>=2.4.0->chromadb) (2.2.1)\n",
            "Requirement already satisfied: annotated-types>=0.6.0 in /usr/local/lib/python3.11/dist-packages (from pydantic<3.0.0,>=2.7.4->langchain) (0.7.0)\n",
            "Requirement already satisfied: pydantic-core==2.27.2 in /usr/local/lib/python3.11/dist-packages (from pydantic<3.0.0,>=2.7.4->langchain) (2.27.2)\n",
            "Requirement already satisfied: charset-normalizer<4,>=2 in /usr/local/lib/python3.11/dist-packages (from requests<3,>=2->langchain) (3.4.1)\n",
            "Requirement already satisfied: markdown-it-py>=2.2.0 in /usr/local/lib/python3.11/dist-packages (from rich>=10.11.0->chromadb) (3.0.0)\n",
            "Requirement already satisfied: pygments<3.0.0,>=2.13.0 in /usr/local/lib/python3.11/dist-packages (from rich>=10.11.0->chromadb) (2.18.0)\n",
            "Requirement already satisfied: greenlet!=0.4.17 in /usr/local/lib/python3.11/dist-packages (from SQLAlchemy<3,>=1.4->langchain) (3.1.1)\n",
            "Requirement already satisfied: huggingface-hub<1.0,>=0.16.4 in /usr/local/lib/python3.11/dist-packages (from tokenizers>=0.13.2->chromadb) (0.28.1)\n",
            "Requirement already satisfied: shellingham>=1.3.0 in /usr/local/lib/python3.11/dist-packages (from typer>=0.9.0->chromadb) (1.5.4)\n",
            "Requirement already satisfied: httptools>=0.6.3 in /usr/local/lib/python3.11/dist-packages (from uvicorn[standard]>=0.18.3->chromadb) (0.6.4)\n",
            "Requirement already satisfied: uvloop!=0.15.0,!=0.15.1,>=0.14.0 in /usr/local/lib/python3.11/dist-packages (from uvicorn[standard]>=0.18.3->chromadb) (0.21.0)\n",
            "Requirement already satisfied: watchfiles>=0.13 in /usr/local/lib/python3.11/dist-packages (from uvicorn[standard]>=0.18.3->chromadb) (1.0.4)\n",
            "Requirement already satisfied: websockets>=10.4 in /usr/local/lib/python3.11/dist-packages (from uvicorn[standard]>=0.18.3->chromadb) (14.2)\n",
            "Requirement already satisfied: cachetools<6.0,>=2.0.0 in /usr/local/lib/python3.11/dist-packages (from google-auth>=1.0.1->kubernetes>=28.1.0->chromadb) (5.5.2)\n",
            "Requirement already satisfied: pyasn1-modules>=0.2.1 in /usr/local/lib/python3.11/dist-packages (from google-auth>=1.0.1->kubernetes>=28.1.0->chromadb) (0.4.1)\n",
            "Requirement already satisfied: rsa<5,>=3.1.4 in /usr/local/lib/python3.11/dist-packages (from google-auth>=1.0.1->kubernetes>=28.1.0->chromadb) (4.9)\n",
            "Requirement already satisfied: filelock in /usr/local/lib/python3.11/dist-packages (from huggingface-hub<1.0,>=0.16.4->tokenizers>=0.13.2->chromadb) (3.17.0)\n",
            "Requirement already satisfied: fsspec>=2023.5.0 in /usr/local/lib/python3.11/dist-packages (from huggingface-hub<1.0,>=0.16.4->tokenizers>=0.13.2->chromadb) (2025.3.0)\n",
            "Requirement already satisfied: zipp>=3.20 in /usr/local/lib/python3.11/dist-packages (from importlib-metadata<=8.5.0,>=6.0->opentelemetry-api>=1.2.0->chromadb) (3.21.0)\n",
            "Requirement already satisfied: jsonpointer>=1.9 in /usr/local/lib/python3.11/dist-packages (from jsonpatch<2.0,>=1.33->langchain-core<1.0.0,>=0.3.41->langchain) (3.0.0)\n",
            "Requirement already satisfied: dirtyjson<2.0.0,>=1.0.8 in /usr/local/lib/python3.11/dist-packages (from llama-index-core>=0.11.0->llama-cloud-services>=0.6.4->llama-parse) (1.0.8)\n",
            "Requirement already satisfied: filetype<2.0.0,>=1.2.0 in /usr/local/lib/python3.11/dist-packages (from llama-index-core>=0.11.0->llama-cloud-services>=0.6.4->llama-parse) (1.2.0)\n",
            "Requirement already satisfied: nest-asyncio<2.0.0,>=1.5.8 in /usr/local/lib/python3.11/dist-packages (from llama-index-core>=0.11.0->llama-cloud-services>=0.6.4->llama-parse) (1.6.0)\n",
            "Requirement already satisfied: networkx>=3.0 in /usr/local/lib/python3.11/dist-packages (from llama-index-core>=0.11.0->llama-cloud-services>=0.6.4->llama-parse) (3.4.2)\n",
            "Requirement already satisfied: nltk>3.8.1 in /usr/local/lib/python3.11/dist-packages (from llama-index-core>=0.11.0->llama-cloud-services>=0.6.4->llama-parse) (3.9.1)\n",
            "Requirement already satisfied: pillow>=9.0.0 in /usr/local/lib/python3.11/dist-packages (from llama-index-core>=0.11.0->llama-cloud-services>=0.6.4->llama-parse) (11.1.0)\n",
            "Requirement already satisfied: mdurl~=0.1 in /usr/local/lib/python3.11/dist-packages (from markdown-it-py>=2.2.0->rich>=10.11.0->chromadb) (0.1.2)\n",
            "Requirement already satisfied: mypy-extensions>=0.3.0 in /usr/local/lib/python3.11/dist-packages (from typing-inspect<1,>=0.4.0->dataclasses-json<0.7,>=0.5.7->langchain_community) (1.0.0)\n",
            "Requirement already satisfied: humanfriendly>=9.1 in /usr/local/lib/python3.11/dist-packages (from coloredlogs->onnxruntime>=1.14.1->chromadb) (10.0)\n",
            "Requirement already satisfied: mpmath<1.4,>=1.1.0 in /usr/local/lib/python3.11/dist-packages (from sympy->onnxruntime>=1.14.1->chromadb) (1.3.0)\n",
            "Requirement already satisfied: joblib in /usr/local/lib/python3.11/dist-packages (from nltk>3.8.1->llama-index-core>=0.11.0->llama-cloud-services>=0.6.4->llama-parse) (1.4.2)\n",
            "Requirement already satisfied: pyasn1<0.7.0,>=0.4.6 in /usr/local/lib/python3.11/dist-packages (from pyasn1-modules>=0.2.1->google-auth>=1.0.1->kubernetes>=28.1.0->chromadb) (0.6.1)\n"
          ]
        }
      ],
      "source": [
        "!pip install langchain langchain_community langchain_openai llama-parse openai chromadb tiktoken pyyaml"
      ]
    },
    {
      "cell_type": "code",
      "source": [
        "# Add these imports at the top\n",
        "import nest_asyncio\n",
        "import asyncio\n",
        "from langchain_community.embeddings import HuggingFaceEmbeddings\n"
      ],
      "metadata": {
        "id": "yTMMLPZIYBNZ"
      },
      "execution_count": null,
      "outputs": []
    },
    {
      "cell_type": "code",
      "source": [
        "# Apply nest_asyncio before using LlamaParse\n",
        "nest_asyncio.apply()"
      ],
      "metadata": {
        "id": "1wstDCcnYbQ0"
      },
      "execution_count": null,
      "outputs": []
    },
    {
      "cell_type": "code",
      "source": [
        "!pip install pypdf"
      ],
      "metadata": {
        "colab": {
          "base_uri": "https://localhost:8080/"
        },
        "id": "sOm5XmVQ6D-Q",
        "outputId": "4a9bbee9-0766-49ab-b05b-e846e7c78f7f"
      },
      "execution_count": null,
      "outputs": [
        {
          "output_type": "stream",
          "name": "stdout",
          "text": [
            "Requirement already satisfied: pypdf in /usr/local/lib/python3.11/dist-packages (5.3.1)\n"
          ]
        }
      ]
    },
    {
      "cell_type": "code",
      "source": [
        "# Install the required packages if needed\n",
        "!pip install -q langchain langchain_community langchain_openai transformers accelerate bitsandbytes"
      ],
      "metadata": {
        "id": "pGIktLHodoyb"
      },
      "execution_count": null,
      "outputs": []
    },
    {
      "cell_type": "code",
      "source": [
        "!pip install torch==1.13.1+cu117 --force-reinstall\n",
        "!pip install torchvision torchaudio --force-reinstall"
      ],
      "metadata": {
        "id": "k4Yq3BbHcvpk",
        "outputId": "c61e416a-8ace-44fd-8142-4df0aab1b9c7",
        "colab": {
          "base_uri": "https://localhost:8080/"
        }
      },
      "execution_count": null,
      "outputs": [
        {
          "output_type": "stream",
          "name": "stdout",
          "text": [
            "\u001b[31mERROR: Could not find a version that satisfies the requirement torch==1.13.1+cu117 (from versions: 1.13.0, 1.13.1, 2.0.0, 2.0.1, 2.1.0, 2.1.1, 2.1.2, 2.2.0, 2.2.1, 2.2.2, 2.3.0, 2.3.1, 2.4.0, 2.4.1, 2.5.0, 2.5.1, 2.6.0)\u001b[0m\u001b[31m\n",
            "\u001b[0m\u001b[31mERROR: No matching distribution found for torch==1.13.1+cu117\u001b[0m\u001b[31m\n",
            "\u001b[0mCollecting torchvision\n",
            "  Using cached torchvision-0.21.0-cp311-cp311-manylinux1_x86_64.whl.metadata (6.1 kB)\n",
            "Collecting torchaudio\n",
            "  Using cached torchaudio-2.6.0-cp311-cp311-manylinux1_x86_64.whl.metadata (6.6 kB)\n",
            "Collecting numpy (from torchvision)\n",
            "  Using cached numpy-2.2.3-cp311-cp311-manylinux_2_17_x86_64.manylinux2014_x86_64.whl.metadata (62 kB)\n",
            "Collecting torch==2.6.0 (from torchvision)\n",
            "  Using cached torch-2.6.0-cp311-cp311-manylinux1_x86_64.whl.metadata (28 kB)\n",
            "Collecting pillow!=8.3.*,>=5.3.0 (from torchvision)\n",
            "  Using cached pillow-11.1.0-cp311-cp311-manylinux_2_28_x86_64.whl.metadata (9.1 kB)\n",
            "Collecting filelock (from torch==2.6.0->torchvision)\n",
            "  Using cached filelock-3.17.0-py3-none-any.whl.metadata (2.9 kB)\n",
            "Collecting typing-extensions>=4.10.0 (from torch==2.6.0->torchvision)\n",
            "  Using cached typing_extensions-4.12.2-py3-none-any.whl.metadata (3.0 kB)\n",
            "Collecting networkx (from torch==2.6.0->torchvision)\n",
            "  Using cached networkx-3.4.2-py3-none-any.whl.metadata (6.3 kB)\n",
            "Collecting jinja2 (from torch==2.6.0->torchvision)\n",
            "  Using cached jinja2-3.1.6-py3-none-any.whl.metadata (2.9 kB)\n",
            "Collecting fsspec (from torch==2.6.0->torchvision)\n",
            "  Using cached fsspec-2025.3.0-py3-none-any.whl.metadata (11 kB)\n",
            "Collecting nvidia-cuda-nvrtc-cu12==12.4.127 (from torch==2.6.0->torchvision)\n",
            "  Using cached nvidia_cuda_nvrtc_cu12-12.4.127-py3-none-manylinux2014_x86_64.whl.metadata (1.5 kB)\n",
            "Collecting nvidia-cuda-runtime-cu12==12.4.127 (from torch==2.6.0->torchvision)\n",
            "  Using cached nvidia_cuda_runtime_cu12-12.4.127-py3-none-manylinux2014_x86_64.whl.metadata (1.5 kB)\n",
            "Collecting nvidia-cuda-cupti-cu12==12.4.127 (from torch==2.6.0->torchvision)\n",
            "  Using cached nvidia_cuda_cupti_cu12-12.4.127-py3-none-manylinux2014_x86_64.whl.metadata (1.6 kB)\n",
            "Collecting nvidia-cudnn-cu12==9.1.0.70 (from torch==2.6.0->torchvision)\n",
            "  Using cached nvidia_cudnn_cu12-9.1.0.70-py3-none-manylinux2014_x86_64.whl.metadata (1.6 kB)\n",
            "Collecting nvidia-cublas-cu12==12.4.5.8 (from torch==2.6.0->torchvision)\n",
            "  Using cached nvidia_cublas_cu12-12.4.5.8-py3-none-manylinux2014_x86_64.whl.metadata (1.5 kB)\n",
            "Collecting nvidia-cufft-cu12==11.2.1.3 (from torch==2.6.0->torchvision)\n",
            "  Using cached nvidia_cufft_cu12-11.2.1.3-py3-none-manylinux2014_x86_64.whl.metadata (1.5 kB)\n",
            "Collecting nvidia-curand-cu12==10.3.5.147 (from torch==2.6.0->torchvision)\n",
            "  Using cached nvidia_curand_cu12-10.3.5.147-py3-none-manylinux2014_x86_64.whl.metadata (1.5 kB)\n",
            "Collecting nvidia-cusolver-cu12==11.6.1.9 (from torch==2.6.0->torchvision)\n",
            "  Using cached nvidia_cusolver_cu12-11.6.1.9-py3-none-manylinux2014_x86_64.whl.metadata (1.6 kB)\n",
            "Collecting nvidia-cusparse-cu12==12.3.1.170 (from torch==2.6.0->torchvision)\n",
            "  Using cached nvidia_cusparse_cu12-12.3.1.170-py3-none-manylinux2014_x86_64.whl.metadata (1.6 kB)\n",
            "Collecting nvidia-cusparselt-cu12==0.6.2 (from torch==2.6.0->torchvision)\n",
            "  Using cached nvidia_cusparselt_cu12-0.6.2-py3-none-manylinux2014_x86_64.whl.metadata (6.8 kB)\n",
            "Collecting nvidia-nccl-cu12==2.21.5 (from torch==2.6.0->torchvision)\n",
            "  Using cached nvidia_nccl_cu12-2.21.5-py3-none-manylinux2014_x86_64.whl.metadata (1.8 kB)\n",
            "Collecting nvidia-nvtx-cu12==12.4.127 (from torch==2.6.0->torchvision)\n",
            "  Using cached nvidia_nvtx_cu12-12.4.127-py3-none-manylinux2014_x86_64.whl.metadata (1.7 kB)\n",
            "Collecting nvidia-nvjitlink-cu12==12.4.127 (from torch==2.6.0->torchvision)\n",
            "  Using cached nvidia_nvjitlink_cu12-12.4.127-py3-none-manylinux2014_x86_64.whl.metadata (1.5 kB)\n",
            "Collecting triton==3.2.0 (from torch==2.6.0->torchvision)\n",
            "  Using cached triton-3.2.0-cp311-cp311-manylinux_2_17_x86_64.manylinux2014_x86_64.whl.metadata (1.4 kB)\n",
            "Collecting sympy==1.13.1 (from torch==2.6.0->torchvision)\n",
            "  Using cached sympy-1.13.1-py3-none-any.whl.metadata (12 kB)\n",
            "Collecting mpmath<1.4,>=1.1.0 (from sympy==1.13.1->torch==2.6.0->torchvision)\n",
            "  Using cached mpmath-1.3.0-py3-none-any.whl.metadata (8.6 kB)\n",
            "Collecting MarkupSafe>=2.0 (from jinja2->torch==2.6.0->torchvision)\n",
            "  Using cached MarkupSafe-3.0.2-cp311-cp311-manylinux_2_17_x86_64.manylinux2014_x86_64.whl.metadata (4.0 kB)\n",
            "Using cached torchvision-0.21.0-cp311-cp311-manylinux1_x86_64.whl (7.2 MB)\n",
            "Using cached torch-2.6.0-cp311-cp311-manylinux1_x86_64.whl (766.7 MB)\n",
            "Using cached nvidia_cublas_cu12-12.4.5.8-py3-none-manylinux2014_x86_64.whl (363.4 MB)\n",
            "Using cached nvidia_cuda_cupti_cu12-12.4.127-py3-none-manylinux2014_x86_64.whl (13.8 MB)\n",
            "Using cached nvidia_cuda_nvrtc_cu12-12.4.127-py3-none-manylinux2014_x86_64.whl (24.6 MB)\n",
            "Using cached nvidia_cuda_runtime_cu12-12.4.127-py3-none-manylinux2014_x86_64.whl (883 kB)\n",
            "Using cached nvidia_cudnn_cu12-9.1.0.70-py3-none-manylinux2014_x86_64.whl (664.8 MB)\n",
            "\u001b[31mERROR: Operation cancelled by user\u001b[0m\u001b[31m\n",
            "\u001b[0m"
          ]
        }
      ]
    },
    {
      "cell_type": "code",
      "source": [
        "import os\n",
        "import tempfile\n",
        "import yaml\n",
        "import time\n",
        "import requests\n",
        "from langchain.text_splitter import RecursiveCharacterTextSplitter\n",
        "from langchain.vectorstores import Chroma\n",
        "from langchain_openai import OpenAIEmbeddings\n",
        "from langchain_openai import ChatOpenAI\n",
        "from langchain.chains import RetrievalQA\n",
        "from langchain.prompts import PromptTemplate\n",
        "from google.colab import files\n",
        "from llama_parse import LlamaParse\n",
        "from langchain_community.embeddings.huggingface import HuggingFaceEmbeddings\n",
        "from langchain.document_loaders import PyPDFLoader\n",
        "import torch\n",
        "from langchain_community.llms import HuggingFacePipeline\n",
        "\n",
        "import torch\n",
        "from transformers import AutoTokenizer, AutoModelForCausalLM, pipeline\n",
        "\n"
      ],
      "metadata": {
        "id": "OcExLE2wFXFh"
      },
      "execution_count": null,
      "outputs": []
    },
    {
      "cell_type": "code",
      "source": [
        "import pandas as pd"
      ],
      "metadata": {
        "id": "bNjDuutaKw1z"
      },
      "execution_count": null,
      "outputs": []
    },
    {
      "cell_type": "code",
      "source": [
        "from langchain_community.embeddings import HuggingFaceEmbeddings\n",
        "print(\"Import successful!\")"
      ],
      "metadata": {
        "colab": {
          "base_uri": "https://localhost:8080/"
        },
        "id": "yLD34g3S68mG",
        "outputId": "f3a47cce-bed5-4899-a5a9-feaea09eac43"
      },
      "execution_count": null,
      "outputs": [
        {
          "output_type": "stream",
          "name": "stdout",
          "text": [
            "Import successful!\n"
          ]
        }
      ]
    },
    {
      "cell_type": "code",
      "source": [
        "import locale\n",
        "locale.getpreferredencoding = lambda: \"UTF-8\""
      ],
      "metadata": {
        "id": "iK2osCNWGanp"
      },
      "execution_count": null,
      "outputs": []
    },
    {
      "cell_type": "code",
      "source": [
        "with open('chatgpt_api_credentials.yml', 'r') as file:\n",
        "    api_creds = yaml.safe_load(file)"
      ],
      "metadata": {
        "id": "RoHsAxcyGq8P"
      },
      "execution_count": null,
      "outputs": []
    },
    {
      "cell_type": "code",
      "source": [
        "api_creds.keys()"
      ],
      "metadata": {
        "colab": {
          "base_uri": "https://localhost:8080/"
        },
        "id": "saW384KjG7YL",
        "outputId": "4a56b47d-8aba-4022-fbfe-71ca569487aa"
      },
      "execution_count": null,
      "outputs": [
        {
          "output_type": "execute_result",
          "data": {
            "text/plain": [
              "dict_keys(['openai_key'])"
            ]
          },
          "metadata": {},
          "execution_count": 12
        }
      ]
    },
    {
      "cell_type": "code",
      "source": [
        "os.environ['OPENAI_API_KEY'] = api_creds['openai_key']"
      ],
      "metadata": {
        "id": "0teXLOxmG-si"
      },
      "execution_count": null,
      "outputs": []
    },
    {
      "cell_type": "code",
      "source": [
        "# Verify the API key is loaded\n",
        "if os.environ[\"OPENAI_API_KEY\"]:\n",
        "    print(\"API key successfully loaded from YAML file\")\n",
        "else:\n",
        "    print(\"Failed to load API key. Please check your YAML file format\")"
      ],
      "metadata": {
        "colab": {
          "base_uri": "https://localhost:8080/"
        },
        "id": "Gt_86howHIjl",
        "outputId": "69dfb055-0448-4c20-c4fb-60fe8ae0f76d"
      },
      "execution_count": null,
      "outputs": [
        {
          "output_type": "stream",
          "name": "stdout",
          "text": [
            "API key successfully loaded from YAML file\n"
          ]
        }
      ]
    },
    {
      "cell_type": "code",
      "source": [
        "with open('llama_api_credentials.yml', 'r') as file:\n",
        "    api_creds_llama = yaml.safe_load(file)"
      ],
      "metadata": {
        "id": "IHDsubv1LKpL"
      },
      "execution_count": null,
      "outputs": []
    },
    {
      "cell_type": "code",
      "source": [
        "api_creds_llama.keys()"
      ],
      "metadata": {
        "colab": {
          "base_uri": "https://localhost:8080/"
        },
        "id": "w5Zssg-NO8iY",
        "outputId": "45702fa7-3c57-4317-82de-92d02eef00c0"
      },
      "execution_count": null,
      "outputs": [
        {
          "output_type": "execute_result",
          "data": {
            "text/plain": [
              "dict_keys(['llama_key'])"
            ]
          },
          "metadata": {},
          "execution_count": 16
        }
      ]
    },
    {
      "cell_type": "code",
      "source": [
        "os.environ['LLAMA_API_KEY'] = api_creds_llama['llama_key']"
      ],
      "metadata": {
        "id": "ooiK__nTO_WH"
      },
      "execution_count": null,
      "outputs": []
    },
    {
      "cell_type": "code",
      "source": [
        "# Verify the API key is loaded\n",
        "if os.environ[\"LLAMA_API_KEY\"]:\n",
        "    print(\"API key successfully loaded from YAML file\")\n",
        "else:\n",
        "    print(\"Failed to load API key. Please check your YAML file format\")"
      ],
      "metadata": {
        "colab": {
          "base_uri": "https://localhost:8080/"
        },
        "id": "Aug-XOkSSuUP",
        "outputId": "72948d00-153d-4feb-cb24-5b797a8e2202"
      },
      "execution_count": null,
      "outputs": [
        {
          "output_type": "stream",
          "name": "stdout",
          "text": [
            "API key successfully loaded from YAML file\n"
          ]
        }
      ]
    },
    {
      "cell_type": "code",
      "source": [
        "# Load the document\n",
        "loader = PyPDFLoader('Final Policy document_LICs New Jeevan Shanti_V05_logo.pdf')\n",
        "documents = loader.load()\n",
        "print(f\"Loaded {len(documents)} pages from the PDF document\")"
      ],
      "metadata": {
        "colab": {
          "base_uri": "https://localhost:8080/"
        },
        "id": "6ib4klGJHJvR",
        "outputId": "e8c7f493-fdfe-4bc2-aac5-812627bd707e"
      },
      "execution_count": null,
      "outputs": [
        {
          "output_type": "stream",
          "name": "stdout",
          "text": [
            "Loaded 21 pages from the PDF document\n"
          ]
        }
      ]
    },
    {
      "cell_type": "code",
      "source": [
        "import nest_asyncio\n",
        "import asyncio\n",
        "\n",
        "# Apply nest_asyncio to allow nested async\n",
        "nest_asyncio.apply()\n",
        "\n",
        "try:\n",
        "    # Initialize LlamaParse\n",
        "    llama_parser = LlamaParse(\n",
        "        api_key=os.environ[\"LLAMA_API_KEY\"],\n",
        "        result_type=\"markdown\"\n",
        "    )\n",
        "\n",
        "    print(\"Parsing PDF with LlamaParse. This may take a moment...\")\n",
        "\n",
        "    # Use the async method properly with await\n",
        "    async def parse_with_llama():\n",
        "        return await llama_parser.aload_data('Final Policy document_LICs New Jeevan Shanti_V05_logo.pdf')\n",
        "\n",
        "    # Run the async function\n",
        "    llama_documents = asyncio.run(parse_with_llama())\n",
        "\n",
        "    # Convert to LangChain Documents\n",
        "    from langchain.schema import Document as LangchainDocument\n",
        "    parsed_docs = []\n",
        "\n",
        "    # Print debug info\n",
        "    print(f\"Result type: {type(llama_documents)}\")\n",
        "\n",
        "    # Process the results based on type\n",
        "    if isinstance(llama_documents, str):\n",
        "        parsed_docs.append(LangchainDocument(page_content=llama_documents, metadata={\"source\": \"LlamaParse\"}))\n",
        "    elif isinstance(llama_documents, list):\n",
        "        print(f\"List length: {len(llama_documents)}\")\n",
        "        for i, content in enumerate(llama_documents):\n",
        "            print(f\"Processing item {i}, type: {type(content)}\")\n",
        "\n",
        "            # Handle LlamaIndex Document type\n",
        "            if 'llama_index.core.schema.Document' in str(type(content)):\n",
        "                # Extract text and metadata from LlamaIndex Document\n",
        "                text = content.get_content() if hasattr(content, 'get_content') else (\n",
        "                    content.text if hasattr(content, 'text') else str(content)\n",
        "                )\n",
        "                metadata = content.metadata if hasattr(content, 'metadata') else {\"page\": i}\n",
        "                parsed_docs.append(LangchainDocument(page_content=text, metadata=metadata))\n",
        "            elif isinstance(content, str):\n",
        "                parsed_docs.append(LangchainDocument(page_content=content, metadata={\"page\": i}))\n",
        "            elif hasattr(content, 'page_content'):\n",
        "                parsed_docs.append(content)\n",
        "            elif isinstance(content, dict) and 'text' in content:\n",
        "                parsed_docs.append(LangchainDocument(page_content=content['text'], metadata={\"page\": i}))\n",
        "\n",
        "    print(f\"Successfully parsed {len(parsed_docs)} documents with LlamaParse\")\n",
        "\n",
        "    # Only use if we got documents\n",
        "    if parsed_docs:\n",
        "        documents = parsed_docs\n",
        "\n",
        "except Exception as e:\n",
        "    print(f\"Error using LlamaParse, continuing with PyPDFLoader documents: {str(e)}\")"
      ],
      "metadata": {
        "colab": {
          "base_uri": "https://localhost:8080/"
        },
        "id": "fc-YsyEvdo2l",
        "outputId": "1812adfa-b028-4703-bf0d-a91d9126ce60"
      },
      "execution_count": null,
      "outputs": [
        {
          "output_type": "stream",
          "name": "stdout",
          "text": [
            "Parsing PDF with LlamaParse. This may take a moment...\n",
            "Started parsing the file under job_id 7294bbb3-f473-42f8-80bc-0bb43fd1bd60\n",
            "Result type: <class 'list'>\n",
            "List length: 21\n",
            "Processing item 0, type: <class 'llama_index.core.schema.Document'>\n",
            "Processing item 1, type: <class 'llama_index.core.schema.Document'>\n",
            "Processing item 2, type: <class 'llama_index.core.schema.Document'>\n",
            "Processing item 3, type: <class 'llama_index.core.schema.Document'>\n",
            "Processing item 4, type: <class 'llama_index.core.schema.Document'>\n",
            "Processing item 5, type: <class 'llama_index.core.schema.Document'>\n",
            "Processing item 6, type: <class 'llama_index.core.schema.Document'>\n",
            "Processing item 7, type: <class 'llama_index.core.schema.Document'>\n",
            "Processing item 8, type: <class 'llama_index.core.schema.Document'>\n",
            "Processing item 9, type: <class 'llama_index.core.schema.Document'>\n",
            "Processing item 10, type: <class 'llama_index.core.schema.Document'>\n",
            "Processing item 11, type: <class 'llama_index.core.schema.Document'>\n",
            "Processing item 12, type: <class 'llama_index.core.schema.Document'>\n",
            "Processing item 13, type: <class 'llama_index.core.schema.Document'>\n",
            "Processing item 14, type: <class 'llama_index.core.schema.Document'>\n",
            "Processing item 15, type: <class 'llama_index.core.schema.Document'>\n",
            "Processing item 16, type: <class 'llama_index.core.schema.Document'>\n",
            "Processing item 17, type: <class 'llama_index.core.schema.Document'>\n",
            "Processing item 18, type: <class 'llama_index.core.schema.Document'>\n",
            "Processing item 19, type: <class 'llama_index.core.schema.Document'>\n",
            "Processing item 20, type: <class 'llama_index.core.schema.Document'>\n",
            "Successfully parsed 21 documents with LlamaParse\n"
          ]
        }
      ]
    },
    {
      "cell_type": "code",
      "source": [
        "# Split the text into chunks for better retrieval\n",
        "text_splitter = RecursiveCharacterTextSplitter(\n",
        "    chunk_size=1000,\n",
        "    chunk_overlap=200,\n",
        "    length_function=len\n",
        ")\n",
        "chunks = text_splitter.split_documents(documents)\n",
        "\n",
        "print(f\"Split the document into {len(chunks)} chunks\")"
      ],
      "metadata": {
        "colab": {
          "base_uri": "https://localhost:8080/"
        },
        "id": "cz6Y_WWgeOqM",
        "outputId": "5c26fe97-97eb-41e4-e6a0-d5d799c3b0a3"
      },
      "execution_count": null,
      "outputs": [
        {
          "output_type": "stream",
          "name": "stdout",
          "text": [
            "Split the document into 99 chunks\n"
          ]
        }
      ]
    },
    {
      "cell_type": "code",
      "source": [
        "# Print a sample chunk to verify content\n",
        "if chunks:\n",
        "    print(\"\\nSample chunk content:\")\n",
        "    print(chunks[0].page_content[:300] + \"...\")"
      ],
      "metadata": {
        "colab": {
          "base_uri": "https://localhost:8080/"
        },
        "id": "zav1PfJ-eUdb",
        "outputId": "b12509a9-f04a-4f01-9138-8899bfbf855c"
      },
      "execution_count": null,
      "outputs": [
        {
          "output_type": "stream",
          "name": "stdout",
          "text": [
            "\n",
            "Sample chunk content:\n",
            "# LIFE INSURANCE CORPORATION OF INDIA\n",
            "\n",
            "(Established by the Life Insurance Corporation Act, 1956)\n",
            "\n",
            "Registration Number: 512\n",
            "\n",
            "# LIC’S NEW JEEVAN SHANTI (UIN: 512N338V05)\n",
            "\n",
            "(A Non-Linked, Non-Participating, Individual, Single Premium, Deferred Annuity Plan)\n",
            "\n",
            "# PART – A\n",
            "\n",
            "Ref: NB\n",
            "\n",
            "Space for Name and Addre...\n"
          ]
        }
      ]
    },
    {
      "cell_type": "code",
      "source": [
        "# Create embeddings using OpenAI's model\n",
        "embeddings = OpenAIEmbeddings()\n",
        "\n",
        "# Create a vector store\n",
        "vectorstore = Chroma.from_documents(\n",
        "    documents=chunks,\n",
        "    embedding=embeddings\n",
        ")\n",
        "\n",
        "# Create a retriever from the vector store\n",
        "retriever = vectorstore.as_retriever(\n",
        "    search_kwargs={\"k\": 5}  # Retrieve top 5 chunks for each query\n",
        ")\n",
        "\n",
        "# BGE Embeddings\n",
        "bge_embeddings = HuggingFaceEmbeddings(\n",
        "    model_name=\"BAAI/bge-large-en-v1.5\",\n",
        "    model_kwargs={'device': 'cpu'},\n",
        "    encode_kwargs={'normalize_embeddings': True}\n",
        ")\n",
        "\n",
        "import uuid\n",
        "\n",
        "bge_vectorstore = Chroma.from_documents(\n",
        "    documents=chunks,\n",
        "    embedding=bge_embeddings,\n",
        "    collection_name=f\"bge_collection_{uuid.uuid4().hex}\"\n",
        ")\n",
        "\n",
        "print(\"Successfully initialized embedding models: OpenAI and BGE\")"
      ],
      "metadata": {
        "colab": {
          "base_uri": "https://localhost:8080/"
        },
        "id": "zoEd8qicGXfH",
        "outputId": "5c734bb2-fb43-4248-f85d-7b0aead32c57"
      },
      "execution_count": null,
      "outputs": [
        {
          "output_type": "stream",
          "name": "stderr",
          "text": [
            "<ipython-input-23-c9843e512868>:16: LangChainDeprecationWarning: The class `HuggingFaceEmbeddings` was deprecated in LangChain 0.2.2 and will be removed in 1.0. An updated version of the class exists in the :class:`~langchain-huggingface package and should be used instead. To use it run `pip install -U :class:`~langchain-huggingface` and import as `from :class:`~langchain_huggingface import HuggingFaceEmbeddings``.\n",
            "  bge_embeddings = HuggingFaceEmbeddings(\n",
            "/usr/local/lib/python3.11/dist-packages/huggingface_hub/utils/_auth.py:94: UserWarning: \n",
            "The secret `HF_TOKEN` does not exist in your Colab secrets.\n",
            "To authenticate with the Hugging Face Hub, create a token in your settings tab (https://huggingface.co/settings/tokens), set it as secret in your Google Colab and restart your session.\n",
            "You will be able to reuse this secret in all of your notebooks.\n",
            "Please note that authentication is recommended but still optional to access public models or datasets.\n",
            "  warnings.warn(\n"
          ]
        },
        {
          "output_type": "stream",
          "name": "stdout",
          "text": [
            "Successfully initialized embedding models: OpenAI and BGE\n"
          ]
        }
      ]
    },
    {
      "cell_type": "code",
      "source": [
        "#!pip install langchain langchain_community langchain_openai sentence-transformers jina"
      ],
      "metadata": {
        "id": "yP_tXCxOn_4J"
      },
      "execution_count": null,
      "outputs": []
    },
    {
      "cell_type": "code",
      "source": [
        "# Create an enhanced prompt template for better synthesis\n",
        "template = \"\"\"\n",
        "You are an AI assistant specializing in insurance policies from LIC (Life Insurance Corporation of India).\n",
        "You are an expert on the \"New Jeevan Shanti\" policy and will provide detailed, accurate information.\n",
        "\n",
        "Below is relevant information from the policy document:\n",
        "\n",
        "{context}\n",
        "\n",
        "Based on this information, please answer the following question thoroughly and accurately.\n",
        "If the answer cannot be found in the provided context, please state that you don't have enough information.\n",
        "\n",
        "Question: {question}\n",
        "\n",
        "Step 1: Identify the key elements in the question.\n",
        "Step 2: Analyze the relevant policy details from the context.\n",
        "Step 3: Formulate a comprehensive and accurate answer.\n",
        "\n",
        "Answer:\n",
        "\"\"\"\n",
        "\n",
        "enhanced_prompt = PromptTemplate(\n",
        "    template=template,\n",
        "    input_variables=[\"context\", \"question\"]\n",
        ")"
      ],
      "metadata": {
        "id": "Cj97p2vdF6cr"
      },
      "execution_count": null,
      "outputs": []
    },
    {
      "cell_type": "code",
      "source": [
        "# Set up OpenAI models with different capabilities\n",
        "openai_models = {\n",
        "    \"gpt-3.5-turbo\": ChatOpenAI(model_name=\"gpt-3.5-turbo\", temperature=0),\n",
        "    \"gpt-3.5-turbo-16k\": ChatOpenAI(model_name=\"gpt-3.5-turbo-16k\", temperature=0)\n",
        "}\n",
        "\n",
        "# Optionally add GPT-4 if available in your subscription\n",
        "if os.environ.get(\"USE_GPT4\", \"\").lower() == \"true\":\n",
        "    openai_models[\"gpt-4\"] = ChatOpenAI(model_name=\"gpt-4\", temperature=0)\n",
        "\n",
        "# Try to set up Llama 2 model (open access)\n",
        "try:\n",
        "    device = \"cuda\" if torch.cuda.is_available() else \"cpu\"\n",
        "\n",
        "    # Load Llama-2-7b-chat model with 4-bit quantization\n",
        "    llama_tokenizer = AutoTokenizer.from_pretrained(\"meta-llama/Llama-2-7b-chat-hf\")\n",
        "    llama_model = AutoModelForCausalLM.from_pretrained(\n",
        "        \"meta-llama/Llama-2-7b-chat-hf\",\n",
        "        device_map=device,\n",
        "        load_in_4bit=True,\n",
        "        torch_dtype=torch.float16\n",
        "    )\n",
        "\n",
        "    # Create a text generation pipeline\n",
        "    llama_pipe = pipeline(\n",
        "        \"text-generation\",\n",
        "        model=llama_model,\n",
        "        tokenizer=llama_tokenizer,\n",
        "        max_new_tokens=1024,\n",
        "        temperature=0,\n",
        "        top_p=0.95,\n",
        "        repetition_penalty=1.15\n",
        "    )\n",
        "\n",
        "    # Create HuggingFacePipeline for langchain\n",
        "    llama_llm = HuggingFacePipeline(pipeline=llama_pipe)\n",
        "\n",
        "    # Add to models dictionary\n",
        "    huggingface_models = {\n",
        "        \"Llama-2-7b\": llama_llm\n",
        "    }\n",
        "\n",
        "    print(\"Successfully loaded Llama-2 model\")\n",
        "except Exception as e:\n",
        "    print(f\"Error loading Llama-2 model: {str(e)}\")\n",
        "    print(\"Continuing without Llama-2 model\")\n",
        "\n",
        "    # If Llama-2 also fails, let's try a smaller open model like Flan-T5\n",
        "    try:\n",
        "        print(\"Attempting to load Flan-T5 model as fallback...\")\n",
        "        from transformers import T5Tokenizer, T5ForConditionalGeneration\n",
        "\n",
        "        # Load Flan-T5-base model (much smaller)\n",
        "        flan_tokenizer = T5Tokenizer.from_pretrained(\"google/flan-t5-base\")\n",
        "        flan_model = T5ForConditionalGeneration.from_pretrained(\"google/flan-t5-base\")\n",
        "\n",
        "        flan_pipe = pipeline(\n",
        "            \"text2text-generation\",\n",
        "            model=flan_model,\n",
        "            tokenizer=flan_tokenizer,\n",
        "            max_length=512\n",
        "        )\n",
        "\n",
        "        flan_llm = HuggingFacePipeline(pipeline=flan_pipe)\n",
        "        huggingface_models = {\n",
        "            \"Flan-T5-base\": flan_llm\n",
        "        }\n",
        "        print(\"Successfully loaded Flan-T5 model\")\n",
        "    except Exception as e:\n",
        "        print(f\"Error loading Flan-T5 model: {str(e)}\")\n",
        "        print(\"Continuing with only OpenAI models\")\n",
        "        huggingface_models = {}"
      ],
      "metadata": {
        "colab": {
          "base_uri": "https://localhost:8080/"
        },
        "id": "_bZfJRKRF9Ek",
        "outputId": "ddebf6db-e472-4b72-c0d3-bed074a4c494"
      },
      "execution_count": null,
      "outputs": [
        {
          "output_type": "stream",
          "name": "stdout",
          "text": [
            "Error loading Llama-2 model: You are trying to access a gated repo.\n",
            "Make sure to have access to it at https://huggingface.co/meta-llama/Llama-2-7b-chat-hf.\n",
            "401 Client Error. (Request ID: Root=1-67d0088c-6d39fc587f33bf750d3305ef;87dd37e4-a3c3-48be-b199-9ee223bfb585)\n",
            "\n",
            "Cannot access gated repo for url https://huggingface.co/meta-llama/Llama-2-7b-chat-hf/resolve/main/config.json.\n",
            "Access to model meta-llama/Llama-2-7b-chat-hf is restricted. You must have access to it and be authenticated to access it. Please log in.\n",
            "Continuing without Llama-2 model\n",
            "Attempting to load Flan-T5 model as fallback...\n"
          ]
        },
        {
          "output_type": "stream",
          "name": "stderr",
          "text": [
            "You are using the default legacy behaviour of the <class 'transformers.models.t5.tokenization_t5.T5Tokenizer'>. This is expected, and simply means that the `legacy` (previous) behavior will be used so nothing changes for you. If you want to use the new behaviour, set `legacy=False`. This should only be set if you understand what it means, and thoroughly read the reason why this was added as explained in https://github.com/huggingface/transformers/pull/24565\n",
            "Device set to use cpu\n"
          ]
        },
        {
          "output_type": "stream",
          "name": "stdout",
          "text": [
            "Successfully loaded Flan-T5 model\n"
          ]
        },
        {
          "output_type": "stream",
          "name": "stderr",
          "text": [
            "<ipython-input-26-193a8d182209>:64: LangChainDeprecationWarning: The class `HuggingFacePipeline` was deprecated in LangChain 0.0.37 and will be removed in 1.0. An updated version of the class exists in the :class:`~langchain-huggingface package and should be used instead. To use it run `pip install -U :class:`~langchain-huggingface` and import as `from :class:`~langchain_huggingface import HuggingFacePipeline``.\n",
            "  flan_llm = HuggingFacePipeline(pipeline=flan_pipe)\n"
          ]
        }
      ]
    },
    {
      "cell_type": "code",
      "source": [
        "# Create QA chains with different LLMs\n",
        "qa_chains = {}\n",
        "\n",
        "# Use the BGE retriever as our standard retriever\n",
        "# Assuming bge_vectorstore is already defined\n",
        "retriever = bge_vectorstore.as_retriever(search_kwargs={\"k\": 5})\n",
        "\n",
        "# Create chains for OpenAI models\n",
        "for model_name, llm in openai_models.items():\n",
        "    qa_chains[model_name] = RetrievalQA.from_chain_type(\n",
        "        llm=llm,\n",
        "        chain_type=\"stuff\",\n",
        "        retriever=retriever,\n",
        "        chain_type_kwargs={\"prompt\": enhanced_prompt}\n",
        "    )\n",
        "    print(f\"Created QA chain for {model_name}\")\n",
        "\n",
        "# Create chains for HuggingFace models\n",
        "for model_name, llm in huggingface_models.items():\n",
        "    qa_chains[model_name] = RetrievalQA.from_chain_type(\n",
        "        llm=llm,\n",
        "        chain_type=\"stuff\",\n",
        "        retriever=retriever,\n",
        "        chain_type_kwargs={\"prompt\": enhanced_prompt}\n",
        "    )\n",
        "    print(f\"Created QA chain for {model_name}\")"
      ],
      "metadata": {
        "colab": {
          "base_uri": "https://localhost:8080/"
        },
        "id": "GuzglsnKGEpZ",
        "outputId": "be43213e-64d9-4de2-c995-10d89b085814"
      },
      "execution_count": null,
      "outputs": [
        {
          "output_type": "stream",
          "name": "stdout",
          "text": [
            "Created QA chain for gpt-3.5-turbo\n",
            "Created QA chain for gpt-3.5-turbo-16k\n",
            "Created QA chain for Flan-T5-base\n"
          ]
        }
      ]
    },
    {
      "cell_type": "code",
      "source": [
        "def compare_llms(question, models=qa_chains):\n",
        "    \"\"\"Compare different LLMs' performance on a question\"\"\"\n",
        "    results = {}\n",
        "\n",
        "    print(f\"Question: {question}\")\n",
        "    print(\"-\" * 80)\n",
        "\n",
        "    for model_name, qa_chain in models.items():\n",
        "        try:\n",
        "            start_time = time.time()\n",
        "            response = qa_chain.invoke({\"query\": question})\n",
        "            end_time = time.time()\n",
        "\n",
        "            results[model_name] = {\n",
        "                \"answer\": response[\"result\"],\n",
        "                \"time\": end_time - start_time\n",
        "            }\n",
        "\n",
        "            print(f\"\\n{model_name} Result:\")\n",
        "            print(f\"Time: {results[model_name]['time']:.2f} seconds\")\n",
        "            print(f\"Answer: {results[model_name]['answer']}\")\n",
        "            print(\"-\" * 80)\n",
        "        except Exception as e:\n",
        "            print(f\"Error with {model_name}: {str(e)}\")\n",
        "\n",
        "    return results"
      ],
      "metadata": {
        "id": "OBT1XddqJ81U"
      },
      "execution_count": null,
      "outputs": []
    },
    {
      "cell_type": "code",
      "source": [
        "# Test questions\n",
        "test_questions = [\n",
        "    \"What is the LIC's New Jeevan Shanti policy?\",\n",
        "    \"What are the annuity options available in this policy?\",\n",
        "    \"What happens if I surrender the policy?\",\n",
        "    \"How is the death benefit calculated in this policy?\",\n",
        "    \"Can I take a loan against this policy?\",\n",
        "    \"What is the deferment period in the policy?\",\n",
        "    \"What is the free look period for this policy?\",\n",
        "    \"What are the tax implications of this policy?\"\n",
        "]\n",
        "\n",
        "# Compare results from different LLMs\n",
        "all_results = {}\n",
        "for question in test_questions:\n",
        "    print(\"\\n\" + \"=\" * 100)\n",
        "    all_results[question] = compare_llms(question)\n",
        "\n",
        "# Create a summary of the comparison\n",
        "def create_performance_summary(results):\n",
        "    \"\"\"Create a summary table of model performance\"\"\"\n",
        "    models = list(next(iter(results.values())).keys())\n",
        "    questions = list(results.keys())\n",
        "\n",
        "    # Create time comparison\n",
        "    time_data = {model: [] for model in models}\n",
        "    for question in questions:\n",
        "        for model in models:\n",
        "            if model in results[question]:\n",
        "                time_data[model].append(results[question][model][\"time\"])\n",
        "            else:\n",
        "                time_data[model].append(None)\n",
        "\n",
        "    time_df = pd.DataFrame(time_data, index=questions)\n",
        "\n",
        "    print(\"Performance Summary (Response Time in Seconds):\")\n",
        "    print(time_df)\n",
        "\n",
        "    # Calculate average response times\n",
        "    print(\"\\nAverage Response Times:\")\n",
        "    for model in models:\n",
        "        valid_times = [t for t in time_data[model] if t is not None]\n",
        "        if valid_times:\n",
        "            avg_time = sum(valid_times) / len(valid_times)\n",
        "            print(f\"{model}: {avg_time:.2f} seconds\")\n",
        "        else:\n",
        "            print(f\"{model}: No valid times\")\n",
        "\n",
        "    return time_df\n",
        "\n",
        "# Create performance summary\n",
        "performance_summary = create_performance_summary(all_results)"
      ],
      "metadata": {
        "colab": {
          "base_uri": "https://localhost:8080/"
        },
        "id": "LA8oo-ZbJ-LI",
        "outputId": "efd1183a-511b-4f04-e00c-79de6c0288bc"
      },
      "execution_count": null,
      "outputs": [
        {
          "output_type": "stream",
          "name": "stdout",
          "text": [
            "\n",
            "====================================================================================================\n",
            "Question: What is the LIC's New Jeevan Shanti policy?\n",
            "--------------------------------------------------------------------------------\n",
            "\n",
            "gpt-3.5-turbo Result:\n",
            "Time: 2.54 seconds\n",
            "Answer: Step 1: The key elements in the question are the \"LIC's New Jeevan Shanti policy.\"\n",
            "\n",
            "Step 2: From the provided context, we can see that the policy document for LIC's New Jeevan Shanti (UIN: 512N338V05) contains information on various pages such as 5, 7, 10, 18, and 20. The policy is likely a life insurance policy offered by LIC (Life Insurance Corporation of India).\n",
            "\n",
            "Step 3: LIC's New Jeevan Shanti policy is a life insurance plan that provides financial protection to the policyholder and their family in case of unfortunate events like death or disability. The policy document would outline the terms and conditions of the policy, including premium payments, coverage benefits, maturity benefits, and other relevant details. It is important for individuals to carefully review the policy document and understand the features of the New Jeevan Shanti policy before making a decision to purchase it.\n",
            "--------------------------------------------------------------------------------\n",
            "\n",
            "gpt-3.5-turbo-16k Result:\n",
            "Time: 2.73 seconds\n",
            "Answer: Step 1: The key elements in the question are \"LIC's New Jeevan Shanti policy.\"\n",
            "\n",
            "Step 2: Analyzing the relevant policy details from the context, we can gather the following information:\n",
            "- The policy is offered by LIC (Life Insurance Corporation of India).\n",
            "- The policy has a unique identification number (UIN: 512N338V05).\n",
            "- The policy document consists of 21 pages.\n",
            "- The relevant information about the policy can be found on pages 5, 7, 10, 18, and 20 of the document.\n",
            "\n",
            "Step 3: Based on the provided information, LIC's New Jeevan Shanti policy is a life insurance policy offered by LIC. Unfortunately, the specific details and features of the policy are not mentioned in the given context. To provide a comprehensive and accurate answer, it would be necessary to refer to the complete policy document or obtain additional information about the policy.\n",
            "--------------------------------------------------------------------------------\n",
            "\n",
            "Flan-T5-base Result:\n",
            "Time: 7.57 seconds\n",
            "Answer: Insurance\n",
            "--------------------------------------------------------------------------------\n",
            "\n",
            "====================================================================================================\n",
            "Question: What are the annuity options available in this policy?\n",
            "--------------------------------------------------------------------------------\n",
            "\n",
            "gpt-3.5-turbo Result:\n",
            "Time: 2.91 seconds\n",
            "Answer: The annuity options available in the LIC's New Jeevan Shanti policy are as follows:\n",
            "\n",
            "1. Immediate Annuity: Under this option, the benefit amount payable on death can be utilized for purchasing an Immediate Annuity from the Corporation for nominee(s) effective from the date of death of the annuitant/last survivor. The annuity amount payable to the nominee(s) on the admission of death claim shall be based on the age of nominee(s) and immediate annuity rates prevailing as on the date of death of the Annuitant.\n",
            "\n",
            "2. Deferred Annuity: The Proposer can purchase Deferred Annuity for Single life on their own life for the benefit of a dependant person with disability (Divyangjan) as Nominee. In case of death of the Annuitant, where the Purchase Price is less than Rs.1,50,000, the Death Benefit shall compulsorily be utilized to purchase Immediate Annuity on the life of the Divyangjan who would be the nominee.\n",
            "\n",
            "These are the annuity options available in the New Jeevan Shanti policy as per the provided policy details.\n",
            "--------------------------------------------------------------------------------\n",
            "\n",
            "gpt-3.5-turbo-16k Result:\n",
            "Time: 1.41 seconds\n",
            "Answer: The annuity options available in the LIC New Jeevan Shanti policy are not explicitly mentioned in the provided context. Therefore, I don't have enough information to provide a comprehensive answer to your question. It is recommended to refer to the complete policy document or contact LIC directly for detailed information on the annuity options available in this policy.\n",
            "--------------------------------------------------------------------------------\n"
          ]
        },
        {
          "output_type": "stream",
          "name": "stderr",
          "text": [
            "Token indices sequence length is longer than the specified maximum sequence length for this model (1045 > 512). Running this sequence through the model will result in indexing errors\n"
          ]
        },
        {
          "output_type": "stream",
          "name": "stdout",
          "text": [
            "\n",
            "Flan-T5-base Result:\n",
            "Time: 30.73 seconds\n",
            "Answer: Option to take the plan for the benefit of dependant person with disability (Divyangjan):/h8> If the Proposer has a dependant person with disability (Divyangjan), the Proposer can purchase Deferred Annuity for Single life (Option 1) on own life for the benefit of Divyangjan as Nominee. In case of death of the Annuitant (Proposer), where the Purchase Price is less than Rs.1,50,000, the Death Benefit shall compulsorily be utilized to purchase Immediate Annuity (as per option chosen by the Annuitant) on the life of the Divyangjan who would be the nominee. In case of Annuitisation, the annuity payment to Divyangjan shall be paid irrespective of any limit on minimum annuity payment, minimum age at entry and Purchase Price criteria and annuity rates applicable shall be then prevailing Immediate Annuity rates.\n",
            "--------------------------------------------------------------------------------\n",
            "\n",
            "====================================================================================================\n",
            "Question: What happens if I surrender the policy?\n",
            "--------------------------------------------------------------------------------\n",
            "\n",
            "gpt-3.5-turbo Result:\n",
            "Time: 1.94 seconds\n",
            "Answer: If you surrender the New Jeevan Shanti policy, the policy will terminate, and all other benefits will cease. You will need to submit the discharge form along with the original policy document, NEFT mandate for direct credit of the claim amount to your bank account, proof of age if not admitted earlier, and any other requirements mandated by statutory provisions or law. The surrender value payment will be made to you, and any outstanding loan amount along with interest, if applicable, will be deducted from the surrender value. Additionally, the surrender provisions may be subject to specific procedures for QROPS as per the Rules and Regulations of the HMRC.\n",
            "--------------------------------------------------------------------------------\n",
            "\n",
            "gpt-3.5-turbo-16k Result:\n",
            "Time: 3.40 seconds\n",
            "Answer: If you surrender the New Jeevan Shanti policy, it means that you terminate the policy before the completion of the policy term. Upon surrender, all benefits under the policy will cease. To surrender the policy, you need to submit the discharge form along with the original policy document, NEFT mandate from the claimant for direct credit of the claim amount to the bank account, and proof of age if it was not admitted earlier. Additionally, you may be required to submit any other documents mandated under statutory provisions or as required by law.\n",
            "\n",
            "It is important to note that surrendering the policy may result in the loss of any benefits or coverage provided by the policy. The surrender value, which is the amount payable upon surrender, will be paid to the policyholder. The surrender value is determined by the terms and conditions of the policy and may vary based on factors such as the policy duration, premium paid, and other relevant factors.\n",
            "\n",
            "Please note that the specific details regarding surrender value and any applicable charges or deductions can be found in the policy document or by contacting LIC (Life Insurance Corporation of India) directly.\n",
            "--------------------------------------------------------------------------------\n",
            "\n",
            "Flan-T5-base Result:\n",
            "Time: 6.87 seconds\n",
            "Answer: The policy shall terminate and all other benefits shall cease.\n",
            "--------------------------------------------------------------------------------\n",
            "\n",
            "====================================================================================================\n",
            "Question: How is the death benefit calculated in this policy?\n",
            "--------------------------------------------------------------------------------\n",
            "\n",
            "gpt-3.5-turbo Result:\n",
            "Time: 5.46 seconds\n",
            "Answer: In the New Jeevan Shanti policy, the death benefit can be calculated in two ways:\n",
            "\n",
            "1. Lumpsum Death Benefit: Under this option, the entire benefit amount payable on death is paid to the nominee(s) in a lump sum. This means that the nominee(s) will receive the full death benefit amount in one single payment.\n",
            "\n",
            "2. In Installment: Alternatively, the death benefit can be received in installments over a chosen period of 5, 10, or 15 years instead of a lump sum amount. The installments can be paid in advance at yearly, half-yearly, quarterly, or monthly intervals, depending on the mode of installment payment chosen. The minimum installment amount varies based on the frequency of payments.\n",
            "\n",
            "The amount of death benefit received will depend on the option chosen by the Annuitant(s) and can be either in absolute value or as a percentage of the total claim proceeds payable. If the net claim amount is less than the required amount to provide the minimum installment amount as per the option exercised, the claim proceeds will be paid in lump sum only.\n",
            "\n",
            "Therefore, the death benefit in the New Jeevan Shanti policy can be calculated based on whether the lump sum or installment option is chosen, and the specific terms and conditions selected by the policyholder.\n",
            "--------------------------------------------------------------------------------\n",
            "\n",
            "gpt-3.5-turbo-16k Result:\n",
            "Time: 4.51 seconds\n",
            "Answer: In the \"New Jeevan Shanti\" policy, the death benefit is calculated based on the option chosen by the annuitant(s). There are two options available: Lumpsum Death Benefit and Annuitisation of Death Benefit.\n",
            "\n",
            "1. Lumpsum Death Benefit:\n",
            "Under this option, the entire benefit amount payable on death is paid to the nominee(s) in a lumpsum. The nominee(s) will receive the death benefit as a one-time payment.\n",
            "\n",
            "2. Annuitisation of Death Benefit:\n",
            "Under this option, the benefit amount payable on death can be received in installments over a chosen period of 5, 10, or 15 years instead of a lumpsum amount. The annuitant(s) can exercise this option for the full or part of the death benefit payable under the policy. The annuitant(s) can choose the amount of installments either in absolute value or as a percentage of the total claim proceeds payable.\n",
            "\n",
            "The installments will be paid in advance at yearly, half-yearly, quarterly, or monthly intervals, as opted for by the annuitant(s). However, there are minimum installment amounts for different modes of payment. The minimum installment amounts are as follows:\n",
            "\n",
            "- Monthly: Rs. 5000/-\n",
            "- Quarterly: Rs. 15000/-\n",
            "- Half-Yearly: Rs. 25000/-\n",
            "- Yearly: Rs. 50000/-\n",
            "\n",
            "If the net claim amount is less than the required amount to provide the minimum installment amount as per the option exercised by the annuitant(s), the claim proceeds will be paid in lumpsum only.\n",
            "\n",
            "It's important to note that there is no maturity benefit under this policy. Additionally, there is an additional benefit on death that accrues at the end of each policy month during the deferment period. The rate of additional benefit on death per month depends on the purchase price, annuity rate payable monthly, and the deferment period chosen.\n",
            "\n",
            "In summary, the death benefit in the \"New Jeevan Shanti\" policy can be received either as a lumpsum payment or in installments over a chosen period, depending on the option exercised by the annuitant(s).\n",
            "--------------------------------------------------------------------------------\n",
            "\n",
            "Flan-T5-base Result:\n",
            "Time: 6.63 seconds\n",
            "Answer: Annuitisation of Death Benefit\n",
            "--------------------------------------------------------------------------------\n",
            "\n",
            "====================================================================================================\n",
            "Question: Can I take a loan against this policy?\n",
            "--------------------------------------------------------------------------------\n",
            "\n",
            "gpt-3.5-turbo Result:\n",
            "Time: 3.07 seconds\n",
            "Answer: Yes, you can take a loan against the New Jeevan Shanti policy. The loan facility is available at any time after three months from the completion of the policy or after the expiry of the free-look period, whichever is later. The maximum amount of loan that can be granted under the policy is such that the effective annual interest amount payable on the loan does not exceed 50% of the annual annuity amount payable under the policy, subject to a maximum of 80% of the Surrender Value. The loan can be availed by the Primary Annuitant, and in the absence of the Primary Annuitant, the same can be availed by the Secondary Annuitant. Interest on the loan during the deferment period shall be paid on a compounding half-yearly basis to the Corporation at the rate specified at the time of taking the loan. The loan interest will be recovered from the annuity amount payable under the policy, and the loan outstanding shall be recovered from the claim proceeds at the time of exit. If the loan is not repaid during the deferment period and there is a default in the interest payment, the policy may be forfeited to the Corporation, and the policy shall be terminated.\n",
            "--------------------------------------------------------------------------------\n",
            "\n",
            "gpt-3.5-turbo-16k Result:\n",
            "Time: 4.51 seconds\n",
            "Answer: Step 1: The key element in the question is \"loan against this policy.\"\n",
            "\n",
            "Step 2: According to the policy details provided, a loan facility is available under the \"New Jeevan Shanti\" policy. The loan can be availed by the Primary Annuitant or, in the absence of the Primary Annuitant, by the Secondary Annuitant. The maximum amount of loan that can be granted is such that the effective annual interest amount payable on the loan does not exceed 50% of the annual annuity amount payable under the policy, subject to a maximum of 80% of the Surrender Value. The loan interest will be recovered from the annuity amount payable under the policy, and the loan outstanding shall be recovered from the claim proceeds at the time of exit. If the loan is not repaid during the Deferment Period and there is a default in the interest payment, the policy may be forfeited to the Corporation, and the difference between the Surrender Value and the loan outstanding amount along with interest, if any, shall be payable to the Annuitant/Secondary Annuitant, resulting in the termination of the policy.\n",
            "\n",
            "Step 3: Yes, you can take a loan against the \"New Jeevan Shanti\" policy. The loan can be availed by the Primary Annuitant or the Secondary Annuitant. The maximum loan amount is determined based on the effective annual interest amount payable on the loan, which should not exceed 50% of the annual annuity amount or 80% of the Surrender Value, whichever is lower. The loan interest will be recovered from the annuity amount, and the loan outstanding will be recovered from the claim proceeds at the time of exit. However, it is important to repay the loan during the Deferment Period and ensure timely interest payments to avoid policy forfeiture and termination.\n",
            "--------------------------------------------------------------------------------\n",
            "\n",
            "Flan-T5-base Result:\n",
            "Time: 9.09 seconds\n",
            "Answer: Under joint life the loan can be availed by the Primary Annuitant and in the absence of Primary Annuitant the same can be availed by the Secondary Annuitant.\n",
            "--------------------------------------------------------------------------------\n",
            "\n",
            "====================================================================================================\n",
            "Question: What is the deferment period in the policy?\n",
            "--------------------------------------------------------------------------------\n",
            "\n",
            "gpt-3.5-turbo Result:\n",
            "Time: 2.25 seconds\n",
            "Answer: The deferment period in the \"New Jeevan Shanti\" policy is the period chosen by the policyholder and specified in the Schedule, starting from the Date of commencement of the policy to the date of Vesting. During the deferment period, no payments are made, and the policyholder can choose the length of this period based on their preferences and needs.\n",
            "--------------------------------------------------------------------------------\n",
            "\n",
            "gpt-3.5-turbo-16k Result:\n",
            "Time: 4.15 seconds\n",
            "Answer: The deferment period in the \"New Jeevan Shanti\" policy is the period chosen by the policyholder, as specified in the Schedule, starting from the Date of commencement of the policy to the date of Vesting. The specific duration of the deferment period can vary depending on the policyholder's choice.\n",
            "--------------------------------------------------------------------------------\n",
            "\n",
            "Flan-T5-base Result:\n",
            "Time: 12.80 seconds\n",
            "Answer: Deferment Period is the period, in years, as chosen by the policyholder and as specified in the Schedule, commencing from the Date of commencement of policy to the date of Vesting.\n",
            "--------------------------------------------------------------------------------\n",
            "\n",
            "====================================================================================================\n",
            "Question: What is the free look period for this policy?\n",
            "--------------------------------------------------------------------------------\n",
            "\n",
            "gpt-3.5-turbo Result:\n",
            "Time: 1.94 seconds\n",
            "Answer: The free look period for the LIC's New Jeevan Shanti policy is 30 days from the date of receipt of the electronic or physical mode of the Policy Document, whichever is earlier by the Policyholder. During this period, if the Policyholder is not satisfied with the terms and conditions of the policy, they may return the policy to the Corporation stating the reasons for objections. Upon receipt of the policy, the Corporation shall cancel the policy and refund the premium paid after deducting charges for stamp duty and annuity paid, if any. It is important to note that the free look period is applicable only for new purchases of Deferred Annuity plans and not for purchases from existing funds.\n",
            "--------------------------------------------------------------------------------\n",
            "\n",
            "gpt-3.5-turbo-16k Result:\n",
            "Time: 2.40 seconds\n",
            "Answer: The free look period for the New Jeevan Shanti policy is 30 days from the date of receipt of the electronic or physical mode of the Policy Document, whichever is earlier. During this period, the policyholder has the option to review the terms and conditions of the policy. If the policyholder disagrees with any of the terms and conditions, they can return the policy to the Corporation stating the reasons for their objections. Upon receipt of the policy, the Corporation will cancel the policy and refund the premium paid after deducting the charges for stamp duty and annuity paid, if any. However, it is important to note that the free look period is applicable only in case of a new purchase of the Deferred Annuity plan and not for purchases from the existing fund.\n",
            "--------------------------------------------------------------------------------\n",
            "\n",
            "Flan-T5-base Result:\n",
            "Time: 9.42 seconds\n",
            "Answer: 30 days from the date of receipt of the electronic or physical mode of Policy Document, whichever is earlier by the Policyholder\n",
            "--------------------------------------------------------------------------------\n",
            "\n",
            "====================================================================================================\n",
            "Question: What are the tax implications of this policy?\n",
            "--------------------------------------------------------------------------------\n",
            "\n",
            "gpt-3.5-turbo Result:\n",
            "Time: 5.03 seconds\n",
            "Answer: The tax implications of the LIC New Jeevan Shanti policy are as follows:\n",
            "\n",
            "- Statutory Taxes: The policyholder is required to pay any applicable taxes imposed by the Government of India or any other constitutional Tax Authority of India as per the prevailing tax laws and rates. These taxes will be collected separately in addition to the premium payable by the policyholder. The amount of tax paid will not be considered for the calculation of benefits payable under the plan.\n",
            "\n",
            "- Tax Deduction: The Corporation may deduct an amount to the extent of the applicable tax charge from the Fund transferred and remit the same to the relevant tax authority.\n",
            "\n",
            "- Age Discrepancy: If the annuitant's correct age is found to be different from the age declared in the Proposal Form, the annuity payments under the policy will be altered accordingly. Any excess amount paid due to the age difference will be refunded to the Corporation with interest, and any incorrect annuities paid in the past will be collected from the annuitant or adjusted from future annuity payments.\n",
            "\n",
            "- Policy Cancellation: If the correct age of the annuitant would have made them uninsurable under the policy, the policy will be cancelled, and the premium paid may be refunded after deducting charges for stamp duty, taxes, and annuity paid.\n",
            "\n",
            "- Option for Dependent Person with Disability: If the proposer has a dependent person with a disability (Divyangjan), they can purchase Deferred Annuity for Single life on their own life for the benefit of the nominee. In case of the annuitant's death, where the Purchase Price is less than Rs.1,50,000, the Death Benefit will be used to purchase Immediate Annuity for the benefit of the nominee.\n",
            "\n",
            "Overall, the tax implications of the LIC New Jeevan Shanti policy involve the payment of statutory taxes, potential tax deductions, adjustments for age discrepancies, and specific provisions for policy cancellation and benefits for dependents with disabilities.\n",
            "--------------------------------------------------------------------------------\n",
            "\n",
            "gpt-3.5-turbo-16k Result:\n",
            "Time: 5.32 seconds\n",
            "Answer: The tax implications of the LIC New Jeevan Shanti policy are as follows:\n",
            "\n",
            "1. Statutory Taxes: The policyholder is required to pay any applicable taxes imposed by the Government of India or any other constitutional Tax Authority of India. These taxes are collected separately in addition to the premium payable by the policyholder. The amount of tax paid is not considered for the calculation of benefits payable under the plan.\n",
            "\n",
            "2. Tax Laws and Rates: The rate of tax applicable to the insurance plan is as per the prevailing tax laws of India. The specific rate of tax may vary from time to time based on changes in the tax laws.\n",
            "\n",
            "3. Tax Collection: The taxes payable by the policyholder are collected separately from the premium payable under the policy. The policyholder is responsible for paying the applicable taxes.\n",
            "\n",
            "4. Tax Exemption: The policy document does not mention any specific tax exemptions or benefits associated with the New Jeevan Shanti policy. It is advisable to consult with a tax advisor or refer to the relevant tax laws for any potential tax benefits or exemptions.\n",
            "\n",
            "5. HMRC: The policy document mentions that the Corporation may deduct an amount from the fund transferred and remit it to HMRC (Her Majesty's Revenue and Customs). The specific circumstances and conditions under which this deduction is made are not mentioned in the provided context.\n",
            "\n",
            "6. Other Terms and Conditions: The policy document states that the terms and conditions of HMRC, as applicable from time to time, will also apply to the New Jeevan Shanti policy. The specific details of these terms and conditions are not provided in the given context.\n",
            "\n",
            "In summary, the policyholder is required to pay applicable taxes as per the prevailing tax laws of India. The taxes are collected separately from the premium payable under the policy. The amount of tax paid is not considered for the calculation of benefits payable under the plan. It is advisable to consult with a tax advisor or refer to the relevant tax laws for any potential tax benefits or exemptions associated with the New Jeevan Shanti policy.\n",
            "--------------------------------------------------------------------------------\n",
            "\n",
            "Flan-T5-base Result:\n",
            "Time: 12.38 seconds\n",
            "Answer: The amount of any applicable taxes payable as per the prevailing rates, shall be payable by the policyholder on Premium payable under the policy, which shall be collected separately in addition to the Premium payable by the policyholder. The amount of Tax paid shall not be considered for the calculation of benefits payable under the Plan.\n",
            "--------------------------------------------------------------------------------\n",
            "Performance Summary (Response Time in Seconds):\n",
            "                                                    gpt-3.5-turbo  \\\n",
            "What is the LIC's New Jeevan Shanti policy?              2.544431   \n",
            "What are the annuity options available in this ...       2.911336   \n",
            "What happens if I surrender the policy?                  1.940633   \n",
            "How is the death benefit calculated in this pol...       5.462157   \n",
            "Can I take a loan against this policy?                   3.067544   \n",
            "What is the deferment period in the policy?              2.254950   \n",
            "What is the free look period for this policy?            1.936076   \n",
            "What are the tax implications of this policy?            5.032883   \n",
            "\n",
            "                                                    gpt-3.5-turbo-16k  \\\n",
            "What is the LIC's New Jeevan Shanti policy?                  2.726774   \n",
            "What are the annuity options available in this ...           1.411975   \n",
            "What happens if I surrender the policy?                      3.396163   \n",
            "How is the death benefit calculated in this pol...           4.512092   \n",
            "Can I take a loan against this policy?                       4.512578   \n",
            "What is the deferment period in the policy?                  4.153452   \n",
            "What is the free look period for this policy?                2.395375   \n",
            "What are the tax implications of this policy?                5.323289   \n",
            "\n",
            "                                                    Flan-T5-base  \n",
            "What is the LIC's New Jeevan Shanti policy?             7.573454  \n",
            "What are the annuity options available in this ...     30.729963  \n",
            "What happens if I surrender the policy?                 6.874794  \n",
            "How is the death benefit calculated in this pol...      6.632439  \n",
            "Can I take a loan against this policy?                  9.090632  \n",
            "What is the deferment period in the policy?            12.803466  \n",
            "What is the free look period for this policy?           9.422345  \n",
            "What are the tax implications of this policy?          12.377292  \n",
            "\n",
            "Average Response Times:\n",
            "gpt-3.5-turbo: 3.14 seconds\n",
            "gpt-3.5-turbo-16k: 3.55 seconds\n",
            "Flan-T5-base: 11.94 seconds\n"
          ]
        }
      ]
    },
    {
      "cell_type": "code",
      "source": [
        "import numpy as np\n",
        "from sklearn.metrics.pairwise import cosine_similarity\n",
        "import re\n",
        "\n",
        "def evaluate_models_performance(qa_chains, test_questions=None, ground_truth=None):\n",
        "    \"\"\"\n",
        "    Evaluate RAG models on various metrics\n",
        "\n",
        "    Args:\n",
        "        qa_chains: Dictionary of QA chains to evaluate\n",
        "        test_questions: List of test questions (will use default if None)\n",
        "        ground_truth: Dictionary of ground truth answers (will use expert-provided if None)\n",
        "\n",
        "    Returns:\n",
        "        DataFrame with evaluation metrics\n",
        "    \"\"\"\n",
        "    # Default test questions if none provided\n",
        "    if test_questions is None:\n",
        "        test_questions = [\n",
        "            \"What is the LIC's New Jeevan Shanti policy?\",\n",
        "            \"What are the annuity options available in this policy?\",\n",
        "            \"What happens if I surrender the policy?\",\n",
        "            \"How is the death benefit calculated in this policy?\",\n",
        "            \"Can I take a loan against this policy?\",\n",
        "            \"What is the deferment period in the policy?\",\n",
        "            \"What is the free look period for this policy?\",\n",
        "            \"What are the tax implications of this policy?\"\n",
        "        ]\n",
        "\n",
        "    # Expert-provided ground truth answers (simplified for demonstration)\n",
        "    if ground_truth is None:\n",
        "        ground_truth = {\n",
        "            \"What is the deferment period in the policy?\":\n",
        "                \"Deferment Period is the period, in years, as chosen by the policyholder and as specified in the Schedule, commencing from the Date of commencement of policy to the date of Vesting.\",\n",
        "            \"What is the free look period for this policy?\":\n",
        "                \"The free look period is 30 days from the date of receipt of the electronic or physical mode of the Policy Document, whichever is earlier.\",\n",
        "            \"What are the tax implications of this policy?\":\n",
        "                \"The amount of any applicable taxes payable as per the prevailing rates shall be payable by the policyholder on Premium payable under the policy, which shall be collected separately in addition to the Premium payable. The amount of Tax paid shall not be considered for the calculation of benefits payable under the Plan.\"\n",
        "            # Add more ground truth answers as needed\n",
        "        }\n",
        "\n",
        "    # Create contexts for source retrieval evaluation\n",
        "    model_name = list(qa_chains.keys())[0]  # Use first model for retrieving contexts\n",
        "    contexts = {}\n",
        "    source_docs = {}\n",
        "\n",
        "    for question in test_questions:\n",
        "        try:\n",
        "            # Get the retrieved documents for evaluation\n",
        "            retriever = qa_chains[model_name].retriever\n",
        "            docs = retriever.get_relevant_documents(question)\n",
        "            contexts[question] = \" \".join([doc.page_content for doc in docs])\n",
        "            source_docs[question] = docs\n",
        "        except Exception as e:\n",
        "            print(f\"Error retrieving context for question: {question}, Error: {str(e)}\")\n",
        "            contexts[question] = \"\"\n",
        "            source_docs[question] = []\n",
        "\n",
        "    # Initialize metrics dictionary\n",
        "    metrics = {model: {} for model in qa_chains.keys()}\n",
        "\n",
        "    # Helper function to check if answer contains specific evidence\n",
        "    def contains_evidence(answer, evidence_phrases):\n",
        "        \"\"\"Check if answer contains specific evidence phrases\"\"\"\n",
        "        if isinstance(evidence_phrases, str):\n",
        "            evidence_phrases = [evidence_phrases]\n",
        "\n",
        "        for phrase in evidence_phrases:\n",
        "            if phrase.lower() in answer.lower():\n",
        "                return True\n",
        "        return False\n",
        "\n",
        "    # Helper function to calculate answer similarity\n",
        "    def answer_similarity(answer, ground_truth_answer):\n",
        "        \"\"\"Calculate similarity between answer and ground truth\"\"\"\n",
        "        if not ground_truth_answer or not answer:\n",
        "            return 0.0\n",
        "\n",
        "        # Clean and tokenize\n",
        "        answer_clean = re.sub(r'[^\\w\\s]', '', answer.lower()).split()\n",
        "        truth_clean = re.sub(r'[^\\w\\s]', '', ground_truth_answer.lower()).split()\n",
        "\n",
        "        # Calculate Jaccard similarity\n",
        "        intersection = set(answer_clean) & set(truth_clean)\n",
        "        union = set(answer_clean) | set(truth_clean)\n",
        "\n",
        "        if not union:\n",
        "            return 0.0\n",
        "        return len(intersection) / len(union)\n",
        "\n",
        "    # Evidence terms for hit rate calculation (key terms that should be in answers)\n",
        "    evidence_terms = {\n",
        "        \"What is the deferment period in the policy?\":\n",
        "            [\"Date of commencement\", \"date of Vesting\", \"chosen by the policyholder\"],\n",
        "        \"What is the free look period for this policy?\":\n",
        "            [\"30 days\", \"receipt of the Policy Document\", \"electronic or physical mode\"],\n",
        "        \"What are the tax implications of this policy?\":\n",
        "            [\"payable by the policyholder\", \"prevailing rates\", \"collected separately\"]\n",
        "        # Add more evidence terms as needed\n",
        "    }\n",
        "\n",
        "    # Evaluate each model\n",
        "    for model_name, qa_chain in qa_chains.items():\n",
        "        print(f\"Evaluating {model_name}...\")\n",
        "\n",
        "        hit_rates = []\n",
        "        mrr_scores = []\n",
        "        faithfulness_scores = []\n",
        "        relevancy_scores = []\n",
        "        correctness_scores = []\n",
        "\n",
        "        for i, question in enumerate(test_questions):\n",
        "            try:\n",
        "                # Get model answer\n",
        "                response = qa_chain.invoke({\"query\": question})\n",
        "                answer = response[\"result\"]\n",
        "\n",
        "                # 1. Hit Rate: Check if answer contains key evidence\n",
        "                if question in evidence_terms:\n",
        "                    hits = 0\n",
        "                    for term in evidence_terms[question]:\n",
        "                        if term.lower() in answer.lower():\n",
        "                            hits += 1\n",
        "                    hit_rate = hits / len(evidence_terms[question]) if evidence_terms[question] else 0\n",
        "                    hit_rates.append(hit_rate)\n",
        "\n",
        "                # 2. MRR (Mean Reciprocal Rank)\n",
        "                # Simplified - check if the answer is in the top retrieved docs\n",
        "                if question in source_docs and source_docs[question]:\n",
        "                    found_rank = None\n",
        "                    for rank, doc in enumerate(source_docs[question], 1):\n",
        "                        # Check if key parts of the answer are in this document\n",
        "                        if answer_similarity(answer, doc.page_content) > 0.3:\n",
        "                            found_rank = rank\n",
        "                            break\n",
        "\n",
        "                    if found_rank:\n",
        "                        mrr_scores.append(1 / found_rank)\n",
        "                    else:\n",
        "                        mrr_scores.append(0)\n",
        "\n",
        "                # 3. Faithfulness: Check if answer only contains info from source\n",
        "                context = contexts.get(question, \"\")\n",
        "                if context:\n",
        "                    # Extract key statements from answer (simplified)\n",
        "                    answer_statements = [s.strip() for s in answer.split('.') if s.strip()]\n",
        "                    faithful_statements = 0\n",
        "\n",
        "                    for statement in answer_statements:\n",
        "                        # Check if statement is supported by context\n",
        "                        if statement and len(statement) > 15:  # Ignore very short statements\n",
        "                            # Calculate similarity with context\n",
        "                            statement_in_context = answer_similarity(statement, context) > 0.3\n",
        "                            if statement_in_context:\n",
        "                                faithful_statements += 1\n",
        "\n",
        "                    faithfulness = faithful_statements / len(answer_statements) if answer_statements else 1.0\n",
        "                    faithfulness_scores.append(faithfulness)\n",
        "\n",
        "                # 4. Relevancy: Is the answer relevant to the question?\n",
        "                relevancy = answer_similarity(answer, question)\n",
        "                relevancy_scores.append(relevancy)\n",
        "\n",
        "                # 5. Correctness: How similar is the answer to ground truth?\n",
        "                if question in ground_truth:\n",
        "                    correctness = answer_similarity(answer, ground_truth[question])\n",
        "                    correctness_scores.append(correctness)\n",
        "\n",
        "            except Exception as e:\n",
        "                print(f\"Error evaluating question {i+1}: {str(e)}\")\n",
        "\n",
        "        # Calculate average metrics\n",
        "        metrics[model_name][\"Hit Rate\"] = np.mean(hit_rates) if hit_rates else float('nan')\n",
        "        metrics[model_name][\"MRR\"] = np.mean(mrr_scores) if mrr_scores else float('nan')\n",
        "        metrics[model_name][\"Faithfulness\"] = np.mean(faithfulness_scores) if faithfulness_scores else float('nan')\n",
        "        metrics[model_name][\"Relevancy\"] = np.mean(relevancy_scores) if relevancy_scores else float('nan')\n",
        "        metrics[model_name][\"Correctness\"] = np.mean(correctness_scores) if correctness_scores else float('nan')\n",
        "\n",
        "        # Add response time from previous evaluations if available\n",
        "        if hasattr(qa_chain, 'response_times') and qa_chain.response_times:\n",
        "            metrics[model_name][\"Avg Response Time\"] = np.mean(qa_chain.response_times)\n",
        "\n",
        "    # Create DataFrame for easy comparison\n",
        "    metrics_df = pd.DataFrame(metrics).T\n",
        "\n",
        "    print(\"\\nModel Performance Metrics:\")\n",
        "    print(metrics_df)\n",
        "\n",
        "    # Create radar chart for visual comparison\n",
        "    try:\n",
        "        import matplotlib.pyplot as plt\n",
        "\n",
        "        # Prepare data for radar chart\n",
        "        categories = ['Hit Rate', 'MRR', 'Faithfulness', 'Relevancy', 'Correctness']\n",
        "        N = len(categories)\n",
        "\n",
        "        # Create angle for each category\n",
        "        angles = [n / float(N) * 2 * np.pi for n in range(N)]\n",
        "        angles += angles[:1]  # Close the loop\n",
        "\n",
        "        # Create the plot\n",
        "        fig, ax = plt.subplots(figsize=(10, 6), subplot_kw=dict(polar=True))\n",
        "\n",
        "        # Add each model to the chart\n",
        "        for model_name in metrics:\n",
        "            values = [metrics[model_name].get(cat, 0) for cat in categories]\n",
        "            values += values[:1]  # Close the loop\n",
        "\n",
        "            ax.plot(angles, values, linewidth=1, label=model_name)\n",
        "            ax.fill(angles, values, alpha=0.1)\n",
        "\n",
        "        # Set category labels\n",
        "        plt.xticks(angles[:-1], categories)\n",
        "\n",
        "        # Add legend and title\n",
        "        plt.legend(loc='upper right')\n",
        "        plt.title('RAG Model Performance Comparison')\n",
        "\n",
        "        plt.tight_layout()\n",
        "        plt.show()\n",
        "    except Exception as e:\n",
        "        print(f\"Error creating radar chart: {str(e)}\")\n",
        "\n",
        "    return metrics_df\n",
        "\n",
        "# Run the evaluation\n",
        "evaluation_results = evaluate_models_performance(qa_chains)"
      ],
      "metadata": {
        "colab": {
          "base_uri": "https://localhost:8080/",
          "height": 828
        },
        "id": "fr_YfZ35NyMx",
        "outputId": "b8f9140e-7d49-425a-b214-b427e9f0c649"
      },
      "execution_count": null,
      "outputs": [
        {
          "output_type": "stream",
          "name": "stderr",
          "text": [
            "<ipython-input-30-73f0a7334cf2>:51: LangChainDeprecationWarning: The method `BaseRetriever.get_relevant_documents` was deprecated in langchain-core 0.1.46 and will be removed in 1.0. Use :meth:`~invoke` instead.\n",
            "  docs = retriever.get_relevant_documents(question)\n"
          ]
        },
        {
          "output_type": "stream",
          "name": "stdout",
          "text": [
            "Evaluating gpt-3.5-turbo...\n",
            "Evaluating gpt-3.5-turbo-16k...\n",
            "Evaluating Flan-T5-base...\n",
            "\n",
            "Model Performance Metrics:\n",
            "                   Hit Rate     MRR  Faithfulness  Relevancy  Correctness\n",
            "gpt-3.5-turbo      0.777778  0.6875           0.0   0.090666     0.321660\n",
            "gpt-3.5-turbo-16k  0.777778  0.5625           0.0   0.104491     0.341333\n",
            "Flan-T5-base       0.888889  0.3750           0.0   0.119965     0.920635\n"
          ]
        },
        {
          "output_type": "display_data",
          "data": {
            "text/plain": [
              "<Figure size 1000x600 with 1 Axes>"
            ],
            "image/png": "[encoded data removed]"
          },
          "metadata": {}
        }
      ]
    },
    {
      "cell_type": "code",
      "source": [
        "def interactive_queries_with_model_selection():\n",
        "    \"\"\"Interactive query interface that allows selection of LLM\"\"\"\n",
        "    available_models = list(qa_chains.keys())\n",
        "\n",
        "    print(f\"\\nAvailable language models: {available_models}\")\n",
        "\n",
        "    while True:\n",
        "        # Choose LLM\n",
        "        if len(available_models) > 1:\n",
        "            print(\"\\nChoose a language model:\")\n",
        "            for i, model in enumerate(available_models):\n",
        "                print(f\"{i+1}. {model}\")\n",
        "            print(f\"{len(available_models)+1}. Compare all models\")\n",
        "            print(\"0. Exit\")\n",
        "\n",
        "            try:\n",
        "                choice = int(input(\"Enter your choice: \"))\n",
        "                if choice == 0:\n",
        "                    break\n",
        "                elif choice == len(available_models) + 1:\n",
        "                    compare_mode = True\n",
        "                    model_name = None\n",
        "                elif 1 <= choice <= len(available_models):\n",
        "                    compare_mode = False\n",
        "                    model_name = available_models[choice-1]\n",
        "                else:\n",
        "                    print(\"Invalid choice. Please try again.\")\n",
        "                    continue\n",
        "            except ValueError:\n",
        "                print(\"Please enter a number.\")\n",
        "                continue\n",
        "        else:\n",
        "            compare_mode = False\n",
        "            model_name = available_models[0]\n",
        "\n",
        "        # Ask for question\n",
        "        user_question = input(\"\\nEnter your question about LIC's New Jeevan Shanti policy (type 'back' to select a different model): \")\n",
        "\n",
        "        if user_question.lower() in ['back', 'b']:\n",
        "            continue\n",
        "        if user_question.lower() in ['exit', 'quit', 'q']:\n",
        "            break\n",
        "\n",
        "        # Process the question\n",
        "        if compare_mode:\n",
        "            compare_llms(user_question)\n",
        "        else:\n",
        "            try:\n",
        "                start_time = time.time()\n",
        "                answer = qa_chains[model_name].invoke({\"query\": user_question})[\"result\"]\n",
        "                end_time = time.time()\n",
        "\n",
        "                print(f\"\\nUsing {model_name}:\")\n",
        "                print(f\"Time: {end_time - start_time:.2f} seconds\")\n",
        "                print(f\"Answer: {answer}\")\n",
        "            except Exception as e:\n",
        "                print(f\"Error with {model_name}: {str(e)}\")\n",
        "\n",
        "# Start the interactive session\n",
        "interactive_queries_with_model_selection()"
      ],
      "metadata": {
        "colab": {
          "base_uri": "https://localhost:8080/"
        },
        "id": "AfjoUk8ALTYL",
        "outputId": "2f1f1f82-5464-443e-e046-f582a9129051"
      },
      "execution_count": null,
      "outputs": [
        {
          "output_type": "stream",
          "name": "stdout",
          "text": [
            "\n",
            "Available language models: ['gpt-3.5-turbo', 'gpt-3.5-turbo-16k', 'Flan-T5-base']\n",
            "\n",
            "Choose a language model:\n",
            "1. gpt-3.5-turbo\n",
            "2. gpt-3.5-turbo-16k\n",
            "3. Flan-T5-base\n",
            "4. Compare all models\n",
            "0. Exit\n"
          ]
        }
      ]
    }
  ]
}