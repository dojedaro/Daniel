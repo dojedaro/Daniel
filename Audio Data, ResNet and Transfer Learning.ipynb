{
  "nbformat": 4,
  "nbformat_minor": 0,
  "metadata": {
    "colab": {
      "provenance": []
    },
    "kernelspec": {
      "name": "python3",
      "display_name": "Python 3"
    },
    "language_info": {
      "name": "python"
    }
  },
  "cells": [
    {
      "cell_type": "code",
      "execution_count": 1,
      "metadata": {
        "colab": {
          "base_uri": "https://localhost:8080/"
        },
        "id": "-GX0DdAgG6zR",
        "outputId": "074a3656-f014-41c3-96f4-7c33fe26cf3e"
      },
      "outputs": [
        {
          "output_type": "stream",
          "name": "stdout",
          "text": [
            "✅ Done! Generated ~200 synthetic audio files in 'ToyADMOS'.\n"
          ]
        }
      ],
      "source": [
        "import numpy as np\n",
        "import os\n",
        "from scipy.io.wavfile import write\n",
        "\n",
        "def generate_noisy_machine_signal(base_freq, duration=10, sr=16000, noise_level=0.05, anomaly=False):\n",
        "    t = np.linspace(0, duration, int(sr * duration), endpoint=False)\n",
        "\n",
        "    drift = np.random.uniform(-2, 2)\n",
        "    freq = base_freq + drift\n",
        "    base = 0.5 * np.sin(2 * np.pi * freq * t)\n",
        "\n",
        "    noise = np.random.normal(0, noise_level, base.shape)\n",
        "    signal = base + noise\n",
        "\n",
        "    if anomaly:\n",
        "        for _ in range(5):\n",
        "            idx = np.random.randint(0, len(signal) - sr//10)\n",
        "            burst_freq = np.random.uniform(2000, 3000)\n",
        "            burst = 0.5 * np.sin(2 * np.pi * burst_freq * t[:sr//10])\n",
        "            signal[idx:idx+sr//10] += burst\n",
        "\n",
        "    signal = np.clip(signal, -1.0, 1.0)\n",
        "    return (signal * 32767).astype(np.int16)\n",
        "\n",
        "# Paths\n",
        "base_path = \"ToyADMOS\"\n",
        "machines = [\"ToyCar\", \"ToyTrain\", \"ToyConveyor\"]\n",
        "labels = [\"normal\", \"anomaly\"]\n",
        "\n",
        "# Files per machine to reach ~200 total\n",
        "files_per_class = {\n",
        "    \"ToyCar\": 34,\n",
        "    \"ToyTrain\": 33,\n",
        "    \"ToyConveyor\": 33\n",
        "}\n",
        "\n",
        "# Create dataset\n",
        "for machine in machines:\n",
        "    for label in labels:\n",
        "        path = os.path.join(base_path, machine, label)\n",
        "        os.makedirs(path, exist_ok=True)\n",
        "\n",
        "        for i in range(files_per_class[machine]):\n",
        "            is_anomaly = (label == \"anomaly\")\n",
        "            base_freq = {\"ToyCar\": 120, \"ToyTrain\": 160, \"ToyConveyor\": 200}[machine]\n",
        "            audio = generate_noisy_machine_signal(base_freq, anomaly=is_anomaly)\n",
        "            write(os.path.join(path, f\"{label}_{i}.wav\"), 16000, audio)\n",
        "\n",
        "print(f\"✅ Done! Generated ~200 synthetic audio files in '{base_path}'.\")"
      ]
    },
    {
      "cell_type": "markdown",
      "source": [
        "TASK 1\n"
      ],
      "metadata": {
        "id": "Hn38_GUHe8kY"
      }
    },
    {
      "cell_type": "markdown",
      "source": [
        "# Convert .wav to melspectograms"
      ],
      "metadata": {
        "id": "-XIEYQU9HxHo"
      }
    },
    {
      "cell_type": "code",
      "source": [
        "import librosa\n",
        "import librosa.display\n",
        "import matplotlib.pyplot as plt\n",
        "\n",
        "def create_and_save_highres_spectrogram(wav_path, save_path, fig_size=(5,5), dpi=150):\n",
        "    y, sr = librosa.load(wav_path, sr=16000)\n",
        "    S = librosa.feature.melspectrogram(y=y, sr=sr, n_mels=128)\n",
        "    log_S = librosa.power_to_db(S, ref=np.max)\n",
        "\n",
        "    plt.figure(figsize=fig_size)\n",
        "    librosa.display.specshow(log_S, sr=sr, hop_length=512)\n",
        "    plt.axis('off')\n",
        "    plt.tight_layout()\n",
        "    plt.savefig(save_path, bbox_inches='tight', pad_inches=0, dpi=dpi)\n",
        "    plt.close()\n",
        "\n",
        "# Spectrogram base folder\n",
        "spec_base = \"ToyADMOS_Spectrograms\"\n",
        "for machine in machines:\n",
        "    for label in labels:\n",
        "        wav_folder = os.path.join(base_path, machine, label)\n",
        "        spec_folder = os.path.join(spec_base, machine, label)\n",
        "        os.makedirs(spec_folder, exist_ok=True)\n",
        "\n",
        "        for file in os.listdir(wav_folder):\n",
        "            if file.endswith(\".wav\"):\n",
        "                wav_path = os.path.join(wav_folder, file)\n",
        "                save_path = os.path.join(spec_folder, file.replace(\".wav\", \".png\"))\n",
        "                create_and_save_highres_spectrogram(wav_path, save_path)\n",
        "\n",
        "print(f\"✅ Done! High-res spectrograms saved to '{spec_base}'.\")"
      ],
      "metadata": {
        "colab": {
          "base_uri": "https://localhost:8080/"
        },
        "id": "Ea5KQew-IDFh",
        "outputId": "0fd73198-6a81-4068-eb82-4f6044faf287"
      },
      "execution_count": 2,
      "outputs": [
        {
          "output_type": "stream",
          "name": "stdout",
          "text": [
            "✅ Done! High-res spectrograms saved to 'ToyADMOS_Spectrograms'.\n"
          ]
        }
      ]
    },
    {
      "cell_type": "markdown",
      "source": [
        "Ensuring dtaa split. it will be 70% training, 15% validation and 15% testing"
      ],
      "metadata": {
        "id": "Pqen_0q8JxwF"
      }
    },
    {
      "cell_type": "code",
      "source": [
        "import random\n",
        "import shutil\n",
        "import os\n",
        "\n",
        "# Base paths\n",
        "source_base = \"ToyADMOS_Spectrograms\"\n",
        "target_base = \"data_balanced\"\n",
        "\n",
        "# Re-create destination folders\n",
        "for split in ['train', 'val', 'test']:\n",
        "    for label in ['normal', 'anomaly']:\n",
        "        os.makedirs(os.path.join(target_base, split, label), exist_ok=True)\n",
        "\n",
        "# Collect all files with machine info\n",
        "all_files = []  # (filepath, label, machine)\n",
        "\n",
        "machines = [\"ToyCar\", \"ToyTrain\", \"ToyConveyor\"]\n",
        "labels = [\"normal\", \"anomaly\"]\n",
        "\n",
        "for machine in machines:\n",
        "    for label in labels:\n",
        "        src_folder = os.path.join(source_base, machine, label)\n",
        "        for file in os.listdir(src_folder):\n",
        "            full_path = os.path.join(src_folder, file)\n",
        "            all_files.append((full_path, label, machine))  # save machine info too!\n",
        "\n",
        "# Shuffle all files\n",
        "random.shuffle(all_files)\n",
        "\n",
        "# Split per class\n",
        "normal_files = [f for f in all_files if f[1] == \"normal\"]\n",
        "anomaly_files = [f for f in all_files if f[1] == \"anomaly\"]\n",
        "\n",
        "# Function to split and copy, preserving machine info\n",
        "def split_and_copy(files, label):\n",
        "    n_total = len(files)\n",
        "    n_train = int(0.7 * n_total)\n",
        "    n_val = int(0.15 * n_total)\n",
        "    n_test = n_total - n_train - n_val\n",
        "\n",
        "    for idx, (src_path, lbl, machine) in enumerate(files[:n_train]):\n",
        "        filename = f\"{machine}_{os.path.basename(src_path)}\"\n",
        "        shutil.copy(src_path, os.path.join(target_base, 'train', label, filename))\n",
        "\n",
        "    for idx, (src_path, lbl, machine) in enumerate(files[n_train:n_train+n_val]):\n",
        "        filename = f\"{machine}_{os.path.basename(src_path)}\"\n",
        "        shutil.copy(src_path, os.path.join(target_base, 'val', label, filename))\n",
        "\n",
        "    for idx, (src_path, lbl, machine) in enumerate(files[n_train+n_val:]):\n",
        "        filename = f\"{machine}_{os.path.basename(src_path)}\"\n",
        "        shutil.copy(src_path, os.path.join(target_base, 'test', label, filename))\n",
        "\n",
        "# Now split and copy both normal and anomaly files\n",
        "split_and_copy(normal_files, \"normal\")\n",
        "split_and_copy(anomaly_files, \"anomaly\")\n",
        "\n",
        "print(f\"✅ Done! Random, balanced split completed with machine name preserved in filenames.\")"
      ],
      "metadata": {
        "colab": {
          "base_uri": "https://localhost:8080/"
        },
        "id": "jwwJL79AJtSk",
        "outputId": "cff7697c-1ed1-45ed-d38a-25cd9eb74974"
      },
      "execution_count": 3,
      "outputs": [
        {
          "output_type": "stream",
          "name": "stdout",
          "text": [
            "✅ Done! Random, balanced split completed with machine name preserved in filenames.\n"
          ]
        }
      ]
    },
    {
      "cell_type": "code",
      "source": [
        "from tensorflow.keras.preprocessing.image import ImageDataGenerator\n",
        "\n",
        "# Data generators\n",
        "train_datagen = ImageDataGenerator(rescale=1./255)\n",
        "test_datagen = ImageDataGenerator(rescale=1./255)\n",
        "\n",
        "train_generator = train_datagen.flow_from_directory(\n",
        "    'data_balanced/train',\n",
        "    target_size=(224, 224),   # 🔥 Updated size\n",
        "    batch_size=8,\n",
        "    class_mode='binary'\n",
        ")\n",
        "\n",
        "val_generator = train_datagen.flow_from_directory(\n",
        "    'data_balanced/val',\n",
        "    target_size=(224, 224),\n",
        "    batch_size=8,\n",
        "    class_mode='binary'\n",
        ")\n",
        "\n",
        "test_generator = test_datagen.flow_from_directory(\n",
        "    'data_balanced/test',\n",
        "    target_size=(224, 224),\n",
        "    batch_size=1,\n",
        "    class_mode='binary',\n",
        "    shuffle=False\n",
        ")"
      ],
      "metadata": {
        "colab": {
          "base_uri": "https://localhost:8080/"
        },
        "id": "_HFLTznXNxV7",
        "outputId": "458ec9bc-fe27-4f62-ac1f-395f1825fc66"
      },
      "execution_count": 4,
      "outputs": [
        {
          "output_type": "stream",
          "name": "stdout",
          "text": [
            "Found 251 images belonging to 2 classes.\n",
            "Found 122 images belonging to 2 classes.\n",
            "Found 123 images belonging to 2 classes.\n"
          ]
        }
      ]
    },
    {
      "cell_type": "code",
      "source": [
        "from tensorflow.keras.applications import VGG16\n",
        "from tensorflow.keras.models import Sequential\n",
        "from tensorflow.keras.layers import Dense, Flatten, Dropout\n",
        "from tensorflow.keras.optimizers import Adam\n",
        "\n",
        "base_model = VGG16(include_top=False, input_shape=(224, 224, 3), weights='imagenet')\n",
        "base_model.trainable = False\n",
        "\n",
        "model = Sequential([\n",
        "    base_model,\n",
        "    Flatten(),\n",
        "    Dropout(0.5),\n",
        "    Dense(128, activation='relu'),\n",
        "    Dense(1, activation='sigmoid')\n",
        "])\n",
        "\n",
        "model.compile(optimizer=Adam(learning_rate=1e-4), loss='binary_crossentropy', metrics=['accuracy'])\n",
        "\n",
        "history = model.fit(\n",
        "    train_generator,\n",
        "    validation_data=val_generator,\n",
        "    epochs=10\n",
        ")"
      ],
      "metadata": {
        "colab": {
          "base_uri": "https://localhost:8080/"
        },
        "id": "__WRblJmN1Th",
        "outputId": "90d558b8-0508-41b7-9626-e1930a62bff2"
      },
      "execution_count": 5,
      "outputs": [
        {
          "output_type": "stream",
          "name": "stdout",
          "text": [
            "Epoch 1/10\n"
          ]
        },
        {
          "output_type": "stream",
          "name": "stderr",
          "text": [
            "/usr/local/lib/python3.11/dist-packages/keras/src/trainers/data_adapters/py_dataset_adapter.py:121: UserWarning: Your `PyDataset` class should call `super().__init__(**kwargs)` in its constructor. `**kwargs` can include `workers`, `use_multiprocessing`, `max_queue_size`. Do not pass these arguments to `fit()`, as they will be ignored.\n",
            "  self._warn_if_super_not_called()\n"
          ]
        },
        {
          "output_type": "stream",
          "name": "stdout",
          "text": [
            "\u001b[1m32/32\u001b[0m \u001b[32m━━━━━━━━━━━━━━━━━━━━\u001b[0m\u001b[37m\u001b[0m \u001b[1m198s\u001b[0m 6s/step - accuracy: 0.6557 - loss: 0.5933 - val_accuracy: 1.0000 - val_loss: 0.1181\n",
            "Epoch 2/10\n",
            "\u001b[1m32/32\u001b[0m \u001b[32m━━━━━━━━━━━━━━━━━━━━\u001b[0m\u001b[37m\u001b[0m \u001b[1m194s\u001b[0m 6s/step - accuracy: 0.9924 - loss: 0.1222 - val_accuracy: 1.0000 - val_loss: 0.0203\n",
            "Epoch 3/10\n",
            "\u001b[1m32/32\u001b[0m \u001b[32m━━━━━━━━━━━━━━━━━━━━\u001b[0m\u001b[37m\u001b[0m \u001b[1m228s\u001b[0m 7s/step - accuracy: 1.0000 - loss: 0.0289 - val_accuracy: 1.0000 - val_loss: 0.0077\n",
            "Epoch 4/10\n",
            "\u001b[1m32/32\u001b[0m \u001b[32m━━━━━━━━━━━━━━━━━━━━\u001b[0m\u001b[37m\u001b[0m \u001b[1m195s\u001b[0m 6s/step - accuracy: 1.0000 - loss: 0.0147 - val_accuracy: 1.0000 - val_loss: 0.0052\n",
            "Epoch 5/10\n",
            "\u001b[1m32/32\u001b[0m \u001b[32m━━━━━━━━━━━━━━━━━━━━\u001b[0m\u001b[37m\u001b[0m \u001b[1m213s\u001b[0m 7s/step - accuracy: 1.0000 - loss: 0.0159 - val_accuracy: 1.0000 - val_loss: 0.0036\n",
            "Epoch 6/10\n",
            "\u001b[1m32/32\u001b[0m \u001b[32m━━━━━━━━━━━━━━━━━━━━\u001b[0m\u001b[37m\u001b[0m \u001b[1m195s\u001b[0m 6s/step - accuracy: 1.0000 - loss: 0.0088 - val_accuracy: 1.0000 - val_loss: 0.0028\n",
            "Epoch 7/10\n",
            "\u001b[1m32/32\u001b[0m \u001b[32m━━━━━━━━━━━━━━━━━━━━\u001b[0m\u001b[37m\u001b[0m \u001b[1m195s\u001b[0m 6s/step - accuracy: 1.0000 - loss: 0.0050 - val_accuracy: 1.0000 - val_loss: 0.0023\n",
            "Epoch 8/10\n",
            "\u001b[1m32/32\u001b[0m \u001b[32m━━━━━━━━━━━━━━━━━━━━\u001b[0m\u001b[37m\u001b[0m \u001b[1m214s\u001b[0m 7s/step - accuracy: 1.0000 - loss: 0.0051 - val_accuracy: 1.0000 - val_loss: 0.0017\n",
            "Epoch 9/10\n",
            "\u001b[1m32/32\u001b[0m \u001b[32m━━━━━━━━━━━━━━━━━━━━\u001b[0m\u001b[37m\u001b[0m \u001b[1m199s\u001b[0m 6s/step - accuracy: 1.0000 - loss: 0.0038 - val_accuracy: 1.0000 - val_loss: 0.0014\n",
            "Epoch 10/10\n",
            "\u001b[1m32/32\u001b[0m \u001b[32m━━━━━━━━━━━━━━━━━━━━\u001b[0m\u001b[37m\u001b[0m \u001b[1m212s\u001b[0m 7s/step - accuracy: 1.0000 - loss: 0.0025 - val_accuracy: 1.0000 - val_loss: 0.0013\n"
          ]
        }
      ]
    },
    {
      "cell_type": "markdown",
      "source": [
        "The above prompt took 35 minutes to execute"
      ],
      "metadata": {
        "id": "piH20nhHdbEY"
      }
    },
    {
      "cell_type": "markdown",
      "source": [
        "The commant below generates the F1 scores and Accuracy Reports!"
      ],
      "metadata": {
        "id": "WfsjUJtDdyo9"
      }
    },
    {
      "cell_type": "code",
      "source": [
        "import numpy as np\n",
        "from sklearn.metrics import classification_report, f1_score, accuracy_score\n",
        "\n",
        "# Predict all test data\n",
        "y_true = test_generator.classes\n",
        "y_pred_probs = model.predict(test_generator)\n",
        "y_pred = (y_pred_probs > 0.5).astype(int).flatten()\n",
        "\n",
        "# Get filepaths\n",
        "filepaths = np.array(test_generator.filepaths)\n",
        "\n",
        "# Machine types\n",
        "machines = [\"ToyCar\", \"ToyTrain\", \"ToyConveyor\"]\n",
        "\n",
        "print(\"🔎 Metrics Broken Down by Machine Type:\\n\")\n",
        "\n",
        "for machine in machines:\n",
        "    # Find indices belonging to this machine\n",
        "    machine_idx = [i for i, path in enumerate(filepaths) if machine in path]\n",
        "\n",
        "    # Extract true and predicted labels for this machine\n",
        "    y_true_machine = y_true[machine_idx]\n",
        "    y_pred_machine = y_pred[machine_idx]\n",
        "\n",
        "    # 🔥 Fix: Skip if no samples\n",
        "    if len(y_true_machine) == 0:\n",
        "        print(f\"⚠️ Skipping {machine}: No samples in test set.\\n\" + \"-\"*50)\n",
        "        continue\n",
        "\n",
        "    # Make sure they're arrays\n",
        "    y_true_machine = np.array(y_true_machine).flatten()\n",
        "    y_pred_machine = np.array(y_pred_machine).flatten()\n",
        "\n",
        "    # Calculate metrics\n",
        "    acc = accuracy_score(y_true_machine, y_pred_machine)\n",
        "    f1 = f1_score(y_true_machine, y_pred_machine, zero_division=0)\n",
        "\n",
        "    print(f\"📁 {machine}:\")\n",
        "    print(f\"   - Accuracy: {acc:.4f}\")\n",
        "    print(f\"   - F1 Score: {f1:.4f}\")\n",
        "    print(f\"   - Classification Report:\\n{classification_report(y_true_machine, y_pred_machine, target_names=['normal', 'anomaly'], zero_division=0)}\")\n",
        "    print(\"-\" * 50)\n",
        "\n",
        "# 🌍 Global Metrics\n",
        "print(\"🌍 Global Metrics:\")\n",
        "global_acc = accuracy_score(y_true, y_pred)\n",
        "global_f1 = f1_score(y_true, y_pred, zero_division=0)\n",
        "\n",
        "print(f\"✅ Overall Accuracy: {global_acc:.4f}\")\n",
        "print(f\"✅ Overall F1 Score: {global_f1:.4f}\")\n",
        "\n",
        "print(\"\\n🌍 Global Classification Report:\")\n",
        "print(classification_report(y_true, y_pred, target_names=[\"normal\", \"anomaly\"], zero_division=0))"
      ],
      "metadata": {
        "colab": {
          "base_uri": "https://localhost:8080/"
        },
        "id": "_Nm-Cq3ETspw",
        "outputId": "dbcfb95b-7b46-44c6-81d7-f39edd2bcd8d"
      },
      "execution_count": 6,
      "outputs": [
        {
          "output_type": "stream",
          "name": "stdout",
          "text": [
            "\u001b[1m123/123\u001b[0m \u001b[32m━━━━━━━━━━━━━━━━━━━━\u001b[0m\u001b[37m\u001b[0m \u001b[1m79s\u001b[0m 641ms/step\n",
            "🔎 Metrics Broken Down by Machine Type:\n",
            "\n",
            "📁 ToyCar:\n",
            "   - Accuracy: 1.0000\n",
            "   - F1 Score: 1.0000\n",
            "   - Classification Report:\n",
            "              precision    recall  f1-score   support\n",
            "\n",
            "      normal       1.00      1.00      1.00         8\n",
            "     anomaly       1.00      1.00      1.00         9\n",
            "\n",
            "    accuracy                           1.00        17\n",
            "   macro avg       1.00      1.00      1.00        17\n",
            "weighted avg       1.00      1.00      1.00        17\n",
            "\n",
            "--------------------------------------------------\n",
            "📁 ToyTrain:\n",
            "   - Accuracy: 1.0000\n",
            "   - F1 Score: 1.0000\n",
            "   - Classification Report:\n",
            "              precision    recall  f1-score   support\n",
            "\n",
            "      normal       1.00      1.00      1.00         8\n",
            "     anomaly       1.00      1.00      1.00        11\n",
            "\n",
            "    accuracy                           1.00        19\n",
            "   macro avg       1.00      1.00      1.00        19\n",
            "weighted avg       1.00      1.00      1.00        19\n",
            "\n",
            "--------------------------------------------------\n",
            "📁 ToyConveyor:\n",
            "   - Accuracy: 1.0000\n",
            "   - F1 Score: 1.0000\n",
            "   - Classification Report:\n",
            "              precision    recall  f1-score   support\n",
            "\n",
            "      normal       1.00      1.00      1.00        11\n",
            "     anomaly       1.00      1.00      1.00         9\n",
            "\n",
            "    accuracy                           1.00        20\n",
            "   macro avg       1.00      1.00      1.00        20\n",
            "weighted avg       1.00      1.00      1.00        20\n",
            "\n",
            "--------------------------------------------------\n",
            "🌍 Global Metrics:\n",
            "✅ Overall Accuracy: 1.0000\n",
            "✅ Overall F1 Score: 1.0000\n",
            "\n",
            "🌍 Global Classification Report:\n",
            "              precision    recall  f1-score   support\n",
            "\n",
            "      normal       1.00      1.00      1.00        61\n",
            "     anomaly       1.00      1.00      1.00        62\n",
            "\n",
            "    accuracy                           1.00       123\n",
            "   macro avg       1.00      1.00      1.00       123\n",
            "weighted avg       1.00      1.00      1.00       123\n",
            "\n"
          ]
        }
      ]
    },
    {
      "cell_type": "markdown",
      "source": [
        "Export spectograms and raw files"
      ],
      "metadata": {
        "id": "cF5Bcf8-dIzi"
      }
    },
    {
      "cell_type": "code",
      "source": [
        "import shutil\n",
        "\n",
        "# Zip the ToyADMOS audio folder\n",
        "shutil.make_archive('ToyADMOS_Audio', 'zip', 'ToyADMOS')\n",
        "\n",
        "print(\"✅ Audio files zipped into ToyADMOS_Audio.zip\")"
      ],
      "metadata": {
        "colab": {
          "base_uri": "https://localhost:8080/"
        },
        "id": "-oww6zWzdL1Q",
        "outputId": "65c6fe43-a510-487c-fb13-e07b3712f24e"
      },
      "execution_count": 8,
      "outputs": [
        {
          "output_type": "stream",
          "name": "stdout",
          "text": [
            "✅ Audio files zipped into ToyADMOS_Audio.zip\n"
          ]
        }
      ]
    },
    {
      "cell_type": "code",
      "source": [
        "# Zip the ToyADMOS_Spectrograms folder\n",
        "shutil.make_archive('ToyADMOS_Spectrograms', 'zip', 'ToyADMOS_Spectrograms')\n",
        "\n",
        "print(\"✅ Spectrogram images zipped into ToyADMOS_Spectrograms.zip\")"
      ],
      "metadata": {
        "colab": {
          "base_uri": "https://localhost:8080/"
        },
        "id": "H3QouHOSdPVF",
        "outputId": "fd0df589-7cec-4a17-9e72-0f6a4bdf20c4"
      },
      "execution_count": 9,
      "outputs": [
        {
          "output_type": "stream",
          "name": "stdout",
          "text": [
            "✅ Spectrogram images zipped into ToyADMOS_Spectrograms.zip\n"
          ]
        }
      ]
    },
    {
      "cell_type": "code",
      "source": [
        "from google.colab import files\n",
        "files.download('ToyADMOS_Audio.zip')\n",
        "files.download('ToyADMOS_Spectrograms.zip')"
      ],
      "metadata": {
        "colab": {
          "base_uri": "https://localhost:8080/",
          "height": 17
        },
        "id": "xlOqzTCZdRxd",
        "outputId": "7e8294c7-443c-4778-9a5c-22aa568c8b83"
      },
      "execution_count": 10,
      "outputs": [
        {
          "output_type": "display_data",
          "data": {
            "text/plain": [
              "<IPython.core.display.Javascript object>"
            ],
            "application/javascript": [
              "\n",
              "    async function download(id, filename, size) {\n",
              "      if (!google.colab.kernel.accessAllowed) {\n",
              "        return;\n",
              "      }\n",
              "      const div = document.createElement('div');\n",
              "      const label = document.createElement('label');\n",
              "      label.textContent = `Downloading \"${filename}\": `;\n",
              "      div.appendChild(label);\n",
              "      const progress = document.createElement('progress');\n",
              "      progress.max = size;\n",
              "      div.appendChild(progress);\n",
              "      document.body.appendChild(div);\n",
              "\n",
              "      const buffers = [];\n",
              "      let downloaded = 0;\n",
              "\n",
              "      const channel = await google.colab.kernel.comms.open(id);\n",
              "      // Send a message to notify the kernel that we're ready.\n",
              "      channel.send({})\n",
              "\n",
              "      for await (const message of channel.messages) {\n",
              "        // Send a message to notify the kernel that we're ready.\n",
              "        channel.send({})\n",
              "        if (message.buffers) {\n",
              "          for (const buffer of message.buffers) {\n",
              "            buffers.push(buffer);\n",
              "            downloaded += buffer.byteLength;\n",
              "            progress.value = downloaded;\n",
              "          }\n",
              "        }\n",
              "      }\n",
              "      const blob = new Blob(buffers, {type: 'application/binary'});\n",
              "      const a = document.createElement('a');\n",
              "      a.href = window.URL.createObjectURL(blob);\n",
              "      a.download = filename;\n",
              "      div.appendChild(a);\n",
              "      a.click();\n",
              "      div.remove();\n",
              "    }\n",
              "  "
            ]
          },
          "metadata": {}
        },
        {
          "output_type": "display_data",
          "data": {
            "text/plain": [
              "<IPython.core.display.Javascript object>"
            ],
            "application/javascript": [
              "download(\"download_8c460482-160a-4d64-b9a8-27ad0b4c4e96\", \"ToyADMOS_Audio.zip\", 63146221)"
            ]
          },
          "metadata": {}
        },
        {
          "output_type": "display_data",
          "data": {
            "text/plain": [
              "<IPython.core.display.Javascript object>"
            ],
            "application/javascript": [
              "\n",
              "    async function download(id, filename, size) {\n",
              "      if (!google.colab.kernel.accessAllowed) {\n",
              "        return;\n",
              "      }\n",
              "      const div = document.createElement('div');\n",
              "      const label = document.createElement('label');\n",
              "      label.textContent = `Downloading \"${filename}\": `;\n",
              "      div.appendChild(label);\n",
              "      const progress = document.createElement('progress');\n",
              "      progress.max = size;\n",
              "      div.appendChild(progress);\n",
              "      document.body.appendChild(div);\n",
              "\n",
              "      const buffers = [];\n",
              "      let downloaded = 0;\n",
              "\n",
              "      const channel = await google.colab.kernel.comms.open(id);\n",
              "      // Send a message to notify the kernel that we're ready.\n",
              "      channel.send({})\n",
              "\n",
              "      for await (const message of channel.messages) {\n",
              "        // Send a message to notify the kernel that we're ready.\n",
              "        channel.send({})\n",
              "        if (message.buffers) {\n",
              "          for (const buffer of message.buffers) {\n",
              "            buffers.push(buffer);\n",
              "            downloaded += buffer.byteLength;\n",
              "            progress.value = downloaded;\n",
              "          }\n",
              "        }\n",
              "      }\n",
              "      const blob = new Blob(buffers, {type: 'application/binary'});\n",
              "      const a = document.createElement('a');\n",
              "      a.href = window.URL.createObjectURL(blob);\n",
              "      a.download = filename;\n",
              "      div.appendChild(a);\n",
              "      a.click();\n",
              "      div.remove();\n",
              "    }\n",
              "  "
            ]
          },
          "metadata": {}
        },
        {
          "output_type": "display_data",
          "data": {
            "text/plain": [
              "<IPython.core.display.Javascript object>"
            ],
            "application/javascript": [
              "download(\"download_7c2fd794-6e8b-48ad-bb0b-0c6f94217ed8\", \"ToyADMOS_Spectrograms.zip\", 22449055)"
            ]
          },
          "metadata": {}
        }
      ]
    },
    {
      "cell_type": "markdown",
      "source": [
        "Task 2"
      ],
      "metadata": {
        "id": "x_QhOpbnfA8f"
      }
    },
    {
      "cell_type": "markdown",
      "source": [
        "Prepare the data for without transfer learning. ToyCar and ToyTrain will be used for training and ToyConveyor for testing"
      ],
      "metadata": {
        "id": "lGdp6iEjlkWr"
      }
    },
    {
      "cell_type": "code",
      "source": [
        "import os\n",
        "import shutil\n",
        "\n",
        "# Source where spectrograms are\n",
        "source_base = \"ToyADMOS_Spectrograms\"\n",
        "target_base = \"proper_split\"\n",
        "\n",
        "# Clean start\n",
        "if os.path.exists(target_base):\n",
        "    shutil.rmtree(target_base)\n",
        "\n",
        "# Create destination folders\n",
        "for split in ['train', 'test']:\n",
        "    for label in ['normal', 'anomaly']:\n",
        "        os.makedirs(os.path.join(target_base, split, label), exist_ok=True)\n",
        "\n",
        "# Copy ToyCar and ToyTrain into train/\n",
        "for machine in ['ToyCar', 'ToyTrain']:\n",
        "    for label in ['normal', 'anomaly']:\n",
        "        src_folder = os.path.join(source_base, machine, label)\n",
        "        dst_folder = os.path.join(target_base, 'train', label)\n",
        "\n",
        "        for file in os.listdir(src_folder):\n",
        "            src_path = os.path.join(src_folder, file)\n",
        "            dst_path = os.path.join(dst_folder, f\"{machine}_{file}\")  # Keep machine name\n",
        "            shutil.copy(src_path, dst_path)\n",
        "\n",
        "# Copy ToyConveyor into test/\n",
        "for machine in ['ToyConveyor']:\n",
        "    for label in ['normal', 'anomaly']:\n",
        "        src_folder = os.path.join(source_base, machine, label)\n",
        "        dst_folder = os.path.join(target_base, 'test', label)\n",
        "\n",
        "        for file in os.listdir(src_folder):\n",
        "            src_path = os.path.join(src_folder, file)\n",
        "            dst_path = os.path.join(dst_folder, f\"{machine}_{file}\")  # Keep machine name\n",
        "            shutil.copy(src_path, dst_path)\n",
        "\n",
        "print(\"✅ Done! Proper machine-specific split created at 'proper_split/'\")"
      ],
      "metadata": {
        "colab": {
          "base_uri": "https://localhost:8080/"
        },
        "id": "IR6xaEq6k_T7",
        "outputId": "e0c27ca8-f491-4e48-9967-be5e37c12bee"
      },
      "execution_count": 12,
      "outputs": [
        {
          "output_type": "stream",
          "name": "stdout",
          "text": [
            "✅ Done! Proper machine-specific split created at 'proper_split/'\n"
          ]
        }
      ]
    },
    {
      "cell_type": "code",
      "source": [
        "train_generator = train_datagen.flow_from_directory(\n",
        "    'proper_split/train',\n",
        "    target_size=(224, 224),\n",
        "    batch_size=8,\n",
        "    class_mode='binary',\n",
        "    subset='training'\n",
        ")\n",
        "\n",
        "val_generator = train_datagen.flow_from_directory(\n",
        "    'proper_split/train',\n",
        "    target_size=(224, 224),\n",
        "    batch_size=8,\n",
        "    class_mode='binary',\n",
        "    subset='validation'\n",
        ")\n",
        "\n",
        "test_generator = test_datagen.flow_from_directory(\n",
        "    'proper_split/test',\n",
        "    target_size=(224, 224),\n",
        "    batch_size=1,\n",
        "    class_mode='binary',\n",
        "    shuffle=False\n",
        ")"
      ],
      "metadata": {
        "colab": {
          "base_uri": "https://localhost:8080/"
        },
        "id": "joJRLQiwlBD3",
        "outputId": "06d82c35-a5ab-4dd1-f107-f859658308b3"
      },
      "execution_count": 13,
      "outputs": [
        {
          "output_type": "stream",
          "name": "stdout",
          "text": [
            "Found 108 images belonging to 2 classes.\n",
            "Found 26 images belonging to 2 classes.\n",
            "Found 66 images belonging to 2 classes.\n"
          ]
        }
      ]
    },
    {
      "cell_type": "markdown",
      "source": [
        "Split the data accordingly"
      ],
      "metadata": {
        "id": "F59ab4YDl1xe"
      }
    },
    {
      "cell_type": "code",
      "source": [
        "from tensorflow.keras.preprocessing.image import ImageDataGenerator\n",
        "\n",
        "train_datagen = ImageDataGenerator(rescale=1./255, validation_split=0.2)\n",
        "test_datagen = ImageDataGenerator(rescale=1./255)\n",
        "\n",
        "# Load ToyCar + ToyTrain (train + validation split)\n",
        "train_generator = train_datagen.flow_from_directory(\n",
        "    'proper_split/train',\n",
        "    target_size=(224, 224),\n",
        "    batch_size=8,\n",
        "    class_mode='binary',\n",
        "    subset='training'\n",
        ")\n",
        "\n",
        "val_generator = train_datagen.flow_from_directory(\n",
        "    'proper_split/train',\n",
        "    target_size=(224, 224),\n",
        "    batch_size=8,\n",
        "    class_mode='binary',\n",
        "    subset='validation'\n",
        ")\n",
        "\n",
        "# Load ToyConveyor (test set)\n",
        "test_generator = test_datagen.flow_from_directory(\n",
        "    'proper_split/test',\n",
        "    target_size=(224, 224),\n",
        "    batch_size=1,\n",
        "    class_mode='binary',\n",
        "    shuffle=False\n",
        ")"
      ],
      "metadata": {
        "colab": {
          "base_uri": "https://localhost:8080/"
        },
        "id": "pY_kAe1qlHuV",
        "outputId": "a95e7263-b1f3-4db6-9f77-8c614ebaa6d6"
      },
      "execution_count": 14,
      "outputs": [
        {
          "output_type": "stream",
          "name": "stdout",
          "text": [
            "Found 108 images belonging to 2 classes.\n",
            "Found 26 images belonging to 2 classes.\n",
            "Found 66 images belonging to 2 classes.\n"
          ]
        }
      ]
    },
    {
      "cell_type": "markdown",
      "source": [
        "build a scratch model"
      ],
      "metadata": {
        "id": "8AYYtdZdl8PG"
      }
    },
    {
      "cell_type": "code",
      "source": [
        "from tensorflow.keras.models import Sequential\n",
        "from tensorflow.keras.layers import Conv2D, MaxPooling2D, Flatten, Dense, Dropout, BatchNormalization\n",
        "from tensorflow.keras.optimizers import Adam\n",
        "\n",
        "scratch_model = Sequential([\n",
        "    Conv2D(32, (3,3), activation='relu', input_shape=(224,224,3)),\n",
        "    BatchNormalization(),\n",
        "    MaxPooling2D(2,2),\n",
        "\n",
        "    Conv2D(64, (3,3), activation='relu'),\n",
        "    BatchNormalization(),\n",
        "    MaxPooling2D(2,2),\n",
        "\n",
        "    Conv2D(128, (3,3), activation='relu'),\n",
        "    BatchNormalization(),\n",
        "    MaxPooling2D(2,2),\n",
        "\n",
        "    Conv2D(256, (3,3), activation='relu'),\n",
        "    BatchNormalization(),\n",
        "    MaxPooling2D(2,2),\n",
        "\n",
        "    Flatten(),\n",
        "    Dense(512, activation='relu'),\n",
        "    Dropout(0.5),\n",
        "    Dense(1, activation='sigmoid')\n",
        "])\n",
        "\n",
        "scratch_model.compile(optimizer=Adam(learning_rate=1e-4),\n",
        "                      loss='binary_crossentropy',\n",
        "                      metrics=['accuracy'])\n",
        "\n",
        "scratch_model.summary()"
      ],
      "metadata": {
        "colab": {
          "base_uri": "https://localhost:8080/",
          "height": 761
        },
        "id": "qNbbXSUgl0oF",
        "outputId": "952be853-3e41-4f78-f69b-285ea1862b27"
      },
      "execution_count": 16,
      "outputs": [
        {
          "output_type": "stream",
          "name": "stderr",
          "text": [
            "/usr/local/lib/python3.11/dist-packages/keras/src/layers/convolutional/base_conv.py:107: UserWarning: Do not pass an `input_shape`/`input_dim` argument to a layer. When using Sequential models, prefer using an `Input(shape)` object as the first layer in the model instead.\n",
            "  super().__init__(activity_regularizer=activity_regularizer, **kwargs)\n"
          ]
        },
        {
          "output_type": "display_data",
          "data": {
            "text/plain": [
              "\u001b[1mModel: \"sequential_1\"\u001b[0m\n"
            ],
            "text/html": [
              "<pre style=\"white-space:pre;overflow-x:auto;line-height:normal;font-family:Menlo,'DejaVu Sans Mono',consolas,'Courier New',monospace\"><span style=\"font-weight: bold\">Model: \"sequential_1\"</span>\n",
              "</pre>\n"
            ]
          },
          "metadata": {}
        },
        {
          "output_type": "display_data",
          "data": {
            "text/plain": [
              "┏━━━━━━━━━━━━━━━━━━━━━━━━━━━━━━━━━┳━━━━━━━━━━━━━━━━━━━━━━━━┳━━━━━━━━━━━━━━━┓\n",
              "┃\u001b[1m \u001b[0m\u001b[1mLayer (type)                   \u001b[0m\u001b[1m \u001b[0m┃\u001b[1m \u001b[0m\u001b[1mOutput Shape          \u001b[0m\u001b[1m \u001b[0m┃\u001b[1m \u001b[0m\u001b[1m      Param #\u001b[0m\u001b[1m \u001b[0m┃\n",
              "┡━━━━━━━━━━━━━━━━━━━━━━━━━━━━━━━━━╇━━━━━━━━━━━━━━━━━━━━━━━━╇━━━━━━━━━━━━━━━┩\n",
              "│ conv2d (\u001b[38;5;33mConv2D\u001b[0m)                 │ (\u001b[38;5;45mNone\u001b[0m, \u001b[38;5;34m222\u001b[0m, \u001b[38;5;34m222\u001b[0m, \u001b[38;5;34m32\u001b[0m)   │           \u001b[38;5;34m896\u001b[0m │\n",
              "├─────────────────────────────────┼────────────────────────┼───────────────┤\n",
              "│ batch_normalization             │ (\u001b[38;5;45mNone\u001b[0m, \u001b[38;5;34m222\u001b[0m, \u001b[38;5;34m222\u001b[0m, \u001b[38;5;34m32\u001b[0m)   │           \u001b[38;5;34m128\u001b[0m │\n",
              "│ (\u001b[38;5;33mBatchNormalization\u001b[0m)            │                        │               │\n",
              "├─────────────────────────────────┼────────────────────────┼───────────────┤\n",
              "│ max_pooling2d (\u001b[38;5;33mMaxPooling2D\u001b[0m)    │ (\u001b[38;5;45mNone\u001b[0m, \u001b[38;5;34m111\u001b[0m, \u001b[38;5;34m111\u001b[0m, \u001b[38;5;34m32\u001b[0m)   │             \u001b[38;5;34m0\u001b[0m │\n",
              "├─────────────────────────────────┼────────────────────────┼───────────────┤\n",
              "│ conv2d_1 (\u001b[38;5;33mConv2D\u001b[0m)               │ (\u001b[38;5;45mNone\u001b[0m, \u001b[38;5;34m109\u001b[0m, \u001b[38;5;34m109\u001b[0m, \u001b[38;5;34m64\u001b[0m)   │        \u001b[38;5;34m18,496\u001b[0m │\n",
              "├─────────────────────────────────┼────────────────────────┼───────────────┤\n",
              "│ batch_normalization_1           │ (\u001b[38;5;45mNone\u001b[0m, \u001b[38;5;34m109\u001b[0m, \u001b[38;5;34m109\u001b[0m, \u001b[38;5;34m64\u001b[0m)   │           \u001b[38;5;34m256\u001b[0m │\n",
              "│ (\u001b[38;5;33mBatchNormalization\u001b[0m)            │                        │               │\n",
              "├─────────────────────────────────┼────────────────────────┼───────────────┤\n",
              "│ max_pooling2d_1 (\u001b[38;5;33mMaxPooling2D\u001b[0m)  │ (\u001b[38;5;45mNone\u001b[0m, \u001b[38;5;34m54\u001b[0m, \u001b[38;5;34m54\u001b[0m, \u001b[38;5;34m64\u001b[0m)     │             \u001b[38;5;34m0\u001b[0m │\n",
              "├─────────────────────────────────┼────────────────────────┼───────────────┤\n",
              "│ conv2d_2 (\u001b[38;5;33mConv2D\u001b[0m)               │ (\u001b[38;5;45mNone\u001b[0m, \u001b[38;5;34m52\u001b[0m, \u001b[38;5;34m52\u001b[0m, \u001b[38;5;34m128\u001b[0m)    │        \u001b[38;5;34m73,856\u001b[0m │\n",
              "├─────────────────────────────────┼────────────────────────┼───────────────┤\n",
              "│ batch_normalization_2           │ (\u001b[38;5;45mNone\u001b[0m, \u001b[38;5;34m52\u001b[0m, \u001b[38;5;34m52\u001b[0m, \u001b[38;5;34m128\u001b[0m)    │           \u001b[38;5;34m512\u001b[0m │\n",
              "│ (\u001b[38;5;33mBatchNormalization\u001b[0m)            │                        │               │\n",
              "├─────────────────────────────────┼────────────────────────┼───────────────┤\n",
              "│ max_pooling2d_2 (\u001b[38;5;33mMaxPooling2D\u001b[0m)  │ (\u001b[38;5;45mNone\u001b[0m, \u001b[38;5;34m26\u001b[0m, \u001b[38;5;34m26\u001b[0m, \u001b[38;5;34m128\u001b[0m)    │             \u001b[38;5;34m0\u001b[0m │\n",
              "├─────────────────────────────────┼────────────────────────┼───────────────┤\n",
              "│ conv2d_3 (\u001b[38;5;33mConv2D\u001b[0m)               │ (\u001b[38;5;45mNone\u001b[0m, \u001b[38;5;34m24\u001b[0m, \u001b[38;5;34m24\u001b[0m, \u001b[38;5;34m256\u001b[0m)    │       \u001b[38;5;34m295,168\u001b[0m │\n",
              "├─────────────────────────────────┼────────────────────────┼───────────────┤\n",
              "│ batch_normalization_3           │ (\u001b[38;5;45mNone\u001b[0m, \u001b[38;5;34m24\u001b[0m, \u001b[38;5;34m24\u001b[0m, \u001b[38;5;34m256\u001b[0m)    │         \u001b[38;5;34m1,024\u001b[0m │\n",
              "│ (\u001b[38;5;33mBatchNormalization\u001b[0m)            │                        │               │\n",
              "├─────────────────────────────────┼────────────────────────┼───────────────┤\n",
              "│ max_pooling2d_3 (\u001b[38;5;33mMaxPooling2D\u001b[0m)  │ (\u001b[38;5;45mNone\u001b[0m, \u001b[38;5;34m12\u001b[0m, \u001b[38;5;34m12\u001b[0m, \u001b[38;5;34m256\u001b[0m)    │             \u001b[38;5;34m0\u001b[0m │\n",
              "├─────────────────────────────────┼────────────────────────┼───────────────┤\n",
              "│ flatten_1 (\u001b[38;5;33mFlatten\u001b[0m)             │ (\u001b[38;5;45mNone\u001b[0m, \u001b[38;5;34m36864\u001b[0m)          │             \u001b[38;5;34m0\u001b[0m │\n",
              "├─────────────────────────────────┼────────────────────────┼───────────────┤\n",
              "│ dense_2 (\u001b[38;5;33mDense\u001b[0m)                 │ (\u001b[38;5;45mNone\u001b[0m, \u001b[38;5;34m512\u001b[0m)            │    \u001b[38;5;34m18,874,880\u001b[0m │\n",
              "├─────────────────────────────────┼────────────────────────┼───────────────┤\n",
              "│ dropout_1 (\u001b[38;5;33mDropout\u001b[0m)             │ (\u001b[38;5;45mNone\u001b[0m, \u001b[38;5;34m512\u001b[0m)            │             \u001b[38;5;34m0\u001b[0m │\n",
              "├─────────────────────────────────┼────────────────────────┼───────────────┤\n",
              "│ dense_3 (\u001b[38;5;33mDense\u001b[0m)                 │ (\u001b[38;5;45mNone\u001b[0m, \u001b[38;5;34m1\u001b[0m)              │           \u001b[38;5;34m513\u001b[0m │\n",
              "└─────────────────────────────────┴────────────────────────┴───────────────┘\n"
            ],
            "text/html": [
              "<pre style=\"white-space:pre;overflow-x:auto;line-height:normal;font-family:Menlo,'DejaVu Sans Mono',consolas,'Courier New',monospace\">┏━━━━━━━━━━━━━━━━━━━━━━━━━━━━━━━━━┳━━━━━━━━━━━━━━━━━━━━━━━━┳━━━━━━━━━━━━━━━┓\n",
              "┃<span style=\"font-weight: bold\"> Layer (type)                    </span>┃<span style=\"font-weight: bold\"> Output Shape           </span>┃<span style=\"font-weight: bold\">       Param # </span>┃\n",
              "┡━━━━━━━━━━━━━━━━━━━━━━━━━━━━━━━━━╇━━━━━━━━━━━━━━━━━━━━━━━━╇━━━━━━━━━━━━━━━┩\n",
              "│ conv2d (<span style=\"color: #0087ff; text-decoration-color: #0087ff\">Conv2D</span>)                 │ (<span style=\"color: #00d7ff; text-decoration-color: #00d7ff\">None</span>, <span style=\"color: #00af00; text-decoration-color: #00af00\">222</span>, <span style=\"color: #00af00; text-decoration-color: #00af00\">222</span>, <span style=\"color: #00af00; text-decoration-color: #00af00\">32</span>)   │           <span style=\"color: #00af00; text-decoration-color: #00af00\">896</span> │\n",
              "├─────────────────────────────────┼────────────────────────┼───────────────┤\n",
              "│ batch_normalization             │ (<span style=\"color: #00d7ff; text-decoration-color: #00d7ff\">None</span>, <span style=\"color: #00af00; text-decoration-color: #00af00\">222</span>, <span style=\"color: #00af00; text-decoration-color: #00af00\">222</span>, <span style=\"color: #00af00; text-decoration-color: #00af00\">32</span>)   │           <span style=\"color: #00af00; text-decoration-color: #00af00\">128</span> │\n",
              "│ (<span style=\"color: #0087ff; text-decoration-color: #0087ff\">BatchNormalization</span>)            │                        │               │\n",
              "├─────────────────────────────────┼────────────────────────┼───────────────┤\n",
              "│ max_pooling2d (<span style=\"color: #0087ff; text-decoration-color: #0087ff\">MaxPooling2D</span>)    │ (<span style=\"color: #00d7ff; text-decoration-color: #00d7ff\">None</span>, <span style=\"color: #00af00; text-decoration-color: #00af00\">111</span>, <span style=\"color: #00af00; text-decoration-color: #00af00\">111</span>, <span style=\"color: #00af00; text-decoration-color: #00af00\">32</span>)   │             <span style=\"color: #00af00; text-decoration-color: #00af00\">0</span> │\n",
              "├─────────────────────────────────┼────────────────────────┼───────────────┤\n",
              "│ conv2d_1 (<span style=\"color: #0087ff; text-decoration-color: #0087ff\">Conv2D</span>)               │ (<span style=\"color: #00d7ff; text-decoration-color: #00d7ff\">None</span>, <span style=\"color: #00af00; text-decoration-color: #00af00\">109</span>, <span style=\"color: #00af00; text-decoration-color: #00af00\">109</span>, <span style=\"color: #00af00; text-decoration-color: #00af00\">64</span>)   │        <span style=\"color: #00af00; text-decoration-color: #00af00\">18,496</span> │\n",
              "├─────────────────────────────────┼────────────────────────┼───────────────┤\n",
              "│ batch_normalization_1           │ (<span style=\"color: #00d7ff; text-decoration-color: #00d7ff\">None</span>, <span style=\"color: #00af00; text-decoration-color: #00af00\">109</span>, <span style=\"color: #00af00; text-decoration-color: #00af00\">109</span>, <span style=\"color: #00af00; text-decoration-color: #00af00\">64</span>)   │           <span style=\"color: #00af00; text-decoration-color: #00af00\">256</span> │\n",
              "│ (<span style=\"color: #0087ff; text-decoration-color: #0087ff\">BatchNormalization</span>)            │                        │               │\n",
              "├─────────────────────────────────┼────────────────────────┼───────────────┤\n",
              "│ max_pooling2d_1 (<span style=\"color: #0087ff; text-decoration-color: #0087ff\">MaxPooling2D</span>)  │ (<span style=\"color: #00d7ff; text-decoration-color: #00d7ff\">None</span>, <span style=\"color: #00af00; text-decoration-color: #00af00\">54</span>, <span style=\"color: #00af00; text-decoration-color: #00af00\">54</span>, <span style=\"color: #00af00; text-decoration-color: #00af00\">64</span>)     │             <span style=\"color: #00af00; text-decoration-color: #00af00\">0</span> │\n",
              "├─────────────────────────────────┼────────────────────────┼───────────────┤\n",
              "│ conv2d_2 (<span style=\"color: #0087ff; text-decoration-color: #0087ff\">Conv2D</span>)               │ (<span style=\"color: #00d7ff; text-decoration-color: #00d7ff\">None</span>, <span style=\"color: #00af00; text-decoration-color: #00af00\">52</span>, <span style=\"color: #00af00; text-decoration-color: #00af00\">52</span>, <span style=\"color: #00af00; text-decoration-color: #00af00\">128</span>)    │        <span style=\"color: #00af00; text-decoration-color: #00af00\">73,856</span> │\n",
              "├─────────────────────────────────┼────────────────────────┼───────────────┤\n",
              "│ batch_normalization_2           │ (<span style=\"color: #00d7ff; text-decoration-color: #00d7ff\">None</span>, <span style=\"color: #00af00; text-decoration-color: #00af00\">52</span>, <span style=\"color: #00af00; text-decoration-color: #00af00\">52</span>, <span style=\"color: #00af00; text-decoration-color: #00af00\">128</span>)    │           <span style=\"color: #00af00; text-decoration-color: #00af00\">512</span> │\n",
              "│ (<span style=\"color: #0087ff; text-decoration-color: #0087ff\">BatchNormalization</span>)            │                        │               │\n",
              "├─────────────────────────────────┼────────────────────────┼───────────────┤\n",
              "│ max_pooling2d_2 (<span style=\"color: #0087ff; text-decoration-color: #0087ff\">MaxPooling2D</span>)  │ (<span style=\"color: #00d7ff; text-decoration-color: #00d7ff\">None</span>, <span style=\"color: #00af00; text-decoration-color: #00af00\">26</span>, <span style=\"color: #00af00; text-decoration-color: #00af00\">26</span>, <span style=\"color: #00af00; text-decoration-color: #00af00\">128</span>)    │             <span style=\"color: #00af00; text-decoration-color: #00af00\">0</span> │\n",
              "├─────────────────────────────────┼────────────────────────┼───────────────┤\n",
              "│ conv2d_3 (<span style=\"color: #0087ff; text-decoration-color: #0087ff\">Conv2D</span>)               │ (<span style=\"color: #00d7ff; text-decoration-color: #00d7ff\">None</span>, <span style=\"color: #00af00; text-decoration-color: #00af00\">24</span>, <span style=\"color: #00af00; text-decoration-color: #00af00\">24</span>, <span style=\"color: #00af00; text-decoration-color: #00af00\">256</span>)    │       <span style=\"color: #00af00; text-decoration-color: #00af00\">295,168</span> │\n",
              "├─────────────────────────────────┼────────────────────────┼───────────────┤\n",
              "│ batch_normalization_3           │ (<span style=\"color: #00d7ff; text-decoration-color: #00d7ff\">None</span>, <span style=\"color: #00af00; text-decoration-color: #00af00\">24</span>, <span style=\"color: #00af00; text-decoration-color: #00af00\">24</span>, <span style=\"color: #00af00; text-decoration-color: #00af00\">256</span>)    │         <span style=\"color: #00af00; text-decoration-color: #00af00\">1,024</span> │\n",
              "│ (<span style=\"color: #0087ff; text-decoration-color: #0087ff\">BatchNormalization</span>)            │                        │               │\n",
              "├─────────────────────────────────┼────────────────────────┼───────────────┤\n",
              "│ max_pooling2d_3 (<span style=\"color: #0087ff; text-decoration-color: #0087ff\">MaxPooling2D</span>)  │ (<span style=\"color: #00d7ff; text-decoration-color: #00d7ff\">None</span>, <span style=\"color: #00af00; text-decoration-color: #00af00\">12</span>, <span style=\"color: #00af00; text-decoration-color: #00af00\">12</span>, <span style=\"color: #00af00; text-decoration-color: #00af00\">256</span>)    │             <span style=\"color: #00af00; text-decoration-color: #00af00\">0</span> │\n",
              "├─────────────────────────────────┼────────────────────────┼───────────────┤\n",
              "│ flatten_1 (<span style=\"color: #0087ff; text-decoration-color: #0087ff\">Flatten</span>)             │ (<span style=\"color: #00d7ff; text-decoration-color: #00d7ff\">None</span>, <span style=\"color: #00af00; text-decoration-color: #00af00\">36864</span>)          │             <span style=\"color: #00af00; text-decoration-color: #00af00\">0</span> │\n",
              "├─────────────────────────────────┼────────────────────────┼───────────────┤\n",
              "│ dense_2 (<span style=\"color: #0087ff; text-decoration-color: #0087ff\">Dense</span>)                 │ (<span style=\"color: #00d7ff; text-decoration-color: #00d7ff\">None</span>, <span style=\"color: #00af00; text-decoration-color: #00af00\">512</span>)            │    <span style=\"color: #00af00; text-decoration-color: #00af00\">18,874,880</span> │\n",
              "├─────────────────────────────────┼────────────────────────┼───────────────┤\n",
              "│ dropout_1 (<span style=\"color: #0087ff; text-decoration-color: #0087ff\">Dropout</span>)             │ (<span style=\"color: #00d7ff; text-decoration-color: #00d7ff\">None</span>, <span style=\"color: #00af00; text-decoration-color: #00af00\">512</span>)            │             <span style=\"color: #00af00; text-decoration-color: #00af00\">0</span> │\n",
              "├─────────────────────────────────┼────────────────────────┼───────────────┤\n",
              "│ dense_3 (<span style=\"color: #0087ff; text-decoration-color: #0087ff\">Dense</span>)                 │ (<span style=\"color: #00d7ff; text-decoration-color: #00d7ff\">None</span>, <span style=\"color: #00af00; text-decoration-color: #00af00\">1</span>)              │           <span style=\"color: #00af00; text-decoration-color: #00af00\">513</span> │\n",
              "└─────────────────────────────────┴────────────────────────┴───────────────┘\n",
              "</pre>\n"
            ]
          },
          "metadata": {}
        },
        {
          "output_type": "display_data",
          "data": {
            "text/plain": [
              "\u001b[1m Total params: \u001b[0m\u001b[38;5;34m19,265,729\u001b[0m (73.49 MB)\n"
            ],
            "text/html": [
              "<pre style=\"white-space:pre;overflow-x:auto;line-height:normal;font-family:Menlo,'DejaVu Sans Mono',consolas,'Courier New',monospace\"><span style=\"font-weight: bold\"> Total params: </span><span style=\"color: #00af00; text-decoration-color: #00af00\">19,265,729</span> (73.49 MB)\n",
              "</pre>\n"
            ]
          },
          "metadata": {}
        },
        {
          "output_type": "display_data",
          "data": {
            "text/plain": [
              "\u001b[1m Trainable params: \u001b[0m\u001b[38;5;34m19,264,769\u001b[0m (73.49 MB)\n"
            ],
            "text/html": [
              "<pre style=\"white-space:pre;overflow-x:auto;line-height:normal;font-family:Menlo,'DejaVu Sans Mono',consolas,'Courier New',monospace\"><span style=\"font-weight: bold\"> Trainable params: </span><span style=\"color: #00af00; text-decoration-color: #00af00\">19,264,769</span> (73.49 MB)\n",
              "</pre>\n"
            ]
          },
          "metadata": {}
        },
        {
          "output_type": "display_data",
          "data": {
            "text/plain": [
              "\u001b[1m Non-trainable params: \u001b[0m\u001b[38;5;34m960\u001b[0m (3.75 KB)\n"
            ],
            "text/html": [
              "<pre style=\"white-space:pre;overflow-x:auto;line-height:normal;font-family:Menlo,'DejaVu Sans Mono',consolas,'Courier New',monospace\"><span style=\"font-weight: bold\"> Non-trainable params: </span><span style=\"color: #00af00; text-decoration-color: #00af00\">960</span> (3.75 KB)\n",
              "</pre>\n"
            ]
          },
          "metadata": {}
        }
      ]
    },
    {
      "cell_type": "markdown",
      "source": [
        "train the model and measure the time"
      ],
      "metadata": {
        "id": "Qp_BkzuCmCCb"
      }
    },
    {
      "cell_type": "code",
      "source": [
        "import time\n",
        "\n",
        "start_train_time = time.time()\n",
        "\n",
        "history = scratch_model.fit(\n",
        "    train_generator,\n",
        "    validation_data=val_generator,\n",
        "    epochs=15\n",
        ")\n",
        "\n",
        "end_train_time = time.time()\n",
        "\n",
        "train_time_minutes = (end_train_time - start_train_time) // 60\n",
        "train_time_seconds = (end_train_time - start_train_time) % 60\n",
        "\n",
        "print(f\"✅ Training Time: {int(train_time_minutes)} minutes {int(train_time_seconds)} seconds\")"
      ],
      "metadata": {
        "colab": {
          "base_uri": "https://localhost:8080/"
        },
        "id": "iugZnYqCmFr4",
        "outputId": "7e7e0d12-e36d-440d-ae75-cd28b66a3401"
      },
      "execution_count": 17,
      "outputs": [
        {
          "output_type": "stream",
          "name": "stderr",
          "text": [
            "/usr/local/lib/python3.11/dist-packages/keras/src/trainers/data_adapters/py_dataset_adapter.py:121: UserWarning: Your `PyDataset` class should call `super().__init__(**kwargs)` in its constructor. `**kwargs` can include `workers`, `use_multiprocessing`, `max_queue_size`. Do not pass these arguments to `fit()`, as they will be ignored.\n",
            "  self._warn_if_super_not_called()\n"
          ]
        },
        {
          "output_type": "stream",
          "name": "stdout",
          "text": [
            "Epoch 1/15\n",
            "\u001b[1m14/14\u001b[0m \u001b[32m━━━━━━━━━━━━━━━━━━━━\u001b[0m\u001b[37m\u001b[0m \u001b[1m29s\u001b[0m 2s/step - accuracy: 0.6308 - loss: 2.4519 - val_accuracy: 0.5000 - val_loss: 0.7335\n",
            "Epoch 2/15\n",
            "\u001b[1m14/14\u001b[0m \u001b[32m━━━━━━━━━━━━━━━━━━━━\u001b[0m\u001b[37m\u001b[0m \u001b[1m25s\u001b[0m 2s/step - accuracy: 0.8959 - loss: 0.4176 - val_accuracy: 0.5000 - val_loss: 0.8352\n",
            "Epoch 3/15\n",
            "\u001b[1m14/14\u001b[0m \u001b[32m━━━━━━━━━━━━━━━━━━━━\u001b[0m\u001b[37m\u001b[0m \u001b[1m23s\u001b[0m 2s/step - accuracy: 0.9266 - loss: 0.3121 - val_accuracy: 0.5000 - val_loss: 0.7847\n",
            "Epoch 4/15\n",
            "\u001b[1m14/14\u001b[0m \u001b[32m━━━━━━━━━━━━━━━━━━━━\u001b[0m\u001b[37m\u001b[0m \u001b[1m24s\u001b[0m 2s/step - accuracy: 0.9770 - loss: 0.0339 - val_accuracy: 0.5000 - val_loss: 0.8458\n",
            "Epoch 5/15\n",
            "\u001b[1m14/14\u001b[0m \u001b[32m━━━━━━━━━━━━━━━━━━━━\u001b[0m\u001b[37m\u001b[0m \u001b[1m23s\u001b[0m 2s/step - accuracy: 1.0000 - loss: 7.4208e-04 - val_accuracy: 0.5000 - val_loss: 1.1371\n",
            "Epoch 6/15\n",
            "\u001b[1m14/14\u001b[0m \u001b[32m━━━━━━━━━━━━━━━━━━━━\u001b[0m\u001b[37m\u001b[0m \u001b[1m40s\u001b[0m 2s/step - accuracy: 1.0000 - loss: 7.4829e-04 - val_accuracy: 0.5000 - val_loss: 1.3008\n",
            "Epoch 7/15\n",
            "\u001b[1m14/14\u001b[0m \u001b[32m━━━━━━━━━━━━━━━━━━━━\u001b[0m\u001b[37m\u001b[0m \u001b[1m21s\u001b[0m 2s/step - accuracy: 1.0000 - loss: 7.9108e-07 - val_accuracy: 0.5000 - val_loss: 1.4068\n",
            "Epoch 8/15\n",
            "\u001b[1m14/14\u001b[0m \u001b[32m━━━━━━━━━━━━━━━━━━━━\u001b[0m\u001b[37m\u001b[0m \u001b[1m24s\u001b[0m 2s/step - accuracy: 1.0000 - loss: 9.6874e-04 - val_accuracy: 0.5000 - val_loss: 1.4033\n",
            "Epoch 9/15\n",
            "\u001b[1m14/14\u001b[0m \u001b[32m━━━━━━━━━━━━━━━━━━━━\u001b[0m\u001b[37m\u001b[0m \u001b[1m24s\u001b[0m 2s/step - accuracy: 1.0000 - loss: 8.0438e-06 - val_accuracy: 0.5000 - val_loss: 1.3996\n",
            "Epoch 10/15\n",
            "\u001b[1m14/14\u001b[0m \u001b[32m━━━━━━━━━━━━━━━━━━━━\u001b[0m\u001b[37m\u001b[0m \u001b[1m22s\u001b[0m 2s/step - accuracy: 1.0000 - loss: 7.2243e-06 - val_accuracy: 0.5000 - val_loss: 1.3914\n",
            "Epoch 11/15\n",
            "\u001b[1m14/14\u001b[0m \u001b[32m━━━━━━━━━━━━━━━━━━━━\u001b[0m\u001b[37m\u001b[0m \u001b[1m44s\u001b[0m 2s/step - accuracy: 1.0000 - loss: 1.0586e-05 - val_accuracy: 0.5000 - val_loss: 1.3575\n",
            "Epoch 12/15\n",
            "\u001b[1m14/14\u001b[0m \u001b[32m━━━━━━━━━━━━━━━━━━━━\u001b[0m\u001b[37m\u001b[0m \u001b[1m22s\u001b[0m 2s/step - accuracy: 1.0000 - loss: 2.6757e-05 - val_accuracy: 0.5000 - val_loss: 1.2901\n",
            "Epoch 13/15\n",
            "\u001b[1m14/14\u001b[0m \u001b[32m━━━━━━━━━━━━━━━━━━━━\u001b[0m\u001b[37m\u001b[0m \u001b[1m21s\u001b[0m 1s/step - accuracy: 1.0000 - loss: 8.1870e-05 - val_accuracy: 0.5000 - val_loss: 1.1892\n",
            "Epoch 14/15\n",
            "\u001b[1m14/14\u001b[0m \u001b[32m━━━━━━━━━━━━━━━━━━━━\u001b[0m\u001b[37m\u001b[0m \u001b[1m22s\u001b[0m 2s/step - accuracy: 1.0000 - loss: 1.6377e-06 - val_accuracy: 0.5000 - val_loss: 1.0687\n",
            "Epoch 15/15\n",
            "\u001b[1m14/14\u001b[0m \u001b[32m━━━━━━━━━━━━━━━━━━━━\u001b[0m\u001b[37m\u001b[0m \u001b[1m22s\u001b[0m 2s/step - accuracy: 1.0000 - loss: 3.3285e-06 - val_accuracy: 0.5000 - val_loss: 0.9176\n",
            "✅ Training Time: 6 minutes 25 seconds\n"
          ]
        }
      ]
    },
    {
      "cell_type": "markdown",
      "source": [
        "Make Predictions"
      ],
      "metadata": {
        "id": "-9s4olx0mLhD"
      }
    },
    {
      "cell_type": "code",
      "source": [
        "from sklearn.metrics import classification_report, f1_score, accuracy_score\n",
        "import numpy as np\n",
        "\n",
        "start_pred_time = time.time()\n",
        "\n",
        "y_true = test_generator.classes\n",
        "y_pred_probs = scratch_model.predict(test_generator)\n",
        "y_pred = (y_pred_probs > 0.5).astype(int).flatten()\n",
        "\n",
        "end_pred_time = time.time()\n",
        "\n",
        "pred_time_minutes = (end_pred_time - start_pred_time) // 60\n",
        "pred_time_seconds = (end_pred_time - start_pred_time) % 60\n",
        "\n",
        "print(f\"✅ Prediction Time: {int(pred_time_minutes)} minutes {int(pred_time_seconds)} seconds\")"
      ],
      "metadata": {
        "colab": {
          "base_uri": "https://localhost:8080/"
        },
        "id": "WY6tlVFEmNZa",
        "outputId": "10e61df8-de8d-42bb-e2dd-5dab44596757"
      },
      "execution_count": 18,
      "outputs": [
        {
          "output_type": "stream",
          "name": "stdout",
          "text": [
            "\u001b[1m66/66\u001b[0m \u001b[32m━━━━━━━━━━━━━━━━━━━━\u001b[0m\u001b[37m\u001b[0m \u001b[1m3s\u001b[0m 46ms/step\n",
            "✅ Prediction Time: 0 minutes 3 seconds\n"
          ]
        }
      ]
    },
    {
      "cell_type": "markdown",
      "source": [
        "Evaluate the model"
      ],
      "metadata": {
        "id": "B5-QU89DmOYX"
      }
    },
    {
      "cell_type": "code",
      "source": [
        "from sklearn.metrics import classification_report, f1_score, accuracy_score\n",
        "import numpy as np\n",
        "\n",
        "# Evaluation on ToyConveyor Test Set\n",
        "test_accuracy = accuracy_score(y_true, y_pred)\n",
        "test_f1 = f1_score(y_true, y_pred)\n",
        "\n",
        "print(\"🔎 Evaluation Results on ToyConveyor Test Set:\")\n",
        "print(f\"✅ Test Accuracy (ToyConveyor): {test_accuracy:.4f}\")\n",
        "print(f\"✅ Test F1 Score (ToyConveyor): {test_f1:.4f}\")\n",
        "\n",
        "print(\"\\n📝 Classification Report (ToyConveyor):\")\n",
        "print(classification_report(y_true, y_pred, target_names=[\"normal\", \"anomaly\"]))"
      ],
      "metadata": {
        "colab": {
          "base_uri": "https://localhost:8080/"
        },
        "id": "gPxopF7PmQVG",
        "outputId": "fe7d4775-8325-4785-9276-a3dc8557a59c"
      },
      "execution_count": 19,
      "outputs": [
        {
          "output_type": "stream",
          "name": "stdout",
          "text": [
            "🔎 Evaluation Results on ToyConveyor Test Set:\n",
            "✅ Test Accuracy (ToyConveyor): 0.5000\n",
            "✅ Test F1 Score (ToyConveyor): 0.0000\n",
            "\n",
            "📝 Classification Report (ToyConveyor):\n",
            "              precision    recall  f1-score   support\n",
            "\n",
            "      normal       0.50      1.00      0.67        33\n",
            "     anomaly       0.00      0.00      0.00        33\n",
            "\n",
            "    accuracy                           0.50        66\n",
            "   macro avg       0.25      0.50      0.33        66\n",
            "weighted avg       0.25      0.50      0.33        66\n",
            "\n"
          ]
        },
        {
          "output_type": "stream",
          "name": "stderr",
          "text": [
            "/usr/local/lib/python3.11/dist-packages/sklearn/metrics/_classification.py:1565: UndefinedMetricWarning: Precision is ill-defined and being set to 0.0 in labels with no predicted samples. Use `zero_division` parameter to control this behavior.\n",
            "  _warn_prf(average, modifier, f\"{metric.capitalize()} is\", len(result))\n",
            "/usr/local/lib/python3.11/dist-packages/sklearn/metrics/_classification.py:1565: UndefinedMetricWarning: Precision is ill-defined and being set to 0.0 in labels with no predicted samples. Use `zero_division` parameter to control this behavior.\n",
            "  _warn_prf(average, modifier, f\"{metric.capitalize()} is\", len(result))\n",
            "/usr/local/lib/python3.11/dist-packages/sklearn/metrics/_classification.py:1565: UndefinedMetricWarning: Precision is ill-defined and being set to 0.0 in labels with no predicted samples. Use `zero_division` parameter to control this behavior.\n",
            "  _warn_prf(average, modifier, f\"{metric.capitalize()} is\", len(result))\n"
          ]
        }
      ]
    },
    {
      "cell_type": "markdown",
      "source": [
        "Save the model in order to proceed with transfer learning"
      ],
      "metadata": {
        "id": "A3sY_oMim4GG"
      }
    },
    {
      "cell_type": "code",
      "source": [
        "# Save the model\n",
        "scratch_model.save('scratch_trained_model.h5')\n",
        "\n",
        "print(\"✅ Model trained on ToyCar + ToyTrain saved as 'scratch_trained_model.h5'.\")"
      ],
      "metadata": {
        "colab": {
          "base_uri": "https://localhost:8080/"
        },
        "id": "b5uxr-Bnmi_v",
        "outputId": "da671e3c-2dcf-4187-978b-30c5f7ee3f59"
      },
      "execution_count": 20,
      "outputs": [
        {
          "output_type": "stream",
          "name": "stderr",
          "text": [
            "WARNING:absl:You are saving your model as an HDF5 file via `model.save()` or `keras.saving.save_model(model)`. This file format is considered legacy. We recommend using instead the native Keras format, e.g. `model.save('my_model.keras')` or `keras.saving.save_model(model, 'my_model.keras')`. \n"
          ]
        },
        {
          "output_type": "stream",
          "name": "stdout",
          "text": [
            "✅ Model trained on ToyCar + ToyTrain saved as 'scratch_trained_model.h5'.\n"
          ]
        }
      ]
    },
    {
      "cell_type": "markdown",
      "source": [
        "### Load the model again"
      ],
      "metadata": {
        "id": "7kXBZmNfnKo3"
      }
    },
    {
      "cell_type": "code",
      "source": [
        "from tensorflow.keras.models import load_model\n",
        "\n",
        "# Load the saved model\n",
        "transfer_model = load_model('scratch_trained_model.h5')\n",
        "\n",
        "print(\"✅ Model loaded successfully and ready for fine-tuning!\")"
      ],
      "metadata": {
        "colab": {
          "base_uri": "https://localhost:8080/"
        },
        "id": "H0rKgr_8nH-Z",
        "outputId": "113838f9-b41a-4598-fc59-93ab720b9fb2"
      },
      "execution_count": 21,
      "outputs": [
        {
          "output_type": "stream",
          "name": "stderr",
          "text": [
            "WARNING:absl:Compiled the loaded model, but the compiled metrics have yet to be built. `model.compile_metrics` will be empty until you train or evaluate the model.\n"
          ]
        },
        {
          "output_type": "stream",
          "name": "stdout",
          "text": [
            "✅ Model loaded successfully and ready for fine-tuning!\n"
          ]
        }
      ]
    },
    {
      "cell_type": "code",
      "source": [
        "from tensorflow.keras.preprocessing.image import ImageDataGenerator\n",
        "\n",
        "# Fine-tuning only on ToyConveyor\n",
        "fine_tune_datagen = ImageDataGenerator(rescale=1./255, validation_split=0.2)\n",
        "\n",
        "fine_tune_train_generator = fine_tune_datagen.flow_from_directory(\n",
        "    'proper_split/test',       # ToyConveyor data is here\n",
        "    target_size=(224, 224),\n",
        "    batch_size=8,\n",
        "    class_mode='binary',\n",
        "    subset='training'\n",
        ")\n",
        "\n",
        "fine_tune_val_generator = fine_tune_datagen.flow_from_directory(\n",
        "    'proper_split/test',\n",
        "    target_size=(224, 224),\n",
        "    batch_size=8,\n",
        "    class_mode='binary',\n",
        "    subset='validation'\n",
        ")"
      ],
      "metadata": {
        "colab": {
          "base_uri": "https://localhost:8080/"
        },
        "id": "N5gKQzPyo6Yi",
        "outputId": "e886bc99-bcd6-430e-bf93-331172f7d778"
      },
      "execution_count": 22,
      "outputs": [
        {
          "output_type": "stream",
          "name": "stdout",
          "text": [
            "Found 54 images belonging to 2 classes.\n",
            "Found 12 images belonging to 2 classes.\n"
          ]
        }
      ]
    },
    {
      "cell_type": "code",
      "source": [
        "from tensorflow.keras.optimizers import Adam\n",
        "\n",
        "# Re-compile with smaller learning rate\n",
        "transfer_model.compile(optimizer=Adam(learning_rate=1e-5),\n",
        "                       loss='binary_crossentropy',\n",
        "                       metrics=['accuracy'])\n",
        "\n",
        "print(\"✅ Model recompiled with smaller learning rate for fine-tuning.\")"
      ],
      "metadata": {
        "colab": {
          "base_uri": "https://localhost:8080/"
        },
        "id": "UB-4KK1OpCke",
        "outputId": "09cc3e4a-28c4-41b0-fd50-a083bfff08d7"
      },
      "execution_count": 23,
      "outputs": [
        {
          "output_type": "stream",
          "name": "stdout",
          "text": [
            "✅ Model recompiled with smaller learning rate for fine-tuning.\n"
          ]
        }
      ]
    },
    {
      "cell_type": "code",
      "source": [
        "import time\n",
        "\n",
        "# Start fine-tuning timer\n",
        "start_fine_tune_time = time.time()\n",
        "\n",
        "# Fine-tune the model\n",
        "history_ft = transfer_model.fit(\n",
        "    fine_tune_train_generator,\n",
        "    validation_data=fine_tune_val_generator,\n",
        "    epochs=10\n",
        ")\n",
        "\n",
        "# End fine-tuning timer\n",
        "end_fine_tune_time = time.time()\n",
        "\n",
        "# Report fine-tuning time\n",
        "fine_tune_minutes = (end_fine_tune_time - start_fine_tune_time) // 60\n",
        "fine_tune_seconds = (end_fine_tune_time - start_fine_tune_time) % 60\n",
        "\n",
        "print(f\"✅ Fine-Tuning Time: {int(fine_tune_minutes)} minutes {int(fine_tune_seconds)} seconds\")"
      ],
      "metadata": {
        "colab": {
          "base_uri": "https://localhost:8080/"
        },
        "id": "asixfvpcpHDq",
        "outputId": "ab2a860d-6d3c-42bf-f883-398d510772a2"
      },
      "execution_count": 24,
      "outputs": [
        {
          "output_type": "stream",
          "name": "stderr",
          "text": [
            "/usr/local/lib/python3.11/dist-packages/keras/src/trainers/data_adapters/py_dataset_adapter.py:121: UserWarning: Your `PyDataset` class should call `super().__init__(**kwargs)` in its constructor. `**kwargs` can include `workers`, `use_multiprocessing`, `max_queue_size`. Do not pass these arguments to `fit()`, as they will be ignored.\n",
            "  self._warn_if_super_not_called()\n"
          ]
        },
        {
          "output_type": "stream",
          "name": "stdout",
          "text": [
            "Epoch 1/10\n",
            "\u001b[1m7/7\u001b[0m \u001b[32m━━━━━━━━━━━━━━━━━━━━\u001b[0m\u001b[37m\u001b[0m \u001b[1m18s\u001b[0m 2s/step - accuracy: 0.9852 - loss: 0.1826 - val_accuracy: 0.5833 - val_loss: 0.5548\n",
            "Epoch 2/10\n",
            "\u001b[1m7/7\u001b[0m \u001b[32m━━━━━━━━━━━━━━━━━━━━\u001b[0m\u001b[37m\u001b[0m \u001b[1m19s\u001b[0m 2s/step - accuracy: 1.0000 - loss: 0.0087 - val_accuracy: 0.5833 - val_loss: 0.4700\n",
            "Epoch 3/10\n",
            "\u001b[1m7/7\u001b[0m \u001b[32m━━━━━━━━━━━━━━━━━━━━\u001b[0m\u001b[37m\u001b[0m \u001b[1m11s\u001b[0m 2s/step - accuracy: 1.0000 - loss: 1.9350e-04 - val_accuracy: 0.8333 - val_loss: 0.4034\n",
            "Epoch 4/10\n",
            "\u001b[1m7/7\u001b[0m \u001b[32m━━━━━━━━━━━━━━━━━━━━\u001b[0m\u001b[37m\u001b[0m \u001b[1m11s\u001b[0m 2s/step - accuracy: 1.0000 - loss: 5.0640e-06 - val_accuracy: 1.0000 - val_loss: 0.3610\n",
            "Epoch 5/10\n",
            "\u001b[1m7/7\u001b[0m \u001b[32m━━━━━━━━━━━━━━━━━━━━\u001b[0m\u001b[37m\u001b[0m \u001b[1m11s\u001b[0m 2s/step - accuracy: 1.0000 - loss: 0.0012 - val_accuracy: 1.0000 - val_loss: 0.3216\n",
            "Epoch 6/10\n",
            "\u001b[1m7/7\u001b[0m \u001b[32m━━━━━━━━━━━━━━━━━━━━\u001b[0m\u001b[37m\u001b[0m \u001b[1m11s\u001b[0m 1s/step - accuracy: 1.0000 - loss: 8.4734e-05 - val_accuracy: 1.0000 - val_loss: 0.2835\n",
            "Epoch 7/10\n",
            "\u001b[1m7/7\u001b[0m \u001b[32m━━━━━━━━━━━━━━━━━━━━\u001b[0m\u001b[37m\u001b[0m \u001b[1m21s\u001b[0m 2s/step - accuracy: 1.0000 - loss: 9.1982e-04 - val_accuracy: 1.0000 - val_loss: 0.2556\n",
            "Epoch 8/10\n",
            "\u001b[1m7/7\u001b[0m \u001b[32m━━━━━━━━━━━━━━━━━━━━\u001b[0m\u001b[37m\u001b[0m \u001b[1m11s\u001b[0m 2s/step - accuracy: 1.0000 - loss: 6.2909e-07 - val_accuracy: 1.0000 - val_loss: 0.2350\n",
            "Epoch 9/10\n",
            "\u001b[1m7/7\u001b[0m \u001b[32m━━━━━━━━━━━━━━━━━━━━\u001b[0m\u001b[37m\u001b[0m \u001b[1m11s\u001b[0m 2s/step - accuracy: 1.0000 - loss: 6.5081e-08 - val_accuracy: 1.0000 - val_loss: 0.2227\n",
            "Epoch 10/10\n",
            "\u001b[1m7/7\u001b[0m \u001b[32m━━━━━━━━━━━━━━━━━━━━\u001b[0m\u001b[37m\u001b[0m \u001b[1m11s\u001b[0m 2s/step - accuracy: 1.0000 - loss: 7.1172e-06 - val_accuracy: 1.0000 - val_loss: 0.2154\n",
            "✅ Fine-Tuning Time: 2 minutes 24 seconds\n"
          ]
        }
      ]
    },
    {
      "cell_type": "code",
      "source": [
        "# Reuse ToyConveyor full test set (without subset)\n",
        "full_test_datagen = ImageDataGenerator(rescale=1./255)\n",
        "\n",
        "full_test_generator = full_test_datagen.flow_from_directory(\n",
        "    'proper_split/test',\n",
        "    target_size=(224, 224),\n",
        "    batch_size=1,\n",
        "    class_mode='binary',\n",
        "    shuffle=False\n",
        ")\n",
        "\n",
        "# Start prediction timer\n",
        "start_pred_ft_time = time.time()\n",
        "\n",
        "# Predict\n",
        "y_true_ft = full_test_generator.classes\n",
        "y_pred_probs_ft = transfer_model.predict(full_test_generator)\n",
        "y_pred_ft = (y_pred_probs_ft > 0.5).astype(int).flatten()\n",
        "\n",
        "# End prediction timer\n",
        "end_pred_ft_time = time.time()\n",
        "\n",
        "pred_ft_minutes = (end_pred_ft_time - start_pred_ft_time) // 60\n",
        "pred_ft_seconds = (end_pred_ft_time - start_pred_ft_time) % 60\n",
        "\n",
        "print(f\"✅ Prediction Time After Fine-Tuning: {int(pred_ft_minutes)} minutes {int(pred_ft_seconds)} seconds\")"
      ],
      "metadata": {
        "colab": {
          "base_uri": "https://localhost:8080/"
        },
        "id": "Dv388okSpLGc",
        "outputId": "7446c66e-35fa-439b-a116-b9b10882e8e6"
      },
      "execution_count": 25,
      "outputs": [
        {
          "output_type": "stream",
          "name": "stdout",
          "text": [
            "Found 66 images belonging to 2 classes.\n",
            "\u001b[1m66/66\u001b[0m \u001b[32m━━━━━━━━━━━━━━━━━━━━\u001b[0m\u001b[37m\u001b[0m \u001b[1m3s\u001b[0m 45ms/step\n",
            "✅ Prediction Time After Fine-Tuning: 0 minutes 3 seconds\n"
          ]
        }
      ]
    },
    {
      "cell_type": "code",
      "source": [
        "from sklearn.metrics import classification_report, accuracy_score, f1_score\n",
        "\n",
        "# Metrics\n",
        "ft_accuracy = accuracy_score(y_true_ft, y_pred_ft)\n",
        "ft_f1 = f1_score(y_true_ft, y_pred_ft)\n",
        "\n",
        "print(\"\\n🔎 Evaluation Results After Fine-Tuning on ToyConveyor:\")\n",
        "print(f\"✅ Test Accuracy (Fine-Tuned): {ft_accuracy:.4f}\")\n",
        "print(f\"✅ Test F1 Score (Fine-Tuned): {ft_f1:.4f}\")\n",
        "\n",
        "print(\"\\n📝 Classification Report (Fine-Tuned on ToyConveyor):\")\n",
        "print(classification_report(y_true_ft, y_pred_ft, target_names=[\"normal\", \"anomaly\"]))"
      ],
      "metadata": {
        "colab": {
          "base_uri": "https://localhost:8080/"
        },
        "id": "Ar4O5ofNpO81",
        "outputId": "586edcdb-1ab3-45c0-aede-f8f90edcc6bc"
      },
      "execution_count": 26,
      "outputs": [
        {
          "output_type": "stream",
          "name": "stdout",
          "text": [
            "\n",
            "🔎 Evaluation Results After Fine-Tuning on ToyConveyor:\n",
            "✅ Test Accuracy (Fine-Tuned): 0.9394\n",
            "✅ Test F1 Score (Fine-Tuned): 0.9429\n",
            "\n",
            "📝 Classification Report (Fine-Tuned on ToyConveyor):\n",
            "              precision    recall  f1-score   support\n",
            "\n",
            "      normal       1.00      0.88      0.94        33\n",
            "     anomaly       0.89      1.00      0.94        33\n",
            "\n",
            "    accuracy                           0.94        66\n",
            "   macro avg       0.95      0.94      0.94        66\n",
            "weighted avg       0.95      0.94      0.94        66\n",
            "\n"
          ]
        }
      ]
    },
    {
      "cell_type": "markdown",
      "source": [
        "Based on the results, there was no negative transfer. I had a positive transfer"
      ],
      "metadata": {
        "id": "Dt8jkbXTqUpH"
      }
    },
    {
      "cell_type": "code",
      "source": [
        "##### Comparing results- without transfer learning and with transfer learning on ToyConveyor"
      ],
      "metadata": {
        "id": "gWxQj3KmqTVc"
      },
      "execution_count": 28,
      "outputs": []
    },
    {
      "cell_type": "code",
      "source": [
        "import pandas as pd\n",
        "\n",
        "# Create comparison table\n",
        "results_df = pd.DataFrame({\n",
        "    'Model Type': ['Without Transfer Learning', 'With Transfer Learning'],\n",
        "    'Accuracy': [0.5000, 0.9394],\n",
        "    'F1 Score': [0.0000, 0.9429]\n",
        "})\n",
        "\n",
        "# Display the table\n",
        "print(results_df)"
      ],
      "metadata": {
        "colab": {
          "base_uri": "https://localhost:8080/"
        },
        "id": "ds724_HZq-VW",
        "outputId": "d76d0de0-32c4-4202-eda2-dd07e74769f6"
      },
      "execution_count": 31,
      "outputs": [
        {
          "output_type": "stream",
          "name": "stdout",
          "text": [
            "                  Model Type  Accuracy  F1 Score\n",
            "0  Without Transfer Learning    0.5000    0.0000\n",
            "1     With Transfer Learning    0.9394    0.9429\n"
          ]
        }
      ]
    },
    {
      "cell_type": "code",
      "source": [
        "import matplotlib.pyplot as plt\n",
        "import numpy as np\n",
        "\n",
        "# Data\n",
        "models = ['Without Transfer Learning', 'With Transfer Learning']\n",
        "accuracy = [0.5000, 0.9394]\n",
        "f1_scores = [0.0000, 0.9429]\n",
        "\n",
        "x = np.arange(len(models))  # label locations\n",
        "width = 0.35  # width of the bars\n",
        "\n",
        "# Create the plot\n",
        "fig, ax = plt.subplots(figsize=(8, 6))\n",
        "\n",
        "bars1 = ax.bar(x - width/2, accuracy, width, label='Accuracy')\n",
        "bars2 = ax.bar(x + width/2, f1_scores, width, label='F1 Score')\n",
        "\n",
        "# Labels and title\n",
        "ax.set_ylabel('Score')\n",
        "ax.set_title('Performance Comparison on ToyConveyor: Without vs With Transfer Learning')\n",
        "ax.set_xticks(x)\n",
        "ax.set_xticklabels(models, rotation=15)\n",
        "ax.legend()\n",
        "\n",
        "# Add numbers above bars\n",
        "for bar in bars1 + bars2:\n",
        "    height = bar.get_height()\n",
        "    ax.annotate(f'{height:.2f}',\n",
        "                xy=(bar.get_x() + bar.get_width() / 2, height),\n",
        "                xytext=(0, 3),\n",
        "                textcoords=\"offset points\",\n",
        "                ha='center', va='bottom')\n",
        "\n",
        "plt.ylim(0, 1.1)\n",
        "plt.grid(True, linestyle='--', alpha=0.6)\n",
        "plt.tight_layout()\n",
        "plt.show()\n"
      ],
      "metadata": {
        "colab": {
          "base_uri": "https://localhost:8080/",
          "height": 607
        },
        "id": "WHV2EPqSrX5c",
        "outputId": "5ae69b4c-e456-4e46-c922-3bdad682452c"
      },
      "execution_count": 33,
      "outputs": [
        {
          "output_type": "display_data",
          "data": {
            "text/plain": [
              "<Figure size 800x600 with 1 Axes>"
            ],
            "image/png": "[encoded data removed]"
          },
          "metadata": {}
        }
      ]
    }
  ]
}